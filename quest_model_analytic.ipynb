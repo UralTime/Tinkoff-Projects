{
 "cells": [
  {
   "cell_type": "markdown",
   "id": "68b67f11",
   "metadata": {},
   "source": [
    "# АНАЛИЗ КОНВЕРСИЙ ПО БАЗЕ ДАННЫХ ТИНЬКОФФ-КВЕСТ"
   ]
  },
  {
   "cell_type": "markdown",
   "id": "b531cb88",
   "metadata": {},
   "source": [
    "Импортируем необходимые библиотеки"
   ]
  },
  {
   "cell_type": "code",
   "execution_count": 180,
   "id": "b89a0d58",
   "metadata": {},
   "outputs": [],
   "source": [
    "import numpy as np\n",
    "import pandas as pd\n",
    "from matplotlib import pyplot as plt\n",
    "from plotly import graph_objects as go"
   ]
  },
  {
   "cell_type": "code",
   "execution_count": 181,
   "id": "702b0de9",
   "metadata": {},
   "outputs": [
    {
     "name": "stdout",
     "output_type": "stream",
     "text": [
      "Defaulting to user installation because normal site-packages is not writeable\n",
      "Requirement already satisfied: psycopg2 in c:\\users\\vsevo\\appdata\\roaming\\python\\python39\\site-packages (2.9.5)\n",
      "Note: you may need to restart the kernel to use updated packages.\n"
     ]
    }
   ],
   "source": [
    "pip install psycopg2"
   ]
  },
  {
   "cell_type": "markdown",
   "id": "f62b40f4",
   "metadata": {},
   "source": [
    "Подключаемся к базе данных:"
   ]
  },
  {
   "cell_type": "code",
   "execution_count": 192,
   "id": "8baa0174",
   "metadata": {},
   "outputs": [],
   "source": [
    "import psycopg2\n",
    "connection = psycopg2.connect(database=\"postgres\", user=\"student\", password=\"JvLda93aA\", host=\"158.160.52.106\", port=\"5432\")\n",
    "cursor = connection.cursor()"
   ]
  },
  {
   "cell_type": "markdown",
   "id": "3010cae0",
   "metadata": {},
   "source": [
    "Посчитаем по месяцам, сколько клиентов посещает наш сайт, и какая доля из них регистрируется на нем \\ подает заявку на игру \\ по факту приходит на неё:"
   ]
  },
  {
   "cell_type": "code",
   "execution_count": 183,
   "id": "617db814",
   "metadata": {
    "scrolled": true
   },
   "outputs": [],
   "source": [
    "cursor.execute(\n",
    "'''\n",
    "select \n",
    " mm, \n",
    " count(client) as visit_cnt, \n",
    " count(account) as account_cnt, \n",
    " sum(application) as app_cnt,\n",
    " sum(game) as game_cnt\n",
    "from\n",
    " (select \n",
    "   to_char(visit_dttm, 'YYYY-MM') as mm,\n",
    "   msu_analytics.client.client_rk as client, \n",
    "   msu_analytics.account.account_rk as account, \n",
    "   case when exists(select 1 from msu_analytics.application \n",
    "   \t where msu_analytics.account.account_rk = msu_analytics.application.account_rk) \n",
    "   \t then 1 else 0 end as application,\n",
    "   case when exists(select 1 from msu_analytics.game \n",
    "     inner join msu_analytics.application on msu_analytics.application.game_rk = msu_analytics.game.game_rk\n",
    "     where msu_analytics.game.game_flg = 1 and msu_analytics.account.account_rk = msu_analytics.application.account_rk) \n",
    "     then 1 else 0 end as game\n",
    " from msu_analytics.client\n",
    " left join msu_analytics.account on msu_analytics.client.client_rk = msu_analytics.account.client_rk\n",
    " ) as q\n",
    "group by mm\n",
    "order by mm\n",
    "''')\n",
    "result = cursor.fetchall()"
   ]
  },
  {
   "cell_type": "code",
   "execution_count": 184,
   "id": "2fbcc4b6",
   "metadata": {},
   "outputs": [
    {
     "data": {
      "text/plain": [
       "[('2022-09', 778, 190, 51, 39),\n",
       " ('2022-10', 843, 217, 65, 56),\n",
       " ('2022-11', 786, 200, 56, 50),\n",
       " ('2022-12', 805, 196, 57, 33),\n",
       " ('2023-01', 852, 213, 64, 20),\n",
       " ('2023-02', 32, 8, 0, 0)]"
      ]
     },
     "execution_count": 184,
     "metadata": {},
     "output_type": "execute_result"
    }
   ],
   "source": [
    "result"
   ]
  },
  {
   "cell_type": "code",
   "execution_count": 185,
   "id": "a681daad",
   "metadata": {},
   "outputs": [
    {
     "data": {
      "text/html": [
       "<div>\n",
       "<style scoped>\n",
       "    .dataframe tbody tr th:only-of-type {\n",
       "        vertical-align: middle;\n",
       "    }\n",
       "\n",
       "    .dataframe tbody tr th {\n",
       "        vertical-align: top;\n",
       "    }\n",
       "\n",
       "    .dataframe thead th {\n",
       "        text-align: right;\n",
       "    }\n",
       "</style>\n",
       "<table border=\"1\" class=\"dataframe\">\n",
       "  <thead>\n",
       "    <tr style=\"text-align: right;\">\n",
       "      <th></th>\n",
       "      <th>0</th>\n",
       "      <th>1</th>\n",
       "      <th>2</th>\n",
       "      <th>3</th>\n",
       "      <th>4</th>\n",
       "    </tr>\n",
       "  </thead>\n",
       "  <tbody>\n",
       "    <tr>\n",
       "      <th>0</th>\n",
       "      <td>2022-09</td>\n",
       "      <td>778</td>\n",
       "      <td>190</td>\n",
       "      <td>51</td>\n",
       "      <td>39</td>\n",
       "    </tr>\n",
       "    <tr>\n",
       "      <th>1</th>\n",
       "      <td>2022-10</td>\n",
       "      <td>843</td>\n",
       "      <td>217</td>\n",
       "      <td>65</td>\n",
       "      <td>56</td>\n",
       "    </tr>\n",
       "    <tr>\n",
       "      <th>2</th>\n",
       "      <td>2022-11</td>\n",
       "      <td>786</td>\n",
       "      <td>200</td>\n",
       "      <td>56</td>\n",
       "      <td>50</td>\n",
       "    </tr>\n",
       "    <tr>\n",
       "      <th>3</th>\n",
       "      <td>2022-12</td>\n",
       "      <td>805</td>\n",
       "      <td>196</td>\n",
       "      <td>57</td>\n",
       "      <td>33</td>\n",
       "    </tr>\n",
       "    <tr>\n",
       "      <th>4</th>\n",
       "      <td>2023-01</td>\n",
       "      <td>852</td>\n",
       "      <td>213</td>\n",
       "      <td>64</td>\n",
       "      <td>20</td>\n",
       "    </tr>\n",
       "    <tr>\n",
       "      <th>5</th>\n",
       "      <td>2023-02</td>\n",
       "      <td>32</td>\n",
       "      <td>8</td>\n",
       "      <td>0</td>\n",
       "      <td>0</td>\n",
       "    </tr>\n",
       "  </tbody>\n",
       "</table>\n",
       "</div>"
      ],
      "text/plain": [
       "         0    1    2   3   4\n",
       "0  2022-09  778  190  51  39\n",
       "1  2022-10  843  217  65  56\n",
       "2  2022-11  786  200  56  50\n",
       "3  2022-12  805  196  57  33\n",
       "4  2023-01  852  213  64  20\n",
       "5  2023-02   32    8   0   0"
      ]
     },
     "execution_count": 185,
     "metadata": {},
     "output_type": "execute_result"
    }
   ],
   "source": [
    "data = pd.DataFrame(result)\n",
    "data"
   ]
  },
  {
   "cell_type": "markdown",
   "id": "270020bb",
   "metadata": {},
   "source": [
    "Посчитаем собственно доли от общего числа визитов на сайт, выразим в процентах:"
   ]
  },
  {
   "cell_type": "code",
   "execution_count": 186,
   "id": "0e9874c4",
   "metadata": {},
   "outputs": [],
   "source": [
    "proc = [(100 * data[i + 2] / data[1]).astype(int).astype(str) + \"%\" for i in range(3)]"
   ]
  },
  {
   "cell_type": "code",
   "execution_count": 187,
   "id": "e1825688",
   "metadata": {},
   "outputs": [
    {
     "data": {
      "image/png": "[encoded data removed]",
      "text/plain": [
       "<Figure size 1000x500 with 1 Axes>"
      ]
     },
     "metadata": {},
     "output_type": "display_data"
    }
   ],
   "source": [
    "fig, ax = plt.subplots(figsize=(10, 5))\n",
    "x = np.array(data.index.tolist())\n",
    "rects1 = ax.bar(x, data[1], label='Посещения сайта')\n",
    "rects2 = ax.bar(x, data[2], label='Регистрации аккаунтов')\n",
    "rects3 = ax.bar(x, data[3], label='Регистрации на игру')\n",
    "rects4 = ax.bar(x, data[4], label='Пришедшие на игру')\n",
    "ax.set_xticks(x)\n",
    "ax.set_xticklabels(data[0])\n",
    "ax.legend()\n",
    "ax.bar_label(rects1, padding=5)\n",
    "ax.bar_label(rects2, labels = proc[0], padding=5)\n",
    "ax.bar_label(rects3, labels = proc[1], padding=5)\n",
    "ax.bar_label(rects4, labels = proc[2], label_type='center')\n",
    "fig.tight_layout()"
   ]
  },
  {
   "cell_type": "markdown",
   "id": "4d83aef9",
   "metadata": {},
   "source": [
    "### ПОЯСНЕНИЕ: здесь высота столбика отражает общее число людей, посетивших сайт. То есть чисто синим цветом покрашены уже те, кто посетил, но не зарегистрировался. Оранжевым - посетил и зарегистрировался, но не записался на игру. Зелёным - записался на игру, но не пришёл. Красным - те, кто пришёл на игру.\n",
    "\n",
    "### А дальше доли указаны от общего числа посещений.\n",
    "\n",
    "## То есть здесь не надо как-то пытаться понять, сколько было чисто синих для количества посещений. Нет, вот высота столбика это и есть количество посещений. Дальше смотрим высоту оранжевого - это и есть количество регистраций. А в процентах подписаны доли от посетителей сайта"
   ]
  },
  {
   "cell_type": "markdown",
   "id": "04f5bc36",
   "metadata": {},
   "source": [
    "Давайте теперь построим воронку, чтобы посмотреть не процент от изначальных визитов на сайте, а какой процент клиентов проходит дальше на каждом уровне. Давайте сначала посмотрим все месяцы на одном графике и значения по этой воронке, а потом можно какой-то месяц исследовать отдельно."
   ]
  },
  {
   "cell_type": "code",
   "execution_count": 188,
   "id": "cfc2c2d5",
   "metadata": {},
   "outputs": [
    {
     "data": {
      "application/vnd.plotly.v1+json": {
       "config": {
        "plotlyServerURL": "https://plot.ly"
       },
       "data": [
        {
         "name": "2022-09",
         "textinfo": "value+percent previous",
         "type": "funnel",
         "x": [
          "2022-09",
          778,
          190,
          51,
          39
         ],
         "y": [
          "",
          "Посещения сайта",
          "Регистрации аккаунтов",
          "Регистрации на игру",
          "Пришедшие на игру"
         ]
        },
        {
         "name": "2022-10",
         "textinfo": "value+percent previous",
         "type": "funnel",
         "x": [
          "2022-10",
          843,
          217,
          65,
          56
         ],
         "y": [
          "",
          "Посещения сайта",
          "Регистрации аккаунтов",
          "Регистрации на игру",
          "Пришедшие на игру"
         ]
        },
        {
         "name": "2022-11",
         "textinfo": "value+percent previous",
         "type": "funnel",
         "x": [
          "2022-11",
          786,
          200,
          56,
          50
         ],
         "y": [
          "",
          "Посещения сайта",
          "Регистрации аккаунтов",
          "Регистрации на игру",
          "Пришедшие на игру"
         ]
        },
        {
         "name": "2022-12",
         "textinfo": "value+percent previous",
         "type": "funnel",
         "x": [
          "2022-12",
          805,
          196,
          57,
          33
         ],
         "y": [
          "",
          "Посещения сайта",
          "Регистрации аккаунтов",
          "Регистрации на игру",
          "Пришедшие на игру"
         ]
        },
        {
         "name": "2023-01",
         "textinfo": "value+percent previous",
         "type": "funnel",
         "x": [
          "2023-01",
          852,
          213,
          64,
          20
         ],
         "y": [
          "",
          "Посещения сайта",
          "Регистрации аккаунтов",
          "Регистрации на игру",
          "Пришедшие на игру"
         ]
        },
        {
         "name": "2023-02",
         "textinfo": "value+percent previous",
         "type": "funnel",
         "x": [
          "2023-02",
          32,
          8,
          0,
          0
         ],
         "y": [
          "",
          "Посещения сайта",
          "Регистрации аккаунтов",
          "Регистрации на игру",
          "Пришедшие на игру"
         ]
        }
       ],
       "layout": {
        "autosize": false,
        "height": 1000,
        "template": {
         "data": {
          "bar": [
           {
            "error_x": {
             "color": "#2a3f5f"
            },
            "error_y": {
             "color": "#2a3f5f"
            },
            "marker": {
             "line": {
              "color": "#E5ECF6",
              "width": 0.5
             },
             "pattern": {
              "fillmode": "overlay",
              "size": 10,
              "solidity": 0.2
             }
            },
            "type": "bar"
           }
          ],
          "barpolar": [
           {
            "marker": {
             "line": {
              "color": "#E5ECF6",
              "width": 0.5
             },
             "pattern": {
              "fillmode": "overlay",
              "size": 10,
              "solidity": 0.2
             }
            },
            "type": "barpolar"
           }
          ],
          "carpet": [
           {
            "aaxis": {
             "endlinecolor": "#2a3f5f",
             "gridcolor": "white",
             "linecolor": "white",
             "minorgridcolor": "white",
             "startlinecolor": "#2a3f5f"
            },
            "baxis": {
             "endlinecolor": "#2a3f5f",
             "gridcolor": "white",
             "linecolor": "white",
             "minorgridcolor": "white",
             "startlinecolor": "#2a3f5f"
            },
            "type": "carpet"
           }
          ],
          "choropleth": [
           {
            "colorbar": {
             "outlinewidth": 0,
             "ticks": ""
            },
            "type": "choropleth"
           }
          ],
          "contour": [
           {
            "colorbar": {
             "outlinewidth": 0,
             "ticks": ""
            },
            "colorscale": [
             [
              0,
              "#0d0887"
             ],
             [
              0.1111111111111111,
              "#46039f"
             ],
             [
              0.2222222222222222,
              "#7201a8"
             ],
             [
              0.3333333333333333,
              "#9c179e"
             ],
             [
              0.4444444444444444,
              "#bd3786"
             ],
             [
              0.5555555555555556,
              "#d8576b"
             ],
             [
              0.6666666666666666,
              "#ed7953"
             ],
             [
              0.7777777777777778,
              "#fb9f3a"
             ],
             [
              0.8888888888888888,
              "#fdca26"
             ],
             [
              1,
              "#f0f921"
             ]
            ],
            "type": "contour"
           }
          ],
          "contourcarpet": [
           {
            "colorbar": {
             "outlinewidth": 0,
             "ticks": ""
            },
            "type": "contourcarpet"
           }
          ],
          "heatmap": [
           {
            "colorbar": {
             "outlinewidth": 0,
             "ticks": ""
            },
            "colorscale": [
             [
              0,
              "#0d0887"
             ],
             [
              0.1111111111111111,
              "#46039f"
             ],
             [
              0.2222222222222222,
              "#7201a8"
             ],
             [
              0.3333333333333333,
              "#9c179e"
             ],
             [
              0.4444444444444444,
              "#bd3786"
             ],
             [
              0.5555555555555556,
              "#d8576b"
             ],
             [
              0.6666666666666666,
              "#ed7953"
             ],
             [
              0.7777777777777778,
              "#fb9f3a"
             ],
             [
              0.8888888888888888,
              "#fdca26"
             ],
             [
              1,
              "#f0f921"
             ]
            ],
            "type": "heatmap"
           }
          ],
          "heatmapgl": [
           {
            "colorbar": {
             "outlinewidth": 0,
             "ticks": ""
            },
            "colorscale": [
             [
              0,
              "#0d0887"
             ],
             [
              0.1111111111111111,
              "#46039f"
             ],
             [
              0.2222222222222222,
              "#7201a8"
             ],
             [
              0.3333333333333333,
              "#9c179e"
             ],
             [
              0.4444444444444444,
              "#bd3786"
             ],
             [
              0.5555555555555556,
              "#d8576b"
             ],
             [
              0.6666666666666666,
              "#ed7953"
             ],
             [
              0.7777777777777778,
              "#fb9f3a"
             ],
             [
              0.8888888888888888,
              "#fdca26"
             ],
             [
              1,
              "#f0f921"
             ]
            ],
            "type": "heatmapgl"
           }
          ],
          "histogram": [
           {
            "marker": {
             "pattern": {
              "fillmode": "overlay",
              "size": 10,
              "solidity": 0.2
             }
            },
            "type": "histogram"
           }
          ],
          "histogram2d": [
           {
            "colorbar": {
             "outlinewidth": 0,
             "ticks": ""
            },
            "colorscale": [
             [
              0,
              "#0d0887"
             ],
             [
              0.1111111111111111,
              "#46039f"
             ],
             [
              0.2222222222222222,
              "#7201a8"
             ],
             [
              0.3333333333333333,
              "#9c179e"
             ],
             [
              0.4444444444444444,
              "#bd3786"
             ],
             [
              0.5555555555555556,
              "#d8576b"
             ],
             [
              0.6666666666666666,
              "#ed7953"
             ],
             [
              0.7777777777777778,
              "#fb9f3a"
             ],
             [
              0.8888888888888888,
              "#fdca26"
             ],
             [
              1,
              "#f0f921"
             ]
            ],
            "type": "histogram2d"
           }
          ],
          "histogram2dcontour": [
           {
            "colorbar": {
             "outlinewidth": 0,
             "ticks": ""
            },
            "colorscale": [
             [
              0,
              "#0d0887"
             ],
             [
              0.1111111111111111,
              "#46039f"
             ],
             [
              0.2222222222222222,
              "#7201a8"
             ],
             [
              0.3333333333333333,
              "#9c179e"
             ],
             [
              0.4444444444444444,
              "#bd3786"
             ],
             [
              0.5555555555555556,
              "#d8576b"
             ],
             [
              0.6666666666666666,
              "#ed7953"
             ],
             [
              0.7777777777777778,
              "#fb9f3a"
             ],
             [
              0.8888888888888888,
              "#fdca26"
             ],
             [
              1,
              "#f0f921"
             ]
            ],
            "type": "histogram2dcontour"
           }
          ],
          "mesh3d": [
           {
            "colorbar": {
             "outlinewidth": 0,
             "ticks": ""
            },
            "type": "mesh3d"
           }
          ],
          "parcoords": [
           {
            "line": {
             "colorbar": {
              "outlinewidth": 0,
              "ticks": ""
             }
            },
            "type": "parcoords"
           }
          ],
          "pie": [
           {
            "automargin": true,
            "type": "pie"
           }
          ],
          "scatter": [
           {
            "fillpattern": {
             "fillmode": "overlay",
             "size": 10,
             "solidity": 0.2
            },
            "type": "scatter"
           }
          ],
          "scatter3d": [
           {
            "line": {
             "colorbar": {
              "outlinewidth": 0,
              "ticks": ""
             }
            },
            "marker": {
             "colorbar": {
              "outlinewidth": 0,
              "ticks": ""
             }
            },
            "type": "scatter3d"
           }
          ],
          "scattercarpet": [
           {
            "marker": {
             "colorbar": {
              "outlinewidth": 0,
              "ticks": ""
             }
            },
            "type": "scattercarpet"
           }
          ],
          "scattergeo": [
           {
            "marker": {
             "colorbar": {
              "outlinewidth": 0,
              "ticks": ""
             }
            },
            "type": "scattergeo"
           }
          ],
          "scattergl": [
           {
            "marker": {
             "colorbar": {
              "outlinewidth": 0,
              "ticks": ""
             }
            },
            "type": "scattergl"
           }
          ],
          "scattermapbox": [
           {
            "marker": {
             "colorbar": {
              "outlinewidth": 0,
              "ticks": ""
             }
            },
            "type": "scattermapbox"
           }
          ],
          "scatterpolar": [
           {
            "marker": {
             "colorbar": {
              "outlinewidth": 0,
              "ticks": ""
             }
            },
            "type": "scatterpolar"
           }
          ],
          "scatterpolargl": [
           {
            "marker": {
             "colorbar": {
              "outlinewidth": 0,
              "ticks": ""
             }
            },
            "type": "scatterpolargl"
           }
          ],
          "scatterternary": [
           {
            "marker": {
             "colorbar": {
              "outlinewidth": 0,
              "ticks": ""
             }
            },
            "type": "scatterternary"
           }
          ],
          "surface": [
           {
            "colorbar": {
             "outlinewidth": 0,
             "ticks": ""
            },
            "colorscale": [
             [
              0,
              "#0d0887"
             ],
             [
              0.1111111111111111,
              "#46039f"
             ],
             [
              0.2222222222222222,
              "#7201a8"
             ],
             [
              0.3333333333333333,
              "#9c179e"
             ],
             [
              0.4444444444444444,
              "#bd3786"
             ],
             [
              0.5555555555555556,
              "#d8576b"
             ],
             [
              0.6666666666666666,
              "#ed7953"
             ],
             [
              0.7777777777777778,
              "#fb9f3a"
             ],
             [
              0.8888888888888888,
              "#fdca26"
             ],
             [
              1,
              "#f0f921"
             ]
            ],
            "type": "surface"
           }
          ],
          "table": [
           {
            "cells": {
             "fill": {
              "color": "#EBF0F8"
             },
             "line": {
              "color": "white"
             }
            },
            "header": {
             "fill": {
              "color": "#C8D4E3"
             },
             "line": {
              "color": "white"
             }
            },
            "type": "table"
           }
          ]
         },
         "layout": {
          "annotationdefaults": {
           "arrowcolor": "#2a3f5f",
           "arrowhead": 0,
           "arrowwidth": 1
          },
          "autotypenumbers": "strict",
          "coloraxis": {
           "colorbar": {
            "outlinewidth": 0,
            "ticks": ""
           }
          },
          "colorscale": {
           "diverging": [
            [
             0,
             "#8e0152"
            ],
            [
             0.1,
             "#c51b7d"
            ],
            [
             0.2,
             "#de77ae"
            ],
            [
             0.3,
             "#f1b6da"
            ],
            [
             0.4,
             "#fde0ef"
            ],
            [
             0.5,
             "#f7f7f7"
            ],
            [
             0.6,
             "#e6f5d0"
            ],
            [
             0.7,
             "#b8e186"
            ],
            [
             0.8,
             "#7fbc41"
            ],
            [
             0.9,
             "#4d9221"
            ],
            [
             1,
             "#276419"
            ]
           ],
           "sequential": [
            [
             0,
             "#0d0887"
            ],
            [
             0.1111111111111111,
             "#46039f"
            ],
            [
             0.2222222222222222,
             "#7201a8"
            ],
            [
             0.3333333333333333,
             "#9c179e"
            ],
            [
             0.4444444444444444,
             "#bd3786"
            ],
            [
             0.5555555555555556,
             "#d8576b"
            ],
            [
             0.6666666666666666,
             "#ed7953"
            ],
            [
             0.7777777777777778,
             "#fb9f3a"
            ],
            [
             0.8888888888888888,
             "#fdca26"
            ],
            [
             1,
             "#f0f921"
            ]
           ],
           "sequentialminus": [
            [
             0,
             "#0d0887"
            ],
            [
             0.1111111111111111,
             "#46039f"
            ],
            [
             0.2222222222222222,
             "#7201a8"
            ],
            [
             0.3333333333333333,
             "#9c179e"
            ],
            [
             0.4444444444444444,
             "#bd3786"
            ],
            [
             0.5555555555555556,
             "#d8576b"
            ],
            [
             0.6666666666666666,
             "#ed7953"
            ],
            [
             0.7777777777777778,
             "#fb9f3a"
            ],
            [
             0.8888888888888888,
             "#fdca26"
            ],
            [
             1,
             "#f0f921"
            ]
           ]
          },
          "colorway": [
           "#636efa",
           "#EF553B",
           "#00cc96",
           "#ab63fa",
           "#FFA15A",
           "#19d3f3",
           "#FF6692",
           "#B6E880",
           "#FF97FF",
           "#FECB52"
          ],
          "font": {
           "color": "#2a3f5f"
          },
          "geo": {
           "bgcolor": "white",
           "lakecolor": "white",
           "landcolor": "#E5ECF6",
           "showlakes": true,
           "showland": true,
           "subunitcolor": "white"
          },
          "hoverlabel": {
           "align": "left"
          },
          "hovermode": "closest",
          "mapbox": {
           "style": "light"
          },
          "paper_bgcolor": "white",
          "plot_bgcolor": "#E5ECF6",
          "polar": {
           "angularaxis": {
            "gridcolor": "white",
            "linecolor": "white",
            "ticks": ""
           },
           "bgcolor": "#E5ECF6",
           "radialaxis": {
            "gridcolor": "white",
            "linecolor": "white",
            "ticks": ""
           }
          },
          "scene": {
           "xaxis": {
            "backgroundcolor": "#E5ECF6",
            "gridcolor": "white",
            "gridwidth": 2,
            "linecolor": "white",
            "showbackground": true,
            "ticks": "",
            "zerolinecolor": "white"
           },
           "yaxis": {
            "backgroundcolor": "#E5ECF6",
            "gridcolor": "white",
            "gridwidth": 2,
            "linecolor": "white",
            "showbackground": true,
            "ticks": "",
            "zerolinecolor": "white"
           },
           "zaxis": {
            "backgroundcolor": "#E5ECF6",
            "gridcolor": "white",
            "gridwidth": 2,
            "linecolor": "white",
            "showbackground": true,
            "ticks": "",
            "zerolinecolor": "white"
           }
          },
          "shapedefaults": {
           "line": {
            "color": "#2a3f5f"
           }
          },
          "ternary": {
           "aaxis": {
            "gridcolor": "white",
            "linecolor": "white",
            "ticks": ""
           },
           "baxis": {
            "gridcolor": "white",
            "linecolor": "white",
            "ticks": ""
           },
           "bgcolor": "#E5ECF6",
           "caxis": {
            "gridcolor": "white",
            "linecolor": "white",
            "ticks": ""
           }
          },
          "title": {
           "x": 0.05
          },
          "xaxis": {
           "automargin": true,
           "gridcolor": "white",
           "linecolor": "white",
           "ticks": "",
           "title": {
            "standoff": 15
           },
           "zerolinecolor": "white",
           "zerolinewidth": 2
          },
          "yaxis": {
           "automargin": true,
           "gridcolor": "white",
           "linecolor": "white",
           "ticks": "",
           "title": {
            "standoff": 15
           },
           "zerolinecolor": "white",
           "zerolinewidth": 2
          }
         }
        },
        "width": 1500
       }
      },
      "text/html": [
       "<div>                            <div id=\"6c9a5f44-0770-4f50-9db1-d05e6f9f079b\" class=\"plotly-graph-div\" style=\"height:1000px; width:1500px;\"></div>            <script type=\"text/javascript\">                require([\"plotly\"], function(Plotly) {                    window.PLOTLYENV=window.PLOTLYENV || {};                                    if (document.getElementById(\"6c9a5f44-0770-4f50-9db1-d05e6f9f079b\")) {                    Plotly.newPlot(                        \"6c9a5f44-0770-4f50-9db1-d05e6f9f079b\",                        [{\"name\":\"2022-09\",\"textinfo\":\"value+percent previous\",\"x\":[\"2022-09\",778,190,51,39],\"y\":[\"\",\"\\u041f\\u043e\\u0441\\u0435\\u0449\\u0435\\u043d\\u0438\\u044f \\u0441\\u0430\\u0439\\u0442\\u0430\",\"\\u0420\\u0435\\u0433\\u0438\\u0441\\u0442\\u0440\\u0430\\u0446\\u0438\\u0438 \\u0430\\u043a\\u043a\\u0430\\u0443\\u043d\\u0442\\u043e\\u0432\",\"\\u0420\\u0435\\u0433\\u0438\\u0441\\u0442\\u0440\\u0430\\u0446\\u0438\\u0438 \\u043d\\u0430 \\u0438\\u0433\\u0440\\u0443\",\"\\u041f\\u0440\\u0438\\u0448\\u0435\\u0434\\u0448\\u0438\\u0435 \\u043d\\u0430 \\u0438\\u0433\\u0440\\u0443\"],\"type\":\"funnel\"},{\"name\":\"2022-10\",\"textinfo\":\"value+percent previous\",\"x\":[\"2022-10\",843,217,65,56],\"y\":[\"\",\"\\u041f\\u043e\\u0441\\u0435\\u0449\\u0435\\u043d\\u0438\\u044f \\u0441\\u0430\\u0439\\u0442\\u0430\",\"\\u0420\\u0435\\u0433\\u0438\\u0441\\u0442\\u0440\\u0430\\u0446\\u0438\\u0438 \\u0430\\u043a\\u043a\\u0430\\u0443\\u043d\\u0442\\u043e\\u0432\",\"\\u0420\\u0435\\u0433\\u0438\\u0441\\u0442\\u0440\\u0430\\u0446\\u0438\\u0438 \\u043d\\u0430 \\u0438\\u0433\\u0440\\u0443\",\"\\u041f\\u0440\\u0438\\u0448\\u0435\\u0434\\u0448\\u0438\\u0435 \\u043d\\u0430 \\u0438\\u0433\\u0440\\u0443\"],\"type\":\"funnel\"},{\"name\":\"2022-11\",\"textinfo\":\"value+percent previous\",\"x\":[\"2022-11\",786,200,56,50],\"y\":[\"\",\"\\u041f\\u043e\\u0441\\u0435\\u0449\\u0435\\u043d\\u0438\\u044f \\u0441\\u0430\\u0439\\u0442\\u0430\",\"\\u0420\\u0435\\u0433\\u0438\\u0441\\u0442\\u0440\\u0430\\u0446\\u0438\\u0438 \\u0430\\u043a\\u043a\\u0430\\u0443\\u043d\\u0442\\u043e\\u0432\",\"\\u0420\\u0435\\u0433\\u0438\\u0441\\u0442\\u0440\\u0430\\u0446\\u0438\\u0438 \\u043d\\u0430 \\u0438\\u0433\\u0440\\u0443\",\"\\u041f\\u0440\\u0438\\u0448\\u0435\\u0434\\u0448\\u0438\\u0435 \\u043d\\u0430 \\u0438\\u0433\\u0440\\u0443\"],\"type\":\"funnel\"},{\"name\":\"2022-12\",\"textinfo\":\"value+percent previous\",\"x\":[\"2022-12\",805,196,57,33],\"y\":[\"\",\"\\u041f\\u043e\\u0441\\u0435\\u0449\\u0435\\u043d\\u0438\\u044f \\u0441\\u0430\\u0439\\u0442\\u0430\",\"\\u0420\\u0435\\u0433\\u0438\\u0441\\u0442\\u0440\\u0430\\u0446\\u0438\\u0438 \\u0430\\u043a\\u043a\\u0430\\u0443\\u043d\\u0442\\u043e\\u0432\",\"\\u0420\\u0435\\u0433\\u0438\\u0441\\u0442\\u0440\\u0430\\u0446\\u0438\\u0438 \\u043d\\u0430 \\u0438\\u0433\\u0440\\u0443\",\"\\u041f\\u0440\\u0438\\u0448\\u0435\\u0434\\u0448\\u0438\\u0435 \\u043d\\u0430 \\u0438\\u0433\\u0440\\u0443\"],\"type\":\"funnel\"},{\"name\":\"2023-01\",\"textinfo\":\"value+percent previous\",\"x\":[\"2023-01\",852,213,64,20],\"y\":[\"\",\"\\u041f\\u043e\\u0441\\u0435\\u0449\\u0435\\u043d\\u0438\\u044f \\u0441\\u0430\\u0439\\u0442\\u0430\",\"\\u0420\\u0435\\u0433\\u0438\\u0441\\u0442\\u0440\\u0430\\u0446\\u0438\\u0438 \\u0430\\u043a\\u043a\\u0430\\u0443\\u043d\\u0442\\u043e\\u0432\",\"\\u0420\\u0435\\u0433\\u0438\\u0441\\u0442\\u0440\\u0430\\u0446\\u0438\\u0438 \\u043d\\u0430 \\u0438\\u0433\\u0440\\u0443\",\"\\u041f\\u0440\\u0438\\u0448\\u0435\\u0434\\u0448\\u0438\\u0435 \\u043d\\u0430 \\u0438\\u0433\\u0440\\u0443\"],\"type\":\"funnel\"},{\"name\":\"2023-02\",\"textinfo\":\"value+percent previous\",\"x\":[\"2023-02\",32,8,0,0],\"y\":[\"\",\"\\u041f\\u043e\\u0441\\u0435\\u0449\\u0435\\u043d\\u0438\\u044f \\u0441\\u0430\\u0439\\u0442\\u0430\",\"\\u0420\\u0435\\u0433\\u0438\\u0441\\u0442\\u0440\\u0430\\u0446\\u0438\\u0438 \\u0430\\u043a\\u043a\\u0430\\u0443\\u043d\\u0442\\u043e\\u0432\",\"\\u0420\\u0435\\u0433\\u0438\\u0441\\u0442\\u0440\\u0430\\u0446\\u0438\\u0438 \\u043d\\u0430 \\u0438\\u0433\\u0440\\u0443\",\"\\u041f\\u0440\\u0438\\u0448\\u0435\\u0434\\u0448\\u0438\\u0435 \\u043d\\u0430 \\u0438\\u0433\\u0440\\u0443\"],\"type\":\"funnel\"}],                        {\"template\":{\"data\":{\"histogram2dcontour\":[{\"type\":\"histogram2dcontour\",\"colorbar\":{\"outlinewidth\":0,\"ticks\":\"\"},\"colorscale\":[[0.0,\"#0d0887\"],[0.1111111111111111,\"#46039f\"],[0.2222222222222222,\"#7201a8\"],[0.3333333333333333,\"#9c179e\"],[0.4444444444444444,\"#bd3786\"],[0.5555555555555556,\"#d8576b\"],[0.6666666666666666,\"#ed7953\"],[0.7777777777777778,\"#fb9f3a\"],[0.8888888888888888,\"#fdca26\"],[1.0,\"#f0f921\"]]}],\"choropleth\":[{\"type\":\"choropleth\",\"colorbar\":{\"outlinewidth\":0,\"ticks\":\"\"}}],\"histogram2d\":[{\"type\":\"histogram2d\",\"colorbar\":{\"outlinewidth\":0,\"ticks\":\"\"},\"colorscale\":[[0.0,\"#0d0887\"],[0.1111111111111111,\"#46039f\"],[0.2222222222222222,\"#7201a8\"],[0.3333333333333333,\"#9c179e\"],[0.4444444444444444,\"#bd3786\"],[0.5555555555555556,\"#d8576b\"],[0.6666666666666666,\"#ed7953\"],[0.7777777777777778,\"#fb9f3a\"],[0.8888888888888888,\"#fdca26\"],[1.0,\"#f0f921\"]]}],\"heatmap\":[{\"type\":\"heatmap\",\"colorbar\":{\"outlinewidth\":0,\"ticks\":\"\"},\"colorscale\":[[0.0,\"#0d0887\"],[0.1111111111111111,\"#46039f\"],[0.2222222222222222,\"#7201a8\"],[0.3333333333333333,\"#9c179e\"],[0.4444444444444444,\"#bd3786\"],[0.5555555555555556,\"#d8576b\"],[0.6666666666666666,\"#ed7953\"],[0.7777777777777778,\"#fb9f3a\"],[0.8888888888888888,\"#fdca26\"],[1.0,\"#f0f921\"]]}],\"heatmapgl\":[{\"type\":\"heatmapgl\",\"colorbar\":{\"outlinewidth\":0,\"ticks\":\"\"},\"colorscale\":[[0.0,\"#0d0887\"],[0.1111111111111111,\"#46039f\"],[0.2222222222222222,\"#7201a8\"],[0.3333333333333333,\"#9c179e\"],[0.4444444444444444,\"#bd3786\"],[0.5555555555555556,\"#d8576b\"],[0.6666666666666666,\"#ed7953\"],[0.7777777777777778,\"#fb9f3a\"],[0.8888888888888888,\"#fdca26\"],[1.0,\"#f0f921\"]]}],\"contourcarpet\":[{\"type\":\"contourcarpet\",\"colorbar\":{\"outlinewidth\":0,\"ticks\":\"\"}}],\"contour\":[{\"type\":\"contour\",\"colorbar\":{\"outlinewidth\":0,\"ticks\":\"\"},\"colorscale\":[[0.0,\"#0d0887\"],[0.1111111111111111,\"#46039f\"],[0.2222222222222222,\"#7201a8\"],[0.3333333333333333,\"#9c179e\"],[0.4444444444444444,\"#bd3786\"],[0.5555555555555556,\"#d8576b\"],[0.6666666666666666,\"#ed7953\"],[0.7777777777777778,\"#fb9f3a\"],[0.8888888888888888,\"#fdca26\"],[1.0,\"#f0f921\"]]}],\"surface\":[{\"type\":\"surface\",\"colorbar\":{\"outlinewidth\":0,\"ticks\":\"\"},\"colorscale\":[[0.0,\"#0d0887\"],[0.1111111111111111,\"#46039f\"],[0.2222222222222222,\"#7201a8\"],[0.3333333333333333,\"#9c179e\"],[0.4444444444444444,\"#bd3786\"],[0.5555555555555556,\"#d8576b\"],[0.6666666666666666,\"#ed7953\"],[0.7777777777777778,\"#fb9f3a\"],[0.8888888888888888,\"#fdca26\"],[1.0,\"#f0f921\"]]}],\"mesh3d\":[{\"type\":\"mesh3d\",\"colorbar\":{\"outlinewidth\":0,\"ticks\":\"\"}}],\"scatter\":[{\"fillpattern\":{\"fillmode\":\"overlay\",\"size\":10,\"solidity\":0.2},\"type\":\"scatter\"}],\"parcoords\":[{\"type\":\"parcoords\",\"line\":{\"colorbar\":{\"outlinewidth\":0,\"ticks\":\"\"}}}],\"scatterpolargl\":[{\"type\":\"scatterpolargl\",\"marker\":{\"colorbar\":{\"outlinewidth\":0,\"ticks\":\"\"}}}],\"bar\":[{\"error_x\":{\"color\":\"#2a3f5f\"},\"error_y\":{\"color\":\"#2a3f5f\"},\"marker\":{\"line\":{\"color\":\"#E5ECF6\",\"width\":0.5},\"pattern\":{\"fillmode\":\"overlay\",\"size\":10,\"solidity\":0.2}},\"type\":\"bar\"}],\"scattergeo\":[{\"type\":\"scattergeo\",\"marker\":{\"colorbar\":{\"outlinewidth\":0,\"ticks\":\"\"}}}],\"scatterpolar\":[{\"type\":\"scatterpolar\",\"marker\":{\"colorbar\":{\"outlinewidth\":0,\"ticks\":\"\"}}}],\"histogram\":[{\"marker\":{\"pattern\":{\"fillmode\":\"overlay\",\"size\":10,\"solidity\":0.2}},\"type\":\"histogram\"}],\"scattergl\":[{\"type\":\"scattergl\",\"marker\":{\"colorbar\":{\"outlinewidth\":0,\"ticks\":\"\"}}}],\"scatter3d\":[{\"type\":\"scatter3d\",\"line\":{\"colorbar\":{\"outlinewidth\":0,\"ticks\":\"\"}},\"marker\":{\"colorbar\":{\"outlinewidth\":0,\"ticks\":\"\"}}}],\"scattermapbox\":[{\"type\":\"scattermapbox\",\"marker\":{\"colorbar\":{\"outlinewidth\":0,\"ticks\":\"\"}}}],\"scatterternary\":[{\"type\":\"scatterternary\",\"marker\":{\"colorbar\":{\"outlinewidth\":0,\"ticks\":\"\"}}}],\"scattercarpet\":[{\"type\":\"scattercarpet\",\"marker\":{\"colorbar\":{\"outlinewidth\":0,\"ticks\":\"\"}}}],\"carpet\":[{\"aaxis\":{\"endlinecolor\":\"#2a3f5f\",\"gridcolor\":\"white\",\"linecolor\":\"white\",\"minorgridcolor\":\"white\",\"startlinecolor\":\"#2a3f5f\"},\"baxis\":{\"endlinecolor\":\"#2a3f5f\",\"gridcolor\":\"white\",\"linecolor\":\"white\",\"minorgridcolor\":\"white\",\"startlinecolor\":\"#2a3f5f\"},\"type\":\"carpet\"}],\"table\":[{\"cells\":{\"fill\":{\"color\":\"#EBF0F8\"},\"line\":{\"color\":\"white\"}},\"header\":{\"fill\":{\"color\":\"#C8D4E3\"},\"line\":{\"color\":\"white\"}},\"type\":\"table\"}],\"barpolar\":[{\"marker\":{\"line\":{\"color\":\"#E5ECF6\",\"width\":0.5},\"pattern\":{\"fillmode\":\"overlay\",\"size\":10,\"solidity\":0.2}},\"type\":\"barpolar\"}],\"pie\":[{\"automargin\":true,\"type\":\"pie\"}]},\"layout\":{\"autotypenumbers\":\"strict\",\"colorway\":[\"#636efa\",\"#EF553B\",\"#00cc96\",\"#ab63fa\",\"#FFA15A\",\"#19d3f3\",\"#FF6692\",\"#B6E880\",\"#FF97FF\",\"#FECB52\"],\"font\":{\"color\":\"#2a3f5f\"},\"hovermode\":\"closest\",\"hoverlabel\":{\"align\":\"left\"},\"paper_bgcolor\":\"white\",\"plot_bgcolor\":\"#E5ECF6\",\"polar\":{\"bgcolor\":\"#E5ECF6\",\"angularaxis\":{\"gridcolor\":\"white\",\"linecolor\":\"white\",\"ticks\":\"\"},\"radialaxis\":{\"gridcolor\":\"white\",\"linecolor\":\"white\",\"ticks\":\"\"}},\"ternary\":{\"bgcolor\":\"#E5ECF6\",\"aaxis\":{\"gridcolor\":\"white\",\"linecolor\":\"white\",\"ticks\":\"\"},\"baxis\":{\"gridcolor\":\"white\",\"linecolor\":\"white\",\"ticks\":\"\"},\"caxis\":{\"gridcolor\":\"white\",\"linecolor\":\"white\",\"ticks\":\"\"}},\"coloraxis\":{\"colorbar\":{\"outlinewidth\":0,\"ticks\":\"\"}},\"colorscale\":{\"sequential\":[[0.0,\"#0d0887\"],[0.1111111111111111,\"#46039f\"],[0.2222222222222222,\"#7201a8\"],[0.3333333333333333,\"#9c179e\"],[0.4444444444444444,\"#bd3786\"],[0.5555555555555556,\"#d8576b\"],[0.6666666666666666,\"#ed7953\"],[0.7777777777777778,\"#fb9f3a\"],[0.8888888888888888,\"#fdca26\"],[1.0,\"#f0f921\"]],\"sequentialminus\":[[0.0,\"#0d0887\"],[0.1111111111111111,\"#46039f\"],[0.2222222222222222,\"#7201a8\"],[0.3333333333333333,\"#9c179e\"],[0.4444444444444444,\"#bd3786\"],[0.5555555555555556,\"#d8576b\"],[0.6666666666666666,\"#ed7953\"],[0.7777777777777778,\"#fb9f3a\"],[0.8888888888888888,\"#fdca26\"],[1.0,\"#f0f921\"]],\"diverging\":[[0,\"#8e0152\"],[0.1,\"#c51b7d\"],[0.2,\"#de77ae\"],[0.3,\"#f1b6da\"],[0.4,\"#fde0ef\"],[0.5,\"#f7f7f7\"],[0.6,\"#e6f5d0\"],[0.7,\"#b8e186\"],[0.8,\"#7fbc41\"],[0.9,\"#4d9221\"],[1,\"#276419\"]]},\"xaxis\":{\"gridcolor\":\"white\",\"linecolor\":\"white\",\"ticks\":\"\",\"title\":{\"standoff\":15},\"zerolinecolor\":\"white\",\"automargin\":true,\"zerolinewidth\":2},\"yaxis\":{\"gridcolor\":\"white\",\"linecolor\":\"white\",\"ticks\":\"\",\"title\":{\"standoff\":15},\"zerolinecolor\":\"white\",\"automargin\":true,\"zerolinewidth\":2},\"scene\":{\"xaxis\":{\"backgroundcolor\":\"#E5ECF6\",\"gridcolor\":\"white\",\"linecolor\":\"white\",\"showbackground\":true,\"ticks\":\"\",\"zerolinecolor\":\"white\",\"gridwidth\":2},\"yaxis\":{\"backgroundcolor\":\"#E5ECF6\",\"gridcolor\":\"white\",\"linecolor\":\"white\",\"showbackground\":true,\"ticks\":\"\",\"zerolinecolor\":\"white\",\"gridwidth\":2},\"zaxis\":{\"backgroundcolor\":\"#E5ECF6\",\"gridcolor\":\"white\",\"linecolor\":\"white\",\"showbackground\":true,\"ticks\":\"\",\"zerolinecolor\":\"white\",\"gridwidth\":2}},\"shapedefaults\":{\"line\":{\"color\":\"#2a3f5f\"}},\"annotationdefaults\":{\"arrowcolor\":\"#2a3f5f\",\"arrowhead\":0,\"arrowwidth\":1},\"geo\":{\"bgcolor\":\"white\",\"landcolor\":\"#E5ECF6\",\"subunitcolor\":\"white\",\"showland\":true,\"showlakes\":true,\"lakecolor\":\"white\"},\"title\":{\"x\":0.05},\"mapbox\":{\"style\":\"light\"}}},\"autosize\":false,\"width\":1500,\"height\":1000},                        {\"responsive\": true}                    ).then(function(){\n",
       "                            \n",
       "var gd = document.getElementById('6c9a5f44-0770-4f50-9db1-d05e6f9f079b');\n",
       "var x = new MutationObserver(function (mutations, observer) {{\n",
       "        var display = window.getComputedStyle(gd).display;\n",
       "        if (!display || display === 'none') {{\n",
       "            console.log([gd, 'removed!']);\n",
       "            Plotly.purge(gd);\n",
       "            observer.disconnect();\n",
       "        }}\n",
       "}});\n",
       "\n",
       "// Listen for the removal of the full notebook cells\n",
       "var notebookContainer = gd.closest('#notebook-container');\n",
       "if (notebookContainer) {{\n",
       "    x.observe(notebookContainer, {childList: true});\n",
       "}}\n",
       "\n",
       "// Listen for the clearing of the current output cell\n",
       "var outputEl = gd.closest('.output');\n",
       "if (outputEl) {{\n",
       "    x.observe(outputEl, {childList: true});\n",
       "}}\n",
       "\n",
       "                        })                };                });            </script>        </div>"
      ]
     },
     "metadata": {},
     "output_type": "display_data"
    }
   ],
   "source": [
    "fig = go.Figure()\n",
    "\n",
    "for index, row in data.iterrows():\n",
    "    fig.add_trace(go.Funnel(\n",
    "        name = data[0][index],\n",
    "        y = [\"\", \"Посещения сайта\", \"Регистрации аккаунтов\", \"Регистрации на игру\", \"Пришедшие на игру\"],\n",
    "        x = row,\n",
    "        textinfo = \"value+percent previous\"))\n",
    "    \n",
    "fig.update_layout(\n",
    "    autosize=False,\n",
    "    width=1500,\n",
    "    height=1000\n",
    ")    \n",
    "\n",
    "fig.show()"
   ]
  },
  {
   "cell_type": "markdown",
   "id": "f6af677a",
   "metadata": {},
   "source": [
    "#### Месяцы идентичны почти везде, кроме последнего шага \"регистрации на игру - пришедшие на игру\": там отличаются проценты пришедших на игру по месяцам. Посмотрим отдельно на воронку этого шага:"
   ]
  },
  {
   "cell_type": "code",
   "execution_count": 203,
   "id": "6f5f4611",
   "metadata": {},
   "outputs": [
    {
     "data": {
      "application/vnd.plotly.v1+json": {
       "config": {
        "plotlyServerURL": "https://plot.ly"
       },
       "data": [
        {
         "name": "2022-09",
         "textinfo": "value+percent previous",
         "type": "funnel",
         "x": [
          51,
          39
         ],
         "y": [
          "Регистрации на игру",
          "Пришедшие на игру"
         ]
        },
        {
         "name": "2022-10",
         "textinfo": "value+percent previous",
         "type": "funnel",
         "x": [
          65,
          56
         ],
         "y": [
          "Регистрации на игру",
          "Пришедшие на игру"
         ]
        },
        {
         "name": "2022-11",
         "textinfo": "value+percent previous",
         "type": "funnel",
         "x": [
          56,
          50
         ],
         "y": [
          "Регистрации на игру",
          "Пришедшие на игру"
         ]
        },
        {
         "name": "2022-12",
         "textinfo": "value+percent previous",
         "type": "funnel",
         "x": [
          57,
          33
         ],
         "y": [
          "Регистрации на игру",
          "Пришедшие на игру"
         ]
        },
        {
         "name": "2023-01",
         "textinfo": "value+percent previous",
         "type": "funnel",
         "x": [
          64,
          20
         ],
         "y": [
          "Регистрации на игру",
          "Пришедшие на игру"
         ]
        },
        {
         "name": "2023-02",
         "textinfo": "value+percent previous",
         "type": "funnel",
         "x": [
          0,
          0
         ],
         "y": [
          "Регистрации на игру",
          "Пришедшие на игру"
         ]
        }
       ],
       "layout": {
        "autosize": false,
        "height": 500,
        "template": {
         "data": {
          "bar": [
           {
            "error_x": {
             "color": "#2a3f5f"
            },
            "error_y": {
             "color": "#2a3f5f"
            },
            "marker": {
             "line": {
              "color": "#E5ECF6",
              "width": 0.5
             },
             "pattern": {
              "fillmode": "overlay",
              "size": 10,
              "solidity": 0.2
             }
            },
            "type": "bar"
           }
          ],
          "barpolar": [
           {
            "marker": {
             "line": {
              "color": "#E5ECF6",
              "width": 0.5
             },
             "pattern": {
              "fillmode": "overlay",
              "size": 10,
              "solidity": 0.2
             }
            },
            "type": "barpolar"
           }
          ],
          "carpet": [
           {
            "aaxis": {
             "endlinecolor": "#2a3f5f",
             "gridcolor": "white",
             "linecolor": "white",
             "minorgridcolor": "white",
             "startlinecolor": "#2a3f5f"
            },
            "baxis": {
             "endlinecolor": "#2a3f5f",
             "gridcolor": "white",
             "linecolor": "white",
             "minorgridcolor": "white",
             "startlinecolor": "#2a3f5f"
            },
            "type": "carpet"
           }
          ],
          "choropleth": [
           {
            "colorbar": {
             "outlinewidth": 0,
             "ticks": ""
            },
            "type": "choropleth"
           }
          ],
          "contour": [
           {
            "colorbar": {
             "outlinewidth": 0,
             "ticks": ""
            },
            "colorscale": [
             [
              0,
              "#0d0887"
             ],
             [
              0.1111111111111111,
              "#46039f"
             ],
             [
              0.2222222222222222,
              "#7201a8"
             ],
             [
              0.3333333333333333,
              "#9c179e"
             ],
             [
              0.4444444444444444,
              "#bd3786"
             ],
             [
              0.5555555555555556,
              "#d8576b"
             ],
             [
              0.6666666666666666,
              "#ed7953"
             ],
             [
              0.7777777777777778,
              "#fb9f3a"
             ],
             [
              0.8888888888888888,
              "#fdca26"
             ],
             [
              1,
              "#f0f921"
             ]
            ],
            "type": "contour"
           }
          ],
          "contourcarpet": [
           {
            "colorbar": {
             "outlinewidth": 0,
             "ticks": ""
            },
            "type": "contourcarpet"
           }
          ],
          "heatmap": [
           {
            "colorbar": {
             "outlinewidth": 0,
             "ticks": ""
            },
            "colorscale": [
             [
              0,
              "#0d0887"
             ],
             [
              0.1111111111111111,
              "#46039f"
             ],
             [
              0.2222222222222222,
              "#7201a8"
             ],
             [
              0.3333333333333333,
              "#9c179e"
             ],
             [
              0.4444444444444444,
              "#bd3786"
             ],
             [
              0.5555555555555556,
              "#d8576b"
             ],
             [
              0.6666666666666666,
              "#ed7953"
             ],
             [
              0.7777777777777778,
              "#fb9f3a"
             ],
             [
              0.8888888888888888,
              "#fdca26"
             ],
             [
              1,
              "#f0f921"
             ]
            ],
            "type": "heatmap"
           }
          ],
          "heatmapgl": [
           {
            "colorbar": {
             "outlinewidth": 0,
             "ticks": ""
            },
            "colorscale": [
             [
              0,
              "#0d0887"
             ],
             [
              0.1111111111111111,
              "#46039f"
             ],
             [
              0.2222222222222222,
              "#7201a8"
             ],
             [
              0.3333333333333333,
              "#9c179e"
             ],
             [
              0.4444444444444444,
              "#bd3786"
             ],
             [
              0.5555555555555556,
              "#d8576b"
             ],
             [
              0.6666666666666666,
              "#ed7953"
             ],
             [
              0.7777777777777778,
              "#fb9f3a"
             ],
             [
              0.8888888888888888,
              "#fdca26"
             ],
             [
              1,
              "#f0f921"
             ]
            ],
            "type": "heatmapgl"
           }
          ],
          "histogram": [
           {
            "marker": {
             "pattern": {
              "fillmode": "overlay",
              "size": 10,
              "solidity": 0.2
             }
            },
            "type": "histogram"
           }
          ],
          "histogram2d": [
           {
            "colorbar": {
             "outlinewidth": 0,
             "ticks": ""
            },
            "colorscale": [
             [
              0,
              "#0d0887"
             ],
             [
              0.1111111111111111,
              "#46039f"
             ],
             [
              0.2222222222222222,
              "#7201a8"
             ],
             [
              0.3333333333333333,
              "#9c179e"
             ],
             [
              0.4444444444444444,
              "#bd3786"
             ],
             [
              0.5555555555555556,
              "#d8576b"
             ],
             [
              0.6666666666666666,
              "#ed7953"
             ],
             [
              0.7777777777777778,
              "#fb9f3a"
             ],
             [
              0.8888888888888888,
              "#fdca26"
             ],
             [
              1,
              "#f0f921"
             ]
            ],
            "type": "histogram2d"
           }
          ],
          "histogram2dcontour": [
           {
            "colorbar": {
             "outlinewidth": 0,
             "ticks": ""
            },
            "colorscale": [
             [
              0,
              "#0d0887"
             ],
             [
              0.1111111111111111,
              "#46039f"
             ],
             [
              0.2222222222222222,
              "#7201a8"
             ],
             [
              0.3333333333333333,
              "#9c179e"
             ],
             [
              0.4444444444444444,
              "#bd3786"
             ],
             [
              0.5555555555555556,
              "#d8576b"
             ],
             [
              0.6666666666666666,
              "#ed7953"
             ],
             [
              0.7777777777777778,
              "#fb9f3a"
             ],
             [
              0.8888888888888888,
              "#fdca26"
             ],
             [
              1,
              "#f0f921"
             ]
            ],
            "type": "histogram2dcontour"
           }
          ],
          "mesh3d": [
           {
            "colorbar": {
             "outlinewidth": 0,
             "ticks": ""
            },
            "type": "mesh3d"
           }
          ],
          "parcoords": [
           {
            "line": {
             "colorbar": {
              "outlinewidth": 0,
              "ticks": ""
             }
            },
            "type": "parcoords"
           }
          ],
          "pie": [
           {
            "automargin": true,
            "type": "pie"
           }
          ],
          "scatter": [
           {
            "fillpattern": {
             "fillmode": "overlay",
             "size": 10,
             "solidity": 0.2
            },
            "type": "scatter"
           }
          ],
          "scatter3d": [
           {
            "line": {
             "colorbar": {
              "outlinewidth": 0,
              "ticks": ""
             }
            },
            "marker": {
             "colorbar": {
              "outlinewidth": 0,
              "ticks": ""
             }
            },
            "type": "scatter3d"
           }
          ],
          "scattercarpet": [
           {
            "marker": {
             "colorbar": {
              "outlinewidth": 0,
              "ticks": ""
             }
            },
            "type": "scattercarpet"
           }
          ],
          "scattergeo": [
           {
            "marker": {
             "colorbar": {
              "outlinewidth": 0,
              "ticks": ""
             }
            },
            "type": "scattergeo"
           }
          ],
          "scattergl": [
           {
            "marker": {
             "colorbar": {
              "outlinewidth": 0,
              "ticks": ""
             }
            },
            "type": "scattergl"
           }
          ],
          "scattermapbox": [
           {
            "marker": {
             "colorbar": {
              "outlinewidth": 0,
              "ticks": ""
             }
            },
            "type": "scattermapbox"
           }
          ],
          "scatterpolar": [
           {
            "marker": {
             "colorbar": {
              "outlinewidth": 0,
              "ticks": ""
             }
            },
            "type": "scatterpolar"
           }
          ],
          "scatterpolargl": [
           {
            "marker": {
             "colorbar": {
              "outlinewidth": 0,
              "ticks": ""
             }
            },
            "type": "scatterpolargl"
           }
          ],
          "scatterternary": [
           {
            "marker": {
             "colorbar": {
              "outlinewidth": 0,
              "ticks": ""
             }
            },
            "type": "scatterternary"
           }
          ],
          "surface": [
           {
            "colorbar": {
             "outlinewidth": 0,
             "ticks": ""
            },
            "colorscale": [
             [
              0,
              "#0d0887"
             ],
             [
              0.1111111111111111,
              "#46039f"
             ],
             [
              0.2222222222222222,
              "#7201a8"
             ],
             [
              0.3333333333333333,
              "#9c179e"
             ],
             [
              0.4444444444444444,
              "#bd3786"
             ],
             [
              0.5555555555555556,
              "#d8576b"
             ],
             [
              0.6666666666666666,
              "#ed7953"
             ],
             [
              0.7777777777777778,
              "#fb9f3a"
             ],
             [
              0.8888888888888888,
              "#fdca26"
             ],
             [
              1,
              "#f0f921"
             ]
            ],
            "type": "surface"
           }
          ],
          "table": [
           {
            "cells": {
             "fill": {
              "color": "#EBF0F8"
             },
             "line": {
              "color": "white"
             }
            },
            "header": {
             "fill": {
              "color": "#C8D4E3"
             },
             "line": {
              "color": "white"
             }
            },
            "type": "table"
           }
          ]
         },
         "layout": {
          "annotationdefaults": {
           "arrowcolor": "#2a3f5f",
           "arrowhead": 0,
           "arrowwidth": 1
          },
          "autotypenumbers": "strict",
          "coloraxis": {
           "colorbar": {
            "outlinewidth": 0,
            "ticks": ""
           }
          },
          "colorscale": {
           "diverging": [
            [
             0,
             "#8e0152"
            ],
            [
             0.1,
             "#c51b7d"
            ],
            [
             0.2,
             "#de77ae"
            ],
            [
             0.3,
             "#f1b6da"
            ],
            [
             0.4,
             "#fde0ef"
            ],
            [
             0.5,
             "#f7f7f7"
            ],
            [
             0.6,
             "#e6f5d0"
            ],
            [
             0.7,
             "#b8e186"
            ],
            [
             0.8,
             "#7fbc41"
            ],
            [
             0.9,
             "#4d9221"
            ],
            [
             1,
             "#276419"
            ]
           ],
           "sequential": [
            [
             0,
             "#0d0887"
            ],
            [
             0.1111111111111111,
             "#46039f"
            ],
            [
             0.2222222222222222,
             "#7201a8"
            ],
            [
             0.3333333333333333,
             "#9c179e"
            ],
            [
             0.4444444444444444,
             "#bd3786"
            ],
            [
             0.5555555555555556,
             "#d8576b"
            ],
            [
             0.6666666666666666,
             "#ed7953"
            ],
            [
             0.7777777777777778,
             "#fb9f3a"
            ],
            [
             0.8888888888888888,
             "#fdca26"
            ],
            [
             1,
             "#f0f921"
            ]
           ],
           "sequentialminus": [
            [
             0,
             "#0d0887"
            ],
            [
             0.1111111111111111,
             "#46039f"
            ],
            [
             0.2222222222222222,
             "#7201a8"
            ],
            [
             0.3333333333333333,
             "#9c179e"
            ],
            [
             0.4444444444444444,
             "#bd3786"
            ],
            [
             0.5555555555555556,
             "#d8576b"
            ],
            [
             0.6666666666666666,
             "#ed7953"
            ],
            [
             0.7777777777777778,
             "#fb9f3a"
            ],
            [
             0.8888888888888888,
             "#fdca26"
            ],
            [
             1,
             "#f0f921"
            ]
           ]
          },
          "colorway": [
           "#636efa",
           "#EF553B",
           "#00cc96",
           "#ab63fa",
           "#FFA15A",
           "#19d3f3",
           "#FF6692",
           "#B6E880",
           "#FF97FF",
           "#FECB52"
          ],
          "font": {
           "color": "#2a3f5f"
          },
          "geo": {
           "bgcolor": "white",
           "lakecolor": "white",
           "landcolor": "#E5ECF6",
           "showlakes": true,
           "showland": true,
           "subunitcolor": "white"
          },
          "hoverlabel": {
           "align": "left"
          },
          "hovermode": "closest",
          "mapbox": {
           "style": "light"
          },
          "paper_bgcolor": "white",
          "plot_bgcolor": "#E5ECF6",
          "polar": {
           "angularaxis": {
            "gridcolor": "white",
            "linecolor": "white",
            "ticks": ""
           },
           "bgcolor": "#E5ECF6",
           "radialaxis": {
            "gridcolor": "white",
            "linecolor": "white",
            "ticks": ""
           }
          },
          "scene": {
           "xaxis": {
            "backgroundcolor": "#E5ECF6",
            "gridcolor": "white",
            "gridwidth": 2,
            "linecolor": "white",
            "showbackground": true,
            "ticks": "",
            "zerolinecolor": "white"
           },
           "yaxis": {
            "backgroundcolor": "#E5ECF6",
            "gridcolor": "white",
            "gridwidth": 2,
            "linecolor": "white",
            "showbackground": true,
            "ticks": "",
            "zerolinecolor": "white"
           },
           "zaxis": {
            "backgroundcolor": "#E5ECF6",
            "gridcolor": "white",
            "gridwidth": 2,
            "linecolor": "white",
            "showbackground": true,
            "ticks": "",
            "zerolinecolor": "white"
           }
          },
          "shapedefaults": {
           "line": {
            "color": "#2a3f5f"
           }
          },
          "ternary": {
           "aaxis": {
            "gridcolor": "white",
            "linecolor": "white",
            "ticks": ""
           },
           "baxis": {
            "gridcolor": "white",
            "linecolor": "white",
            "ticks": ""
           },
           "bgcolor": "#E5ECF6",
           "caxis": {
            "gridcolor": "white",
            "linecolor": "white",
            "ticks": ""
           }
          },
          "title": {
           "x": 0.05
          },
          "xaxis": {
           "automargin": true,
           "gridcolor": "white",
           "linecolor": "white",
           "ticks": "",
           "title": {
            "standoff": 15
           },
           "zerolinecolor": "white",
           "zerolinewidth": 2
          },
          "yaxis": {
           "automargin": true,
           "gridcolor": "white",
           "linecolor": "white",
           "ticks": "",
           "title": {
            "standoff": 15
           },
           "zerolinecolor": "white",
           "zerolinewidth": 2
          }
         }
        },
        "width": 700
       }
      },
      "text/html": [
       "<div>                            <div id=\"5d2315d5-2441-49ec-8bff-ebd3569866ba\" class=\"plotly-graph-div\" style=\"height:500px; width:700px;\"></div>            <script type=\"text/javascript\">                require([\"plotly\"], function(Plotly) {                    window.PLOTLYENV=window.PLOTLYENV || {};                                    if (document.getElementById(\"5d2315d5-2441-49ec-8bff-ebd3569866ba\")) {                    Plotly.newPlot(                        \"5d2315d5-2441-49ec-8bff-ebd3569866ba\",                        [{\"name\":\"2022-09\",\"textinfo\":\"value+percent previous\",\"x\":[51,39],\"y\":[\"\\u0420\\u0435\\u0433\\u0438\\u0441\\u0442\\u0440\\u0430\\u0446\\u0438\\u0438 \\u043d\\u0430 \\u0438\\u0433\\u0440\\u0443\",\"\\u041f\\u0440\\u0438\\u0448\\u0435\\u0434\\u0448\\u0438\\u0435 \\u043d\\u0430 \\u0438\\u0433\\u0440\\u0443\"],\"type\":\"funnel\"},{\"name\":\"2022-10\",\"textinfo\":\"value+percent previous\",\"x\":[65,56],\"y\":[\"\\u0420\\u0435\\u0433\\u0438\\u0441\\u0442\\u0440\\u0430\\u0446\\u0438\\u0438 \\u043d\\u0430 \\u0438\\u0433\\u0440\\u0443\",\"\\u041f\\u0440\\u0438\\u0448\\u0435\\u0434\\u0448\\u0438\\u0435 \\u043d\\u0430 \\u0438\\u0433\\u0440\\u0443\"],\"type\":\"funnel\"},{\"name\":\"2022-11\",\"textinfo\":\"value+percent previous\",\"x\":[56,50],\"y\":[\"\\u0420\\u0435\\u0433\\u0438\\u0441\\u0442\\u0440\\u0430\\u0446\\u0438\\u0438 \\u043d\\u0430 \\u0438\\u0433\\u0440\\u0443\",\"\\u041f\\u0440\\u0438\\u0448\\u0435\\u0434\\u0448\\u0438\\u0435 \\u043d\\u0430 \\u0438\\u0433\\u0440\\u0443\"],\"type\":\"funnel\"},{\"name\":\"2022-12\",\"textinfo\":\"value+percent previous\",\"x\":[57,33],\"y\":[\"\\u0420\\u0435\\u0433\\u0438\\u0441\\u0442\\u0440\\u0430\\u0446\\u0438\\u0438 \\u043d\\u0430 \\u0438\\u0433\\u0440\\u0443\",\"\\u041f\\u0440\\u0438\\u0448\\u0435\\u0434\\u0448\\u0438\\u0435 \\u043d\\u0430 \\u0438\\u0433\\u0440\\u0443\"],\"type\":\"funnel\"},{\"name\":\"2023-01\",\"textinfo\":\"value+percent previous\",\"x\":[64,20],\"y\":[\"\\u0420\\u0435\\u0433\\u0438\\u0441\\u0442\\u0440\\u0430\\u0446\\u0438\\u0438 \\u043d\\u0430 \\u0438\\u0433\\u0440\\u0443\",\"\\u041f\\u0440\\u0438\\u0448\\u0435\\u0434\\u0448\\u0438\\u0435 \\u043d\\u0430 \\u0438\\u0433\\u0440\\u0443\"],\"type\":\"funnel\"},{\"name\":\"2023-02\",\"textinfo\":\"value+percent previous\",\"x\":[0,0],\"y\":[\"\\u0420\\u0435\\u0433\\u0438\\u0441\\u0442\\u0440\\u0430\\u0446\\u0438\\u0438 \\u043d\\u0430 \\u0438\\u0433\\u0440\\u0443\",\"\\u041f\\u0440\\u0438\\u0448\\u0435\\u0434\\u0448\\u0438\\u0435 \\u043d\\u0430 \\u0438\\u0433\\u0440\\u0443\"],\"type\":\"funnel\"}],                        {\"template\":{\"data\":{\"histogram2dcontour\":[{\"type\":\"histogram2dcontour\",\"colorbar\":{\"outlinewidth\":0,\"ticks\":\"\"},\"colorscale\":[[0.0,\"#0d0887\"],[0.1111111111111111,\"#46039f\"],[0.2222222222222222,\"#7201a8\"],[0.3333333333333333,\"#9c179e\"],[0.4444444444444444,\"#bd3786\"],[0.5555555555555556,\"#d8576b\"],[0.6666666666666666,\"#ed7953\"],[0.7777777777777778,\"#fb9f3a\"],[0.8888888888888888,\"#fdca26\"],[1.0,\"#f0f921\"]]}],\"choropleth\":[{\"type\":\"choropleth\",\"colorbar\":{\"outlinewidth\":0,\"ticks\":\"\"}}],\"histogram2d\":[{\"type\":\"histogram2d\",\"colorbar\":{\"outlinewidth\":0,\"ticks\":\"\"},\"colorscale\":[[0.0,\"#0d0887\"],[0.1111111111111111,\"#46039f\"],[0.2222222222222222,\"#7201a8\"],[0.3333333333333333,\"#9c179e\"],[0.4444444444444444,\"#bd3786\"],[0.5555555555555556,\"#d8576b\"],[0.6666666666666666,\"#ed7953\"],[0.7777777777777778,\"#fb9f3a\"],[0.8888888888888888,\"#fdca26\"],[1.0,\"#f0f921\"]]}],\"heatmap\":[{\"type\":\"heatmap\",\"colorbar\":{\"outlinewidth\":0,\"ticks\":\"\"},\"colorscale\":[[0.0,\"#0d0887\"],[0.1111111111111111,\"#46039f\"],[0.2222222222222222,\"#7201a8\"],[0.3333333333333333,\"#9c179e\"],[0.4444444444444444,\"#bd3786\"],[0.5555555555555556,\"#d8576b\"],[0.6666666666666666,\"#ed7953\"],[0.7777777777777778,\"#fb9f3a\"],[0.8888888888888888,\"#fdca26\"],[1.0,\"#f0f921\"]]}],\"heatmapgl\":[{\"type\":\"heatmapgl\",\"colorbar\":{\"outlinewidth\":0,\"ticks\":\"\"},\"colorscale\":[[0.0,\"#0d0887\"],[0.1111111111111111,\"#46039f\"],[0.2222222222222222,\"#7201a8\"],[0.3333333333333333,\"#9c179e\"],[0.4444444444444444,\"#bd3786\"],[0.5555555555555556,\"#d8576b\"],[0.6666666666666666,\"#ed7953\"],[0.7777777777777778,\"#fb9f3a\"],[0.8888888888888888,\"#fdca26\"],[1.0,\"#f0f921\"]]}],\"contourcarpet\":[{\"type\":\"contourcarpet\",\"colorbar\":{\"outlinewidth\":0,\"ticks\":\"\"}}],\"contour\":[{\"type\":\"contour\",\"colorbar\":{\"outlinewidth\":0,\"ticks\":\"\"},\"colorscale\":[[0.0,\"#0d0887\"],[0.1111111111111111,\"#46039f\"],[0.2222222222222222,\"#7201a8\"],[0.3333333333333333,\"#9c179e\"],[0.4444444444444444,\"#bd3786\"],[0.5555555555555556,\"#d8576b\"],[0.6666666666666666,\"#ed7953\"],[0.7777777777777778,\"#fb9f3a\"],[0.8888888888888888,\"#fdca26\"],[1.0,\"#f0f921\"]]}],\"surface\":[{\"type\":\"surface\",\"colorbar\":{\"outlinewidth\":0,\"ticks\":\"\"},\"colorscale\":[[0.0,\"#0d0887\"],[0.1111111111111111,\"#46039f\"],[0.2222222222222222,\"#7201a8\"],[0.3333333333333333,\"#9c179e\"],[0.4444444444444444,\"#bd3786\"],[0.5555555555555556,\"#d8576b\"],[0.6666666666666666,\"#ed7953\"],[0.7777777777777778,\"#fb9f3a\"],[0.8888888888888888,\"#fdca26\"],[1.0,\"#f0f921\"]]}],\"mesh3d\":[{\"type\":\"mesh3d\",\"colorbar\":{\"outlinewidth\":0,\"ticks\":\"\"}}],\"scatter\":[{\"fillpattern\":{\"fillmode\":\"overlay\",\"size\":10,\"solidity\":0.2},\"type\":\"scatter\"}],\"parcoords\":[{\"type\":\"parcoords\",\"line\":{\"colorbar\":{\"outlinewidth\":0,\"ticks\":\"\"}}}],\"scatterpolargl\":[{\"type\":\"scatterpolargl\",\"marker\":{\"colorbar\":{\"outlinewidth\":0,\"ticks\":\"\"}}}],\"bar\":[{\"error_x\":{\"color\":\"#2a3f5f\"},\"error_y\":{\"color\":\"#2a3f5f\"},\"marker\":{\"line\":{\"color\":\"#E5ECF6\",\"width\":0.5},\"pattern\":{\"fillmode\":\"overlay\",\"size\":10,\"solidity\":0.2}},\"type\":\"bar\"}],\"scattergeo\":[{\"type\":\"scattergeo\",\"marker\":{\"colorbar\":{\"outlinewidth\":0,\"ticks\":\"\"}}}],\"scatterpolar\":[{\"type\":\"scatterpolar\",\"marker\":{\"colorbar\":{\"outlinewidth\":0,\"ticks\":\"\"}}}],\"histogram\":[{\"marker\":{\"pattern\":{\"fillmode\":\"overlay\",\"size\":10,\"solidity\":0.2}},\"type\":\"histogram\"}],\"scattergl\":[{\"type\":\"scattergl\",\"marker\":{\"colorbar\":{\"outlinewidth\":0,\"ticks\":\"\"}}}],\"scatter3d\":[{\"type\":\"scatter3d\",\"line\":{\"colorbar\":{\"outlinewidth\":0,\"ticks\":\"\"}},\"marker\":{\"colorbar\":{\"outlinewidth\":0,\"ticks\":\"\"}}}],\"scattermapbox\":[{\"type\":\"scattermapbox\",\"marker\":{\"colorbar\":{\"outlinewidth\":0,\"ticks\":\"\"}}}],\"scatterternary\":[{\"type\":\"scatterternary\",\"marker\":{\"colorbar\":{\"outlinewidth\":0,\"ticks\":\"\"}}}],\"scattercarpet\":[{\"type\":\"scattercarpet\",\"marker\":{\"colorbar\":{\"outlinewidth\":0,\"ticks\":\"\"}}}],\"carpet\":[{\"aaxis\":{\"endlinecolor\":\"#2a3f5f\",\"gridcolor\":\"white\",\"linecolor\":\"white\",\"minorgridcolor\":\"white\",\"startlinecolor\":\"#2a3f5f\"},\"baxis\":{\"endlinecolor\":\"#2a3f5f\",\"gridcolor\":\"white\",\"linecolor\":\"white\",\"minorgridcolor\":\"white\",\"startlinecolor\":\"#2a3f5f\"},\"type\":\"carpet\"}],\"table\":[{\"cells\":{\"fill\":{\"color\":\"#EBF0F8\"},\"line\":{\"color\":\"white\"}},\"header\":{\"fill\":{\"color\":\"#C8D4E3\"},\"line\":{\"color\":\"white\"}},\"type\":\"table\"}],\"barpolar\":[{\"marker\":{\"line\":{\"color\":\"#E5ECF6\",\"width\":0.5},\"pattern\":{\"fillmode\":\"overlay\",\"size\":10,\"solidity\":0.2}},\"type\":\"barpolar\"}],\"pie\":[{\"automargin\":true,\"type\":\"pie\"}]},\"layout\":{\"autotypenumbers\":\"strict\",\"colorway\":[\"#636efa\",\"#EF553B\",\"#00cc96\",\"#ab63fa\",\"#FFA15A\",\"#19d3f3\",\"#FF6692\",\"#B6E880\",\"#FF97FF\",\"#FECB52\"],\"font\":{\"color\":\"#2a3f5f\"},\"hovermode\":\"closest\",\"hoverlabel\":{\"align\":\"left\"},\"paper_bgcolor\":\"white\",\"plot_bgcolor\":\"#E5ECF6\",\"polar\":{\"bgcolor\":\"#E5ECF6\",\"angularaxis\":{\"gridcolor\":\"white\",\"linecolor\":\"white\",\"ticks\":\"\"},\"radialaxis\":{\"gridcolor\":\"white\",\"linecolor\":\"white\",\"ticks\":\"\"}},\"ternary\":{\"bgcolor\":\"#E5ECF6\",\"aaxis\":{\"gridcolor\":\"white\",\"linecolor\":\"white\",\"ticks\":\"\"},\"baxis\":{\"gridcolor\":\"white\",\"linecolor\":\"white\",\"ticks\":\"\"},\"caxis\":{\"gridcolor\":\"white\",\"linecolor\":\"white\",\"ticks\":\"\"}},\"coloraxis\":{\"colorbar\":{\"outlinewidth\":0,\"ticks\":\"\"}},\"colorscale\":{\"sequential\":[[0.0,\"#0d0887\"],[0.1111111111111111,\"#46039f\"],[0.2222222222222222,\"#7201a8\"],[0.3333333333333333,\"#9c179e\"],[0.4444444444444444,\"#bd3786\"],[0.5555555555555556,\"#d8576b\"],[0.6666666666666666,\"#ed7953\"],[0.7777777777777778,\"#fb9f3a\"],[0.8888888888888888,\"#fdca26\"],[1.0,\"#f0f921\"]],\"sequentialminus\":[[0.0,\"#0d0887\"],[0.1111111111111111,\"#46039f\"],[0.2222222222222222,\"#7201a8\"],[0.3333333333333333,\"#9c179e\"],[0.4444444444444444,\"#bd3786\"],[0.5555555555555556,\"#d8576b\"],[0.6666666666666666,\"#ed7953\"],[0.7777777777777778,\"#fb9f3a\"],[0.8888888888888888,\"#fdca26\"],[1.0,\"#f0f921\"]],\"diverging\":[[0,\"#8e0152\"],[0.1,\"#c51b7d\"],[0.2,\"#de77ae\"],[0.3,\"#f1b6da\"],[0.4,\"#fde0ef\"],[0.5,\"#f7f7f7\"],[0.6,\"#e6f5d0\"],[0.7,\"#b8e186\"],[0.8,\"#7fbc41\"],[0.9,\"#4d9221\"],[1,\"#276419\"]]},\"xaxis\":{\"gridcolor\":\"white\",\"linecolor\":\"white\",\"ticks\":\"\",\"title\":{\"standoff\":15},\"zerolinecolor\":\"white\",\"automargin\":true,\"zerolinewidth\":2},\"yaxis\":{\"gridcolor\":\"white\",\"linecolor\":\"white\",\"ticks\":\"\",\"title\":{\"standoff\":15},\"zerolinecolor\":\"white\",\"automargin\":true,\"zerolinewidth\":2},\"scene\":{\"xaxis\":{\"backgroundcolor\":\"#E5ECF6\",\"gridcolor\":\"white\",\"linecolor\":\"white\",\"showbackground\":true,\"ticks\":\"\",\"zerolinecolor\":\"white\",\"gridwidth\":2},\"yaxis\":{\"backgroundcolor\":\"#E5ECF6\",\"gridcolor\":\"white\",\"linecolor\":\"white\",\"showbackground\":true,\"ticks\":\"\",\"zerolinecolor\":\"white\",\"gridwidth\":2},\"zaxis\":{\"backgroundcolor\":\"#E5ECF6\",\"gridcolor\":\"white\",\"linecolor\":\"white\",\"showbackground\":true,\"ticks\":\"\",\"zerolinecolor\":\"white\",\"gridwidth\":2}},\"shapedefaults\":{\"line\":{\"color\":\"#2a3f5f\"}},\"annotationdefaults\":{\"arrowcolor\":\"#2a3f5f\",\"arrowhead\":0,\"arrowwidth\":1},\"geo\":{\"bgcolor\":\"white\",\"landcolor\":\"#E5ECF6\",\"subunitcolor\":\"white\",\"showland\":true,\"showlakes\":true,\"lakecolor\":\"white\"},\"title\":{\"x\":0.05},\"mapbox\":{\"style\":\"light\"}}},\"autosize\":false,\"width\":700,\"height\":500},                        {\"responsive\": true}                    ).then(function(){\n",
       "                            \n",
       "var gd = document.getElementById('5d2315d5-2441-49ec-8bff-ebd3569866ba');\n",
       "var x = new MutationObserver(function (mutations, observer) {{\n",
       "        var display = window.getComputedStyle(gd).display;\n",
       "        if (!display || display === 'none') {{\n",
       "            console.log([gd, 'removed!']);\n",
       "            Plotly.purge(gd);\n",
       "            observer.disconnect();\n",
       "        }}\n",
       "}});\n",
       "\n",
       "// Listen for the removal of the full notebook cells\n",
       "var notebookContainer = gd.closest('#notebook-container');\n",
       "if (notebookContainer) {{\n",
       "    x.observe(notebookContainer, {childList: true});\n",
       "}}\n",
       "\n",
       "// Listen for the clearing of the current output cell\n",
       "var outputEl = gd.closest('.output');\n",
       "if (outputEl) {{\n",
       "    x.observe(outputEl, {childList: true});\n",
       "}}\n",
       "\n",
       "                        })                };                });            </script>        </div>"
      ]
     },
     "metadata": {},
     "output_type": "display_data"
    }
   ],
   "source": [
    "fig = go.Figure()\n",
    "\n",
    "for index, row in data.iterrows():\n",
    "    fig.add_trace(go.Funnel(\n",
    "        name = data[0][index],\n",
    "        y = [\"Регистрации на игру\", \"Пришедшие на игру\"],\n",
    "        x = row[3:],\n",
    "        textinfo = \"value+percent previous\"))\n",
    "    \n",
    "fig.update_layout(\n",
    "    autosize=False,\n",
    "    width=700,\n",
    "    height=500\n",
    ")    \n",
    "\n",
    "fig.show()"
   ]
  },
  {
   "cell_type": "markdown",
   "id": "7ca1d9ca",
   "metadata": {},
   "source": [
    "#### Можно объяснить тем, что декабрьские и январские пользователи только недавно узнали о квестах и ещё не успели сходить на игру. \n",
    "\n",
    "###### А почему в сентябре меньше? Видимо, тогда проект только запускался и мало клиентов хотели сразу же на него идти - не было отзывов, рекомендаций знакомых и т.п."
   ]
  },
  {
   "cell_type": "markdown",
   "id": "13bede03",
   "metadata": {},
   "source": [
    "# Теперь сделаем анализ не по месяцам, а по неделям"
   ]
  },
  {
   "cell_type": "markdown",
   "id": "996c32cd",
   "metadata": {},
   "source": [
    "Можно было бы брать запросы по YYYY-WW, то есть по номеру недели. Но тут возникнет проблема с тем, что в декабре в последней неделе дней меньше. И получилась бы странная аналитика. Поэтому сделаем получше: будем брать по 7 дней и округлять значение даты до первого дня недели"
   ]
  },
  {
   "cell_type": "code",
   "execution_count": 193,
   "id": "0e0e06bf",
   "metadata": {},
   "outputs": [],
   "source": [
    "cursor.execute(\n",
    "'''\n",
    "select \n",
    " to_char(date '2022-09-01' + dd * 7, 'DD.MM') as d, \n",
    " count(client) as visit_cnt, \n",
    " count(account) as account_cnt, \n",
    " sum(application) as app_cnt,\n",
    " sum(game) as game_cnt\n",
    "from\n",
    " (select \n",
    "   cast(DATE_PART('day', visit_dttm - '2022-09-01 00:00:00'::timestamp) as INTEGER) / 7 as dd,\n",
    "   msu_analytics.client.client_rk as client, \n",
    "   msu_analytics.account.account_rk as account, \n",
    "   case when exists(select 1 from msu_analytics.application \n",
    "   \t where msu_analytics.account.account_rk = msu_analytics.application.account_rk) \n",
    "   \t then 1 else 0 end as application,\n",
    "   case when exists(select 1 from msu_analytics.game \n",
    "     inner join msu_analytics.application on msu_analytics.application.game_rk = msu_analytics.game.game_rk\n",
    "     where msu_analytics.game.game_flg = 1 and msu_analytics.account.account_rk = msu_analytics.application.account_rk) \n",
    "     then 1 else 0 end as game\n",
    " from msu_analytics.client\n",
    " left join msu_analytics.account on msu_analytics.client.client_rk = msu_analytics.account.client_rk\n",
    " ) as q\n",
    "group by dd\n",
    "order by dd\n",
    "''')\n",
    "week_result = cursor.fetchall()"
   ]
  },
  {
   "cell_type": "code",
   "execution_count": 194,
   "id": "5122c75d",
   "metadata": {},
   "outputs": [
    {
     "data": {
      "text/plain": [
       "[('01.09', 178, 46, 10, 7),\n",
       " ('08.09', 196, 40, 13, 10),\n",
       " ('15.09', 164, 37, 10, 5),\n",
       " ('22.09', 183, 55, 16, 15),\n",
       " ('29.09', 207, 56, 19, 18),\n",
       " ('06.10', 209, 52, 10, 8),\n",
       " ('13.10', 157, 41, 14, 13),\n",
       " ('20.10', 182, 45, 12, 10),\n",
       " ('27.10', 209, 50, 15, 12),\n",
       " ('03.11', 173, 46, 17, 15),\n",
       " ('10.11', 182, 40, 10, 8),\n",
       " ('17.11', 178, 46, 13, 12),\n",
       " ('24.11', 189, 53, 13, 12),\n",
       " ('01.12', 165, 40, 10, 8),\n",
       " ('08.12', 177, 44, 18, 13),\n",
       " ('15.12', 190, 48, 13, 5),\n",
       " ('22.12', 196, 45, 12, 5),\n",
       " ('29.12', 187, 48, 14, 4),\n",
       " ('05.01', 202, 59, 17, 7),\n",
       " ('12.01', 199, 37, 9, 2),\n",
       " ('19.01', 191, 47, 14, 7),\n",
       " ('26.01', 177, 47, 14, 2),\n",
       " ('02.02', 5, 2, 0, 0)]"
      ]
     },
     "execution_count": 194,
     "metadata": {},
     "output_type": "execute_result"
    }
   ],
   "source": [
    "week_result"
   ]
  },
  {
   "cell_type": "code",
   "execution_count": 195,
   "id": "bc249ad0",
   "metadata": {},
   "outputs": [
    {
     "data": {
      "text/html": [
       "<div>\n",
       "<style scoped>\n",
       "    .dataframe tbody tr th:only-of-type {\n",
       "        vertical-align: middle;\n",
       "    }\n",
       "\n",
       "    .dataframe tbody tr th {\n",
       "        vertical-align: top;\n",
       "    }\n",
       "\n",
       "    .dataframe thead th {\n",
       "        text-align: right;\n",
       "    }\n",
       "</style>\n",
       "<table border=\"1\" class=\"dataframe\">\n",
       "  <thead>\n",
       "    <tr style=\"text-align: right;\">\n",
       "      <th></th>\n",
       "      <th>0</th>\n",
       "      <th>1</th>\n",
       "      <th>2</th>\n",
       "      <th>3</th>\n",
       "      <th>4</th>\n",
       "    </tr>\n",
       "  </thead>\n",
       "  <tbody>\n",
       "    <tr>\n",
       "      <th>0</th>\n",
       "      <td>01.09</td>\n",
       "      <td>178</td>\n",
       "      <td>46</td>\n",
       "      <td>10</td>\n",
       "      <td>7</td>\n",
       "    </tr>\n",
       "    <tr>\n",
       "      <th>1</th>\n",
       "      <td>08.09</td>\n",
       "      <td>196</td>\n",
       "      <td>40</td>\n",
       "      <td>13</td>\n",
       "      <td>10</td>\n",
       "    </tr>\n",
       "    <tr>\n",
       "      <th>2</th>\n",
       "      <td>15.09</td>\n",
       "      <td>164</td>\n",
       "      <td>37</td>\n",
       "      <td>10</td>\n",
       "      <td>5</td>\n",
       "    </tr>\n",
       "    <tr>\n",
       "      <th>3</th>\n",
       "      <td>22.09</td>\n",
       "      <td>183</td>\n",
       "      <td>55</td>\n",
       "      <td>16</td>\n",
       "      <td>15</td>\n",
       "    </tr>\n",
       "    <tr>\n",
       "      <th>4</th>\n",
       "      <td>29.09</td>\n",
       "      <td>207</td>\n",
       "      <td>56</td>\n",
       "      <td>19</td>\n",
       "      <td>18</td>\n",
       "    </tr>\n",
       "    <tr>\n",
       "      <th>5</th>\n",
       "      <td>06.10</td>\n",
       "      <td>209</td>\n",
       "      <td>52</td>\n",
       "      <td>10</td>\n",
       "      <td>8</td>\n",
       "    </tr>\n",
       "    <tr>\n",
       "      <th>6</th>\n",
       "      <td>13.10</td>\n",
       "      <td>157</td>\n",
       "      <td>41</td>\n",
       "      <td>14</td>\n",
       "      <td>13</td>\n",
       "    </tr>\n",
       "    <tr>\n",
       "      <th>7</th>\n",
       "      <td>20.10</td>\n",
       "      <td>182</td>\n",
       "      <td>45</td>\n",
       "      <td>12</td>\n",
       "      <td>10</td>\n",
       "    </tr>\n",
       "    <tr>\n",
       "      <th>8</th>\n",
       "      <td>27.10</td>\n",
       "      <td>209</td>\n",
       "      <td>50</td>\n",
       "      <td>15</td>\n",
       "      <td>12</td>\n",
       "    </tr>\n",
       "    <tr>\n",
       "      <th>9</th>\n",
       "      <td>03.11</td>\n",
       "      <td>173</td>\n",
       "      <td>46</td>\n",
       "      <td>17</td>\n",
       "      <td>15</td>\n",
       "    </tr>\n",
       "    <tr>\n",
       "      <th>10</th>\n",
       "      <td>10.11</td>\n",
       "      <td>182</td>\n",
       "      <td>40</td>\n",
       "      <td>10</td>\n",
       "      <td>8</td>\n",
       "    </tr>\n",
       "    <tr>\n",
       "      <th>11</th>\n",
       "      <td>17.11</td>\n",
       "      <td>178</td>\n",
       "      <td>46</td>\n",
       "      <td>13</td>\n",
       "      <td>12</td>\n",
       "    </tr>\n",
       "    <tr>\n",
       "      <th>12</th>\n",
       "      <td>24.11</td>\n",
       "      <td>189</td>\n",
       "      <td>53</td>\n",
       "      <td>13</td>\n",
       "      <td>12</td>\n",
       "    </tr>\n",
       "    <tr>\n",
       "      <th>13</th>\n",
       "      <td>01.12</td>\n",
       "      <td>165</td>\n",
       "      <td>40</td>\n",
       "      <td>10</td>\n",
       "      <td>8</td>\n",
       "    </tr>\n",
       "    <tr>\n",
       "      <th>14</th>\n",
       "      <td>08.12</td>\n",
       "      <td>177</td>\n",
       "      <td>44</td>\n",
       "      <td>18</td>\n",
       "      <td>13</td>\n",
       "    </tr>\n",
       "    <tr>\n",
       "      <th>15</th>\n",
       "      <td>15.12</td>\n",
       "      <td>190</td>\n",
       "      <td>48</td>\n",
       "      <td>13</td>\n",
       "      <td>5</td>\n",
       "    </tr>\n",
       "    <tr>\n",
       "      <th>16</th>\n",
       "      <td>22.12</td>\n",
       "      <td>196</td>\n",
       "      <td>45</td>\n",
       "      <td>12</td>\n",
       "      <td>5</td>\n",
       "    </tr>\n",
       "    <tr>\n",
       "      <th>17</th>\n",
       "      <td>29.12</td>\n",
       "      <td>187</td>\n",
       "      <td>48</td>\n",
       "      <td>14</td>\n",
       "      <td>4</td>\n",
       "    </tr>\n",
       "    <tr>\n",
       "      <th>18</th>\n",
       "      <td>05.01</td>\n",
       "      <td>202</td>\n",
       "      <td>59</td>\n",
       "      <td>17</td>\n",
       "      <td>7</td>\n",
       "    </tr>\n",
       "    <tr>\n",
       "      <th>19</th>\n",
       "      <td>12.01</td>\n",
       "      <td>199</td>\n",
       "      <td>37</td>\n",
       "      <td>9</td>\n",
       "      <td>2</td>\n",
       "    </tr>\n",
       "    <tr>\n",
       "      <th>20</th>\n",
       "      <td>19.01</td>\n",
       "      <td>191</td>\n",
       "      <td>47</td>\n",
       "      <td>14</td>\n",
       "      <td>7</td>\n",
       "    </tr>\n",
       "    <tr>\n",
       "      <th>21</th>\n",
       "      <td>26.01</td>\n",
       "      <td>177</td>\n",
       "      <td>47</td>\n",
       "      <td>14</td>\n",
       "      <td>2</td>\n",
       "    </tr>\n",
       "    <tr>\n",
       "      <th>22</th>\n",
       "      <td>02.02</td>\n",
       "      <td>5</td>\n",
       "      <td>2</td>\n",
       "      <td>0</td>\n",
       "      <td>0</td>\n",
       "    </tr>\n",
       "  </tbody>\n",
       "</table>\n",
       "</div>"
      ],
      "text/plain": [
       "        0    1   2   3   4\n",
       "0   01.09  178  46  10   7\n",
       "1   08.09  196  40  13  10\n",
       "2   15.09  164  37  10   5\n",
       "3   22.09  183  55  16  15\n",
       "4   29.09  207  56  19  18\n",
       "5   06.10  209  52  10   8\n",
       "6   13.10  157  41  14  13\n",
       "7   20.10  182  45  12  10\n",
       "8   27.10  209  50  15  12\n",
       "9   03.11  173  46  17  15\n",
       "10  10.11  182  40  10   8\n",
       "11  17.11  178  46  13  12\n",
       "12  24.11  189  53  13  12\n",
       "13  01.12  165  40  10   8\n",
       "14  08.12  177  44  18  13\n",
       "15  15.12  190  48  13   5\n",
       "16  22.12  196  45  12   5\n",
       "17  29.12  187  48  14   4\n",
       "18  05.01  202  59  17   7\n",
       "19  12.01  199  37   9   2\n",
       "20  19.01  191  47  14   7\n",
       "21  26.01  177  47  14   2\n",
       "22  02.02    5   2   0   0"
      ]
     },
     "execution_count": 195,
     "metadata": {},
     "output_type": "execute_result"
    }
   ],
   "source": [
    "week_data = pd.DataFrame(week_result)\n",
    "week_data"
   ]
  },
  {
   "cell_type": "code",
   "execution_count": 196,
   "id": "70b13759",
   "metadata": {},
   "outputs": [],
   "source": [
    "week_proc = [(100 * week_data[i + 2] / week_data[1]).astype(int).astype(str) + \"%\" for i in range(3)]"
   ]
  },
  {
   "cell_type": "code",
   "execution_count": 202,
   "id": "661b22df",
   "metadata": {},
   "outputs": [
    {
     "data": {
      "image/png": "[encoded data removed]",
      "text/plain": [
       "<Figure size 2000x1000 with 1 Axes>"
      ]
     },
     "metadata": {},
     "output_type": "display_data"
    }
   ],
   "source": [
    "fig, ax = plt.subplots(figsize=(20, 10))\n",
    "x = np.array(week_data.index.tolist())\n",
    "rects1 = ax.bar(x, week_data[1], label='Посещения сайта')\n",
    "rects2 = ax.bar(x, week_data[2], label='Регистрации аккаунтов')\n",
    "rects3 = ax.bar(x, week_data[3], label='Регистрации на игру')\n",
    "rects4 = ax.bar(x, week_data[4], label='Пришедшие на игру')\n",
    "ax.set_xticks(x)\n",
    "ax.set_xticklabels(week_data[0])\n",
    "ax.legend()\n",
    "ax.bar_label(rects1, padding=5)\n",
    "ax.bar_label(rects2, labels = week_proc[0], padding=5)\n",
    "ax.bar_label(rects3, labels = week_proc[1], padding=5)\n",
    "ax.bar_label(rects4, labels = week_proc[2], label_type='center')\n",
    "fig.tight_layout()"
   ]
  },
  {
   "cell_type": "markdown",
   "id": "e20fcbd3",
   "metadata": {},
   "source": [
    "### ПОЯСНЕНИЕ: здесь высота столбика отражает общее число людей, посетивших сайт. То есть чисто синим цветом покрашены уже те, кто посетил, но не зарегистрировался. Оранжевым - посетил и зарегистрировался, но не записался на игру. Зелёным - записался на игру, но не пришёл. Красным - те, кто пришёл на игру.\n",
    "\n",
    "### А дальше доли указаны от общего числа посещений.\n",
    "\n",
    "## То есть здесь не надо как-то пытаться понять, сколько было чисто синих для количества посещений. Нет, вот высота столбика это и есть количество посещений. Дальше смотрим высоту оранжевого - это и есть количество регистраций. А в процентах подписаны доли от посетителей сайта"
   ]
  },
  {
   "cell_type": "markdown",
   "id": "4a780448",
   "metadata": {},
   "source": [
    "Теперь посмотрим воронки конверсий на каждом шаге:"
   ]
  },
  {
   "cell_type": "code",
   "execution_count": 199,
   "id": "6aff53b9",
   "metadata": {},
   "outputs": [
    {
     "data": {
      "application/vnd.plotly.v1+json": {
       "config": {
        "plotlyServerURL": "https://plot.ly"
       },
       "data": [
        {
         "name": "01.09",
         "textinfo": "value+percent previous",
         "type": "funnel",
         "x": [
          178,
          46
         ],
         "y": [
          "",
          "Посещения сайта",
          "Регистрации аккаунтов",
          "Регистрации на игру",
          "Пришедшие на игру"
         ]
        },
        {
         "name": "08.09",
         "textinfo": "value+percent previous",
         "type": "funnel",
         "x": [
          196,
          40
         ],
         "y": [
          "",
          "Посещения сайта",
          "Регистрации аккаунтов",
          "Регистрации на игру",
          "Пришедшие на игру"
         ]
        },
        {
         "name": "15.09",
         "textinfo": "value+percent previous",
         "type": "funnel",
         "x": [
          164,
          37
         ],
         "y": [
          "",
          "Посещения сайта",
          "Регистрации аккаунтов",
          "Регистрации на игру",
          "Пришедшие на игру"
         ]
        },
        {
         "name": "22.09",
         "textinfo": "value+percent previous",
         "type": "funnel",
         "x": [
          183,
          55
         ],
         "y": [
          "",
          "Посещения сайта",
          "Регистрации аккаунтов",
          "Регистрации на игру",
          "Пришедшие на игру"
         ]
        },
        {
         "name": "29.09",
         "textinfo": "value+percent previous",
         "type": "funnel",
         "x": [
          207,
          56
         ],
         "y": [
          "",
          "Посещения сайта",
          "Регистрации аккаунтов",
          "Регистрации на игру",
          "Пришедшие на игру"
         ]
        },
        {
         "name": "06.10",
         "textinfo": "value+percent previous",
         "type": "funnel",
         "x": [
          209,
          52
         ],
         "y": [
          "",
          "Посещения сайта",
          "Регистрации аккаунтов",
          "Регистрации на игру",
          "Пришедшие на игру"
         ]
        },
        {
         "name": "13.10",
         "textinfo": "value+percent previous",
         "type": "funnel",
         "x": [
          157,
          41
         ],
         "y": [
          "",
          "Посещения сайта",
          "Регистрации аккаунтов",
          "Регистрации на игру",
          "Пришедшие на игру"
         ]
        },
        {
         "name": "20.10",
         "textinfo": "value+percent previous",
         "type": "funnel",
         "x": [
          182,
          45
         ],
         "y": [
          "",
          "Посещения сайта",
          "Регистрации аккаунтов",
          "Регистрации на игру",
          "Пришедшие на игру"
         ]
        },
        {
         "name": "27.10",
         "textinfo": "value+percent previous",
         "type": "funnel",
         "x": [
          209,
          50
         ],
         "y": [
          "",
          "Посещения сайта",
          "Регистрации аккаунтов",
          "Регистрации на игру",
          "Пришедшие на игру"
         ]
        },
        {
         "name": "03.11",
         "textinfo": "value+percent previous",
         "type": "funnel",
         "x": [
          173,
          46
         ],
         "y": [
          "",
          "Посещения сайта",
          "Регистрации аккаунтов",
          "Регистрации на игру",
          "Пришедшие на игру"
         ]
        },
        {
         "name": "10.11",
         "textinfo": "value+percent previous",
         "type": "funnel",
         "x": [
          182,
          40
         ],
         "y": [
          "",
          "Посещения сайта",
          "Регистрации аккаунтов",
          "Регистрации на игру",
          "Пришедшие на игру"
         ]
        },
        {
         "name": "17.11",
         "textinfo": "value+percent previous",
         "type": "funnel",
         "x": [
          178,
          46
         ],
         "y": [
          "",
          "Посещения сайта",
          "Регистрации аккаунтов",
          "Регистрации на игру",
          "Пришедшие на игру"
         ]
        },
        {
         "name": "24.11",
         "textinfo": "value+percent previous",
         "type": "funnel",
         "x": [
          189,
          53
         ],
         "y": [
          "",
          "Посещения сайта",
          "Регистрации аккаунтов",
          "Регистрации на игру",
          "Пришедшие на игру"
         ]
        },
        {
         "name": "01.12",
         "textinfo": "value+percent previous",
         "type": "funnel",
         "x": [
          165,
          40
         ],
         "y": [
          "",
          "Посещения сайта",
          "Регистрации аккаунтов",
          "Регистрации на игру",
          "Пришедшие на игру"
         ]
        },
        {
         "name": "08.12",
         "textinfo": "value+percent previous",
         "type": "funnel",
         "x": [
          177,
          44
         ],
         "y": [
          "",
          "Посещения сайта",
          "Регистрации аккаунтов",
          "Регистрации на игру",
          "Пришедшие на игру"
         ]
        },
        {
         "name": "15.12",
         "textinfo": "value+percent previous",
         "type": "funnel",
         "x": [
          190,
          48
         ],
         "y": [
          "",
          "Посещения сайта",
          "Регистрации аккаунтов",
          "Регистрации на игру",
          "Пришедшие на игру"
         ]
        },
        {
         "name": "22.12",
         "textinfo": "value+percent previous",
         "type": "funnel",
         "x": [
          196,
          45
         ],
         "y": [
          "",
          "Посещения сайта",
          "Регистрации аккаунтов",
          "Регистрации на игру",
          "Пришедшие на игру"
         ]
        },
        {
         "name": "29.12",
         "textinfo": "value+percent previous",
         "type": "funnel",
         "x": [
          187,
          48
         ],
         "y": [
          "",
          "Посещения сайта",
          "Регистрации аккаунтов",
          "Регистрации на игру",
          "Пришедшие на игру"
         ]
        },
        {
         "name": "05.01",
         "textinfo": "value+percent previous",
         "type": "funnel",
         "x": [
          202,
          59
         ],
         "y": [
          "",
          "Посещения сайта",
          "Регистрации аккаунтов",
          "Регистрации на игру",
          "Пришедшие на игру"
         ]
        },
        {
         "name": "12.01",
         "textinfo": "value+percent previous",
         "type": "funnel",
         "x": [
          199,
          37
         ],
         "y": [
          "",
          "Посещения сайта",
          "Регистрации аккаунтов",
          "Регистрации на игру",
          "Пришедшие на игру"
         ]
        },
        {
         "name": "19.01",
         "textinfo": "value+percent previous",
         "type": "funnel",
         "x": [
          191,
          47
         ],
         "y": [
          "",
          "Посещения сайта",
          "Регистрации аккаунтов",
          "Регистрации на игру",
          "Пришедшие на игру"
         ]
        },
        {
         "name": "26.01",
         "textinfo": "value+percent previous",
         "type": "funnel",
         "x": [
          177,
          47
         ],
         "y": [
          "",
          "Посещения сайта",
          "Регистрации аккаунтов",
          "Регистрации на игру",
          "Пришедшие на игру"
         ]
        },
        {
         "name": "02.02",
         "textinfo": "value+percent previous",
         "type": "funnel",
         "x": [
          5,
          2
         ],
         "y": [
          "",
          "Посещения сайта",
          "Регистрации аккаунтов",
          "Регистрации на игру",
          "Пришедшие на игру"
         ]
        }
       ],
       "layout": {
        "autosize": false,
        "height": 500,
        "template": {
         "data": {
          "bar": [
           {
            "error_x": {
             "color": "#2a3f5f"
            },
            "error_y": {
             "color": "#2a3f5f"
            },
            "marker": {
             "line": {
              "color": "#E5ECF6",
              "width": 0.5
             },
             "pattern": {
              "fillmode": "overlay",
              "size": 10,
              "solidity": 0.2
             }
            },
            "type": "bar"
           }
          ],
          "barpolar": [
           {
            "marker": {
             "line": {
              "color": "#E5ECF6",
              "width": 0.5
             },
             "pattern": {
              "fillmode": "overlay",
              "size": 10,
              "solidity": 0.2
             }
            },
            "type": "barpolar"
           }
          ],
          "carpet": [
           {
            "aaxis": {
             "endlinecolor": "#2a3f5f",
             "gridcolor": "white",
             "linecolor": "white",
             "minorgridcolor": "white",
             "startlinecolor": "#2a3f5f"
            },
            "baxis": {
             "endlinecolor": "#2a3f5f",
             "gridcolor": "white",
             "linecolor": "white",
             "minorgridcolor": "white",
             "startlinecolor": "#2a3f5f"
            },
            "type": "carpet"
           }
          ],
          "choropleth": [
           {
            "colorbar": {
             "outlinewidth": 0,
             "ticks": ""
            },
            "type": "choropleth"
           }
          ],
          "contour": [
           {
            "colorbar": {
             "outlinewidth": 0,
             "ticks": ""
            },
            "colorscale": [
             [
              0,
              "#0d0887"
             ],
             [
              0.1111111111111111,
              "#46039f"
             ],
             [
              0.2222222222222222,
              "#7201a8"
             ],
             [
              0.3333333333333333,
              "#9c179e"
             ],
             [
              0.4444444444444444,
              "#bd3786"
             ],
             [
              0.5555555555555556,
              "#d8576b"
             ],
             [
              0.6666666666666666,
              "#ed7953"
             ],
             [
              0.7777777777777778,
              "#fb9f3a"
             ],
             [
              0.8888888888888888,
              "#fdca26"
             ],
             [
              1,
              "#f0f921"
             ]
            ],
            "type": "contour"
           }
          ],
          "contourcarpet": [
           {
            "colorbar": {
             "outlinewidth": 0,
             "ticks": ""
            },
            "type": "contourcarpet"
           }
          ],
          "heatmap": [
           {
            "colorbar": {
             "outlinewidth": 0,
             "ticks": ""
            },
            "colorscale": [
             [
              0,
              "#0d0887"
             ],
             [
              0.1111111111111111,
              "#46039f"
             ],
             [
              0.2222222222222222,
              "#7201a8"
             ],
             [
              0.3333333333333333,
              "#9c179e"
             ],
             [
              0.4444444444444444,
              "#bd3786"
             ],
             [
              0.5555555555555556,
              "#d8576b"
             ],
             [
              0.6666666666666666,
              "#ed7953"
             ],
             [
              0.7777777777777778,
              "#fb9f3a"
             ],
             [
              0.8888888888888888,
              "#fdca26"
             ],
             [
              1,
              "#f0f921"
             ]
            ],
            "type": "heatmap"
           }
          ],
          "heatmapgl": [
           {
            "colorbar": {
             "outlinewidth": 0,
             "ticks": ""
            },
            "colorscale": [
             [
              0,
              "#0d0887"
             ],
             [
              0.1111111111111111,
              "#46039f"
             ],
             [
              0.2222222222222222,
              "#7201a8"
             ],
             [
              0.3333333333333333,
              "#9c179e"
             ],
             [
              0.4444444444444444,
              "#bd3786"
             ],
             [
              0.5555555555555556,
              "#d8576b"
             ],
             [
              0.6666666666666666,
              "#ed7953"
             ],
             [
              0.7777777777777778,
              "#fb9f3a"
             ],
             [
              0.8888888888888888,
              "#fdca26"
             ],
             [
              1,
              "#f0f921"
             ]
            ],
            "type": "heatmapgl"
           }
          ],
          "histogram": [
           {
            "marker": {
             "pattern": {
              "fillmode": "overlay",
              "size": 10,
              "solidity": 0.2
             }
            },
            "type": "histogram"
           }
          ],
          "histogram2d": [
           {
            "colorbar": {
             "outlinewidth": 0,
             "ticks": ""
            },
            "colorscale": [
             [
              0,
              "#0d0887"
             ],
             [
              0.1111111111111111,
              "#46039f"
             ],
             [
              0.2222222222222222,
              "#7201a8"
             ],
             [
              0.3333333333333333,
              "#9c179e"
             ],
             [
              0.4444444444444444,
              "#bd3786"
             ],
             [
              0.5555555555555556,
              "#d8576b"
             ],
             [
              0.6666666666666666,
              "#ed7953"
             ],
             [
              0.7777777777777778,
              "#fb9f3a"
             ],
             [
              0.8888888888888888,
              "#fdca26"
             ],
             [
              1,
              "#f0f921"
             ]
            ],
            "type": "histogram2d"
           }
          ],
          "histogram2dcontour": [
           {
            "colorbar": {
             "outlinewidth": 0,
             "ticks": ""
            },
            "colorscale": [
             [
              0,
              "#0d0887"
             ],
             [
              0.1111111111111111,
              "#46039f"
             ],
             [
              0.2222222222222222,
              "#7201a8"
             ],
             [
              0.3333333333333333,
              "#9c179e"
             ],
             [
              0.4444444444444444,
              "#bd3786"
             ],
             [
              0.5555555555555556,
              "#d8576b"
             ],
             [
              0.6666666666666666,
              "#ed7953"
             ],
             [
              0.7777777777777778,
              "#fb9f3a"
             ],
             [
              0.8888888888888888,
              "#fdca26"
             ],
             [
              1,
              "#f0f921"
             ]
            ],
            "type": "histogram2dcontour"
           }
          ],
          "mesh3d": [
           {
            "colorbar": {
             "outlinewidth": 0,
             "ticks": ""
            },
            "type": "mesh3d"
           }
          ],
          "parcoords": [
           {
            "line": {
             "colorbar": {
              "outlinewidth": 0,
              "ticks": ""
             }
            },
            "type": "parcoords"
           }
          ],
          "pie": [
           {
            "automargin": true,
            "type": "pie"
           }
          ],
          "scatter": [
           {
            "fillpattern": {
             "fillmode": "overlay",
             "size": 10,
             "solidity": 0.2
            },
            "type": "scatter"
           }
          ],
          "scatter3d": [
           {
            "line": {
             "colorbar": {
              "outlinewidth": 0,
              "ticks": ""
             }
            },
            "marker": {
             "colorbar": {
              "outlinewidth": 0,
              "ticks": ""
             }
            },
            "type": "scatter3d"
           }
          ],
          "scattercarpet": [
           {
            "marker": {
             "colorbar": {
              "outlinewidth": 0,
              "ticks": ""
             }
            },
            "type": "scattercarpet"
           }
          ],
          "scattergeo": [
           {
            "marker": {
             "colorbar": {
              "outlinewidth": 0,
              "ticks": ""
             }
            },
            "type": "scattergeo"
           }
          ],
          "scattergl": [
           {
            "marker": {
             "colorbar": {
              "outlinewidth": 0,
              "ticks": ""
             }
            },
            "type": "scattergl"
           }
          ],
          "scattermapbox": [
           {
            "marker": {
             "colorbar": {
              "outlinewidth": 0,
              "ticks": ""
             }
            },
            "type": "scattermapbox"
           }
          ],
          "scatterpolar": [
           {
            "marker": {
             "colorbar": {
              "outlinewidth": 0,
              "ticks": ""
             }
            },
            "type": "scatterpolar"
           }
          ],
          "scatterpolargl": [
           {
            "marker": {
             "colorbar": {
              "outlinewidth": 0,
              "ticks": ""
             }
            },
            "type": "scatterpolargl"
           }
          ],
          "scatterternary": [
           {
            "marker": {
             "colorbar": {
              "outlinewidth": 0,
              "ticks": ""
             }
            },
            "type": "scatterternary"
           }
          ],
          "surface": [
           {
            "colorbar": {
             "outlinewidth": 0,
             "ticks": ""
            },
            "colorscale": [
             [
              0,
              "#0d0887"
             ],
             [
              0.1111111111111111,
              "#46039f"
             ],
             [
              0.2222222222222222,
              "#7201a8"
             ],
             [
              0.3333333333333333,
              "#9c179e"
             ],
             [
              0.4444444444444444,
              "#bd3786"
             ],
             [
              0.5555555555555556,
              "#d8576b"
             ],
             [
              0.6666666666666666,
              "#ed7953"
             ],
             [
              0.7777777777777778,
              "#fb9f3a"
             ],
             [
              0.8888888888888888,
              "#fdca26"
             ],
             [
              1,
              "#f0f921"
             ]
            ],
            "type": "surface"
           }
          ],
          "table": [
           {
            "cells": {
             "fill": {
              "color": "#EBF0F8"
             },
             "line": {
              "color": "white"
             }
            },
            "header": {
             "fill": {
              "color": "#C8D4E3"
             },
             "line": {
              "color": "white"
             }
            },
            "type": "table"
           }
          ]
         },
         "layout": {
          "annotationdefaults": {
           "arrowcolor": "#2a3f5f",
           "arrowhead": 0,
           "arrowwidth": 1
          },
          "autotypenumbers": "strict",
          "coloraxis": {
           "colorbar": {
            "outlinewidth": 0,
            "ticks": ""
           }
          },
          "colorscale": {
           "diverging": [
            [
             0,
             "#8e0152"
            ],
            [
             0.1,
             "#c51b7d"
            ],
            [
             0.2,
             "#de77ae"
            ],
            [
             0.3,
             "#f1b6da"
            ],
            [
             0.4,
             "#fde0ef"
            ],
            [
             0.5,
             "#f7f7f7"
            ],
            [
             0.6,
             "#e6f5d0"
            ],
            [
             0.7,
             "#b8e186"
            ],
            [
             0.8,
             "#7fbc41"
            ],
            [
             0.9,
             "#4d9221"
            ],
            [
             1,
             "#276419"
            ]
           ],
           "sequential": [
            [
             0,
             "#0d0887"
            ],
            [
             0.1111111111111111,
             "#46039f"
            ],
            [
             0.2222222222222222,
             "#7201a8"
            ],
            [
             0.3333333333333333,
             "#9c179e"
            ],
            [
             0.4444444444444444,
             "#bd3786"
            ],
            [
             0.5555555555555556,
             "#d8576b"
            ],
            [
             0.6666666666666666,
             "#ed7953"
            ],
            [
             0.7777777777777778,
             "#fb9f3a"
            ],
            [
             0.8888888888888888,
             "#fdca26"
            ],
            [
             1,
             "#f0f921"
            ]
           ],
           "sequentialminus": [
            [
             0,
             "#0d0887"
            ],
            [
             0.1111111111111111,
             "#46039f"
            ],
            [
             0.2222222222222222,
             "#7201a8"
            ],
            [
             0.3333333333333333,
             "#9c179e"
            ],
            [
             0.4444444444444444,
             "#bd3786"
            ],
            [
             0.5555555555555556,
             "#d8576b"
            ],
            [
             0.6666666666666666,
             "#ed7953"
            ],
            [
             0.7777777777777778,
             "#fb9f3a"
            ],
            [
             0.8888888888888888,
             "#fdca26"
            ],
            [
             1,
             "#f0f921"
            ]
           ]
          },
          "colorway": [
           "#636efa",
           "#EF553B",
           "#00cc96",
           "#ab63fa",
           "#FFA15A",
           "#19d3f3",
           "#FF6692",
           "#B6E880",
           "#FF97FF",
           "#FECB52"
          ],
          "font": {
           "color": "#2a3f5f"
          },
          "geo": {
           "bgcolor": "white",
           "lakecolor": "white",
           "landcolor": "#E5ECF6",
           "showlakes": true,
           "showland": true,
           "subunitcolor": "white"
          },
          "hoverlabel": {
           "align": "left"
          },
          "hovermode": "closest",
          "mapbox": {
           "style": "light"
          },
          "paper_bgcolor": "white",
          "plot_bgcolor": "#E5ECF6",
          "polar": {
           "angularaxis": {
            "gridcolor": "white",
            "linecolor": "white",
            "ticks": ""
           },
           "bgcolor": "#E5ECF6",
           "radialaxis": {
            "gridcolor": "white",
            "linecolor": "white",
            "ticks": ""
           }
          },
          "scene": {
           "xaxis": {
            "backgroundcolor": "#E5ECF6",
            "gridcolor": "white",
            "gridwidth": 2,
            "linecolor": "white",
            "showbackground": true,
            "ticks": "",
            "zerolinecolor": "white"
           },
           "yaxis": {
            "backgroundcolor": "#E5ECF6",
            "gridcolor": "white",
            "gridwidth": 2,
            "linecolor": "white",
            "showbackground": true,
            "ticks": "",
            "zerolinecolor": "white"
           },
           "zaxis": {
            "backgroundcolor": "#E5ECF6",
            "gridcolor": "white",
            "gridwidth": 2,
            "linecolor": "white",
            "showbackground": true,
            "ticks": "",
            "zerolinecolor": "white"
           }
          },
          "shapedefaults": {
           "line": {
            "color": "#2a3f5f"
           }
          },
          "ternary": {
           "aaxis": {
            "gridcolor": "white",
            "linecolor": "white",
            "ticks": ""
           },
           "baxis": {
            "gridcolor": "white",
            "linecolor": "white",
            "ticks": ""
           },
           "bgcolor": "#E5ECF6",
           "caxis": {
            "gridcolor": "white",
            "linecolor": "white",
            "ticks": ""
           }
          },
          "title": {
           "x": 0.05
          },
          "xaxis": {
           "automargin": true,
           "gridcolor": "white",
           "linecolor": "white",
           "ticks": "",
           "title": {
            "standoff": 15
           },
           "zerolinecolor": "white",
           "zerolinewidth": 2
          },
          "yaxis": {
           "automargin": true,
           "gridcolor": "white",
           "linecolor": "white",
           "ticks": "",
           "title": {
            "standoff": 15
           },
           "zerolinecolor": "white",
           "zerolinewidth": 2
          }
         }
        },
        "width": 1500
       }
      },
      "text/html": [
       "<div>                            <div id=\"53a96606-1caf-4917-b08f-98cc6db2ec54\" class=\"plotly-graph-div\" style=\"height:500px; width:1500px;\"></div>            <script type=\"text/javascript\">                require([\"plotly\"], function(Plotly) {                    window.PLOTLYENV=window.PLOTLYENV || {};                                    if (document.getElementById(\"53a96606-1caf-4917-b08f-98cc6db2ec54\")) {                    Plotly.newPlot(                        \"53a96606-1caf-4917-b08f-98cc6db2ec54\",                        [{\"name\":\"01.09\",\"textinfo\":\"value+percent previous\",\"x\":[178,46],\"y\":[\"\",\"\\u041f\\u043e\\u0441\\u0435\\u0449\\u0435\\u043d\\u0438\\u044f \\u0441\\u0430\\u0439\\u0442\\u0430\",\"\\u0420\\u0435\\u0433\\u0438\\u0441\\u0442\\u0440\\u0430\\u0446\\u0438\\u0438 \\u0430\\u043a\\u043a\\u0430\\u0443\\u043d\\u0442\\u043e\\u0432\",\"\\u0420\\u0435\\u0433\\u0438\\u0441\\u0442\\u0440\\u0430\\u0446\\u0438\\u0438 \\u043d\\u0430 \\u0438\\u0433\\u0440\\u0443\",\"\\u041f\\u0440\\u0438\\u0448\\u0435\\u0434\\u0448\\u0438\\u0435 \\u043d\\u0430 \\u0438\\u0433\\u0440\\u0443\"],\"type\":\"funnel\"},{\"name\":\"08.09\",\"textinfo\":\"value+percent previous\",\"x\":[196,40],\"y\":[\"\",\"\\u041f\\u043e\\u0441\\u0435\\u0449\\u0435\\u043d\\u0438\\u044f \\u0441\\u0430\\u0439\\u0442\\u0430\",\"\\u0420\\u0435\\u0433\\u0438\\u0441\\u0442\\u0440\\u0430\\u0446\\u0438\\u0438 \\u0430\\u043a\\u043a\\u0430\\u0443\\u043d\\u0442\\u043e\\u0432\",\"\\u0420\\u0435\\u0433\\u0438\\u0441\\u0442\\u0440\\u0430\\u0446\\u0438\\u0438 \\u043d\\u0430 \\u0438\\u0433\\u0440\\u0443\",\"\\u041f\\u0440\\u0438\\u0448\\u0435\\u0434\\u0448\\u0438\\u0435 \\u043d\\u0430 \\u0438\\u0433\\u0440\\u0443\"],\"type\":\"funnel\"},{\"name\":\"15.09\",\"textinfo\":\"value+percent previous\",\"x\":[164,37],\"y\":[\"\",\"\\u041f\\u043e\\u0441\\u0435\\u0449\\u0435\\u043d\\u0438\\u044f \\u0441\\u0430\\u0439\\u0442\\u0430\",\"\\u0420\\u0435\\u0433\\u0438\\u0441\\u0442\\u0440\\u0430\\u0446\\u0438\\u0438 \\u0430\\u043a\\u043a\\u0430\\u0443\\u043d\\u0442\\u043e\\u0432\",\"\\u0420\\u0435\\u0433\\u0438\\u0441\\u0442\\u0440\\u0430\\u0446\\u0438\\u0438 \\u043d\\u0430 \\u0438\\u0433\\u0440\\u0443\",\"\\u041f\\u0440\\u0438\\u0448\\u0435\\u0434\\u0448\\u0438\\u0435 \\u043d\\u0430 \\u0438\\u0433\\u0440\\u0443\"],\"type\":\"funnel\"},{\"name\":\"22.09\",\"textinfo\":\"value+percent previous\",\"x\":[183,55],\"y\":[\"\",\"\\u041f\\u043e\\u0441\\u0435\\u0449\\u0435\\u043d\\u0438\\u044f \\u0441\\u0430\\u0439\\u0442\\u0430\",\"\\u0420\\u0435\\u0433\\u0438\\u0441\\u0442\\u0440\\u0430\\u0446\\u0438\\u0438 \\u0430\\u043a\\u043a\\u0430\\u0443\\u043d\\u0442\\u043e\\u0432\",\"\\u0420\\u0435\\u0433\\u0438\\u0441\\u0442\\u0440\\u0430\\u0446\\u0438\\u0438 \\u043d\\u0430 \\u0438\\u0433\\u0440\\u0443\",\"\\u041f\\u0440\\u0438\\u0448\\u0435\\u0434\\u0448\\u0438\\u0435 \\u043d\\u0430 \\u0438\\u0433\\u0440\\u0443\"],\"type\":\"funnel\"},{\"name\":\"29.09\",\"textinfo\":\"value+percent previous\",\"x\":[207,56],\"y\":[\"\",\"\\u041f\\u043e\\u0441\\u0435\\u0449\\u0435\\u043d\\u0438\\u044f \\u0441\\u0430\\u0439\\u0442\\u0430\",\"\\u0420\\u0435\\u0433\\u0438\\u0441\\u0442\\u0440\\u0430\\u0446\\u0438\\u0438 \\u0430\\u043a\\u043a\\u0430\\u0443\\u043d\\u0442\\u043e\\u0432\",\"\\u0420\\u0435\\u0433\\u0438\\u0441\\u0442\\u0440\\u0430\\u0446\\u0438\\u0438 \\u043d\\u0430 \\u0438\\u0433\\u0440\\u0443\",\"\\u041f\\u0440\\u0438\\u0448\\u0435\\u0434\\u0448\\u0438\\u0435 \\u043d\\u0430 \\u0438\\u0433\\u0440\\u0443\"],\"type\":\"funnel\"},{\"name\":\"06.10\",\"textinfo\":\"value+percent previous\",\"x\":[209,52],\"y\":[\"\",\"\\u041f\\u043e\\u0441\\u0435\\u0449\\u0435\\u043d\\u0438\\u044f \\u0441\\u0430\\u0439\\u0442\\u0430\",\"\\u0420\\u0435\\u0433\\u0438\\u0441\\u0442\\u0440\\u0430\\u0446\\u0438\\u0438 \\u0430\\u043a\\u043a\\u0430\\u0443\\u043d\\u0442\\u043e\\u0432\",\"\\u0420\\u0435\\u0433\\u0438\\u0441\\u0442\\u0440\\u0430\\u0446\\u0438\\u0438 \\u043d\\u0430 \\u0438\\u0433\\u0440\\u0443\",\"\\u041f\\u0440\\u0438\\u0448\\u0435\\u0434\\u0448\\u0438\\u0435 \\u043d\\u0430 \\u0438\\u0433\\u0440\\u0443\"],\"type\":\"funnel\"},{\"name\":\"13.10\",\"textinfo\":\"value+percent previous\",\"x\":[157,41],\"y\":[\"\",\"\\u041f\\u043e\\u0441\\u0435\\u0449\\u0435\\u043d\\u0438\\u044f \\u0441\\u0430\\u0439\\u0442\\u0430\",\"\\u0420\\u0435\\u0433\\u0438\\u0441\\u0442\\u0440\\u0430\\u0446\\u0438\\u0438 \\u0430\\u043a\\u043a\\u0430\\u0443\\u043d\\u0442\\u043e\\u0432\",\"\\u0420\\u0435\\u0433\\u0438\\u0441\\u0442\\u0440\\u0430\\u0446\\u0438\\u0438 \\u043d\\u0430 \\u0438\\u0433\\u0440\\u0443\",\"\\u041f\\u0440\\u0438\\u0448\\u0435\\u0434\\u0448\\u0438\\u0435 \\u043d\\u0430 \\u0438\\u0433\\u0440\\u0443\"],\"type\":\"funnel\"},{\"name\":\"20.10\",\"textinfo\":\"value+percent previous\",\"x\":[182,45],\"y\":[\"\",\"\\u041f\\u043e\\u0441\\u0435\\u0449\\u0435\\u043d\\u0438\\u044f \\u0441\\u0430\\u0439\\u0442\\u0430\",\"\\u0420\\u0435\\u0433\\u0438\\u0441\\u0442\\u0440\\u0430\\u0446\\u0438\\u0438 \\u0430\\u043a\\u043a\\u0430\\u0443\\u043d\\u0442\\u043e\\u0432\",\"\\u0420\\u0435\\u0433\\u0438\\u0441\\u0442\\u0440\\u0430\\u0446\\u0438\\u0438 \\u043d\\u0430 \\u0438\\u0433\\u0440\\u0443\",\"\\u041f\\u0440\\u0438\\u0448\\u0435\\u0434\\u0448\\u0438\\u0435 \\u043d\\u0430 \\u0438\\u0433\\u0440\\u0443\"],\"type\":\"funnel\"},{\"name\":\"27.10\",\"textinfo\":\"value+percent previous\",\"x\":[209,50],\"y\":[\"\",\"\\u041f\\u043e\\u0441\\u0435\\u0449\\u0435\\u043d\\u0438\\u044f \\u0441\\u0430\\u0439\\u0442\\u0430\",\"\\u0420\\u0435\\u0433\\u0438\\u0441\\u0442\\u0440\\u0430\\u0446\\u0438\\u0438 \\u0430\\u043a\\u043a\\u0430\\u0443\\u043d\\u0442\\u043e\\u0432\",\"\\u0420\\u0435\\u0433\\u0438\\u0441\\u0442\\u0440\\u0430\\u0446\\u0438\\u0438 \\u043d\\u0430 \\u0438\\u0433\\u0440\\u0443\",\"\\u041f\\u0440\\u0438\\u0448\\u0435\\u0434\\u0448\\u0438\\u0435 \\u043d\\u0430 \\u0438\\u0433\\u0440\\u0443\"],\"type\":\"funnel\"},{\"name\":\"03.11\",\"textinfo\":\"value+percent previous\",\"x\":[173,46],\"y\":[\"\",\"\\u041f\\u043e\\u0441\\u0435\\u0449\\u0435\\u043d\\u0438\\u044f \\u0441\\u0430\\u0439\\u0442\\u0430\",\"\\u0420\\u0435\\u0433\\u0438\\u0441\\u0442\\u0440\\u0430\\u0446\\u0438\\u0438 \\u0430\\u043a\\u043a\\u0430\\u0443\\u043d\\u0442\\u043e\\u0432\",\"\\u0420\\u0435\\u0433\\u0438\\u0441\\u0442\\u0440\\u0430\\u0446\\u0438\\u0438 \\u043d\\u0430 \\u0438\\u0433\\u0440\\u0443\",\"\\u041f\\u0440\\u0438\\u0448\\u0435\\u0434\\u0448\\u0438\\u0435 \\u043d\\u0430 \\u0438\\u0433\\u0440\\u0443\"],\"type\":\"funnel\"},{\"name\":\"10.11\",\"textinfo\":\"value+percent previous\",\"x\":[182,40],\"y\":[\"\",\"\\u041f\\u043e\\u0441\\u0435\\u0449\\u0435\\u043d\\u0438\\u044f \\u0441\\u0430\\u0439\\u0442\\u0430\",\"\\u0420\\u0435\\u0433\\u0438\\u0441\\u0442\\u0440\\u0430\\u0446\\u0438\\u0438 \\u0430\\u043a\\u043a\\u0430\\u0443\\u043d\\u0442\\u043e\\u0432\",\"\\u0420\\u0435\\u0433\\u0438\\u0441\\u0442\\u0440\\u0430\\u0446\\u0438\\u0438 \\u043d\\u0430 \\u0438\\u0433\\u0440\\u0443\",\"\\u041f\\u0440\\u0438\\u0448\\u0435\\u0434\\u0448\\u0438\\u0435 \\u043d\\u0430 \\u0438\\u0433\\u0440\\u0443\"],\"type\":\"funnel\"},{\"name\":\"17.11\",\"textinfo\":\"value+percent previous\",\"x\":[178,46],\"y\":[\"\",\"\\u041f\\u043e\\u0441\\u0435\\u0449\\u0435\\u043d\\u0438\\u044f \\u0441\\u0430\\u0439\\u0442\\u0430\",\"\\u0420\\u0435\\u0433\\u0438\\u0441\\u0442\\u0440\\u0430\\u0446\\u0438\\u0438 \\u0430\\u043a\\u043a\\u0430\\u0443\\u043d\\u0442\\u043e\\u0432\",\"\\u0420\\u0435\\u0433\\u0438\\u0441\\u0442\\u0440\\u0430\\u0446\\u0438\\u0438 \\u043d\\u0430 \\u0438\\u0433\\u0440\\u0443\",\"\\u041f\\u0440\\u0438\\u0448\\u0435\\u0434\\u0448\\u0438\\u0435 \\u043d\\u0430 \\u0438\\u0433\\u0440\\u0443\"],\"type\":\"funnel\"},{\"name\":\"24.11\",\"textinfo\":\"value+percent previous\",\"x\":[189,53],\"y\":[\"\",\"\\u041f\\u043e\\u0441\\u0435\\u0449\\u0435\\u043d\\u0438\\u044f \\u0441\\u0430\\u0439\\u0442\\u0430\",\"\\u0420\\u0435\\u0433\\u0438\\u0441\\u0442\\u0440\\u0430\\u0446\\u0438\\u0438 \\u0430\\u043a\\u043a\\u0430\\u0443\\u043d\\u0442\\u043e\\u0432\",\"\\u0420\\u0435\\u0433\\u0438\\u0441\\u0442\\u0440\\u0430\\u0446\\u0438\\u0438 \\u043d\\u0430 \\u0438\\u0433\\u0440\\u0443\",\"\\u041f\\u0440\\u0438\\u0448\\u0435\\u0434\\u0448\\u0438\\u0435 \\u043d\\u0430 \\u0438\\u0433\\u0440\\u0443\"],\"type\":\"funnel\"},{\"name\":\"01.12\",\"textinfo\":\"value+percent previous\",\"x\":[165,40],\"y\":[\"\",\"\\u041f\\u043e\\u0441\\u0435\\u0449\\u0435\\u043d\\u0438\\u044f \\u0441\\u0430\\u0439\\u0442\\u0430\",\"\\u0420\\u0435\\u0433\\u0438\\u0441\\u0442\\u0440\\u0430\\u0446\\u0438\\u0438 \\u0430\\u043a\\u043a\\u0430\\u0443\\u043d\\u0442\\u043e\\u0432\",\"\\u0420\\u0435\\u0433\\u0438\\u0441\\u0442\\u0440\\u0430\\u0446\\u0438\\u0438 \\u043d\\u0430 \\u0438\\u0433\\u0440\\u0443\",\"\\u041f\\u0440\\u0438\\u0448\\u0435\\u0434\\u0448\\u0438\\u0435 \\u043d\\u0430 \\u0438\\u0433\\u0440\\u0443\"],\"type\":\"funnel\"},{\"name\":\"08.12\",\"textinfo\":\"value+percent previous\",\"x\":[177,44],\"y\":[\"\",\"\\u041f\\u043e\\u0441\\u0435\\u0449\\u0435\\u043d\\u0438\\u044f \\u0441\\u0430\\u0439\\u0442\\u0430\",\"\\u0420\\u0435\\u0433\\u0438\\u0441\\u0442\\u0440\\u0430\\u0446\\u0438\\u0438 \\u0430\\u043a\\u043a\\u0430\\u0443\\u043d\\u0442\\u043e\\u0432\",\"\\u0420\\u0435\\u0433\\u0438\\u0441\\u0442\\u0440\\u0430\\u0446\\u0438\\u0438 \\u043d\\u0430 \\u0438\\u0433\\u0440\\u0443\",\"\\u041f\\u0440\\u0438\\u0448\\u0435\\u0434\\u0448\\u0438\\u0435 \\u043d\\u0430 \\u0438\\u0433\\u0440\\u0443\"],\"type\":\"funnel\"},{\"name\":\"15.12\",\"textinfo\":\"value+percent previous\",\"x\":[190,48],\"y\":[\"\",\"\\u041f\\u043e\\u0441\\u0435\\u0449\\u0435\\u043d\\u0438\\u044f \\u0441\\u0430\\u0439\\u0442\\u0430\",\"\\u0420\\u0435\\u0433\\u0438\\u0441\\u0442\\u0440\\u0430\\u0446\\u0438\\u0438 \\u0430\\u043a\\u043a\\u0430\\u0443\\u043d\\u0442\\u043e\\u0432\",\"\\u0420\\u0435\\u0433\\u0438\\u0441\\u0442\\u0440\\u0430\\u0446\\u0438\\u0438 \\u043d\\u0430 \\u0438\\u0433\\u0440\\u0443\",\"\\u041f\\u0440\\u0438\\u0448\\u0435\\u0434\\u0448\\u0438\\u0435 \\u043d\\u0430 \\u0438\\u0433\\u0440\\u0443\"],\"type\":\"funnel\"},{\"name\":\"22.12\",\"textinfo\":\"value+percent previous\",\"x\":[196,45],\"y\":[\"\",\"\\u041f\\u043e\\u0441\\u0435\\u0449\\u0435\\u043d\\u0438\\u044f \\u0441\\u0430\\u0439\\u0442\\u0430\",\"\\u0420\\u0435\\u0433\\u0438\\u0441\\u0442\\u0440\\u0430\\u0446\\u0438\\u0438 \\u0430\\u043a\\u043a\\u0430\\u0443\\u043d\\u0442\\u043e\\u0432\",\"\\u0420\\u0435\\u0433\\u0438\\u0441\\u0442\\u0440\\u0430\\u0446\\u0438\\u0438 \\u043d\\u0430 \\u0438\\u0433\\u0440\\u0443\",\"\\u041f\\u0440\\u0438\\u0448\\u0435\\u0434\\u0448\\u0438\\u0435 \\u043d\\u0430 \\u0438\\u0433\\u0440\\u0443\"],\"type\":\"funnel\"},{\"name\":\"29.12\",\"textinfo\":\"value+percent previous\",\"x\":[187,48],\"y\":[\"\",\"\\u041f\\u043e\\u0441\\u0435\\u0449\\u0435\\u043d\\u0438\\u044f \\u0441\\u0430\\u0439\\u0442\\u0430\",\"\\u0420\\u0435\\u0433\\u0438\\u0441\\u0442\\u0440\\u0430\\u0446\\u0438\\u0438 \\u0430\\u043a\\u043a\\u0430\\u0443\\u043d\\u0442\\u043e\\u0432\",\"\\u0420\\u0435\\u0433\\u0438\\u0441\\u0442\\u0440\\u0430\\u0446\\u0438\\u0438 \\u043d\\u0430 \\u0438\\u0433\\u0440\\u0443\",\"\\u041f\\u0440\\u0438\\u0448\\u0435\\u0434\\u0448\\u0438\\u0435 \\u043d\\u0430 \\u0438\\u0433\\u0440\\u0443\"],\"type\":\"funnel\"},{\"name\":\"05.01\",\"textinfo\":\"value+percent previous\",\"x\":[202,59],\"y\":[\"\",\"\\u041f\\u043e\\u0441\\u0435\\u0449\\u0435\\u043d\\u0438\\u044f \\u0441\\u0430\\u0439\\u0442\\u0430\",\"\\u0420\\u0435\\u0433\\u0438\\u0441\\u0442\\u0440\\u0430\\u0446\\u0438\\u0438 \\u0430\\u043a\\u043a\\u0430\\u0443\\u043d\\u0442\\u043e\\u0432\",\"\\u0420\\u0435\\u0433\\u0438\\u0441\\u0442\\u0440\\u0430\\u0446\\u0438\\u0438 \\u043d\\u0430 \\u0438\\u0433\\u0440\\u0443\",\"\\u041f\\u0440\\u0438\\u0448\\u0435\\u0434\\u0448\\u0438\\u0435 \\u043d\\u0430 \\u0438\\u0433\\u0440\\u0443\"],\"type\":\"funnel\"},{\"name\":\"12.01\",\"textinfo\":\"value+percent previous\",\"x\":[199,37],\"y\":[\"\",\"\\u041f\\u043e\\u0441\\u0435\\u0449\\u0435\\u043d\\u0438\\u044f \\u0441\\u0430\\u0439\\u0442\\u0430\",\"\\u0420\\u0435\\u0433\\u0438\\u0441\\u0442\\u0440\\u0430\\u0446\\u0438\\u0438 \\u0430\\u043a\\u043a\\u0430\\u0443\\u043d\\u0442\\u043e\\u0432\",\"\\u0420\\u0435\\u0433\\u0438\\u0441\\u0442\\u0440\\u0430\\u0446\\u0438\\u0438 \\u043d\\u0430 \\u0438\\u0433\\u0440\\u0443\",\"\\u041f\\u0440\\u0438\\u0448\\u0435\\u0434\\u0448\\u0438\\u0435 \\u043d\\u0430 \\u0438\\u0433\\u0440\\u0443\"],\"type\":\"funnel\"},{\"name\":\"19.01\",\"textinfo\":\"value+percent previous\",\"x\":[191,47],\"y\":[\"\",\"\\u041f\\u043e\\u0441\\u0435\\u0449\\u0435\\u043d\\u0438\\u044f \\u0441\\u0430\\u0439\\u0442\\u0430\",\"\\u0420\\u0435\\u0433\\u0438\\u0441\\u0442\\u0440\\u0430\\u0446\\u0438\\u0438 \\u0430\\u043a\\u043a\\u0430\\u0443\\u043d\\u0442\\u043e\\u0432\",\"\\u0420\\u0435\\u0433\\u0438\\u0441\\u0442\\u0440\\u0430\\u0446\\u0438\\u0438 \\u043d\\u0430 \\u0438\\u0433\\u0440\\u0443\",\"\\u041f\\u0440\\u0438\\u0448\\u0435\\u0434\\u0448\\u0438\\u0435 \\u043d\\u0430 \\u0438\\u0433\\u0440\\u0443\"],\"type\":\"funnel\"},{\"name\":\"26.01\",\"textinfo\":\"value+percent previous\",\"x\":[177,47],\"y\":[\"\",\"\\u041f\\u043e\\u0441\\u0435\\u0449\\u0435\\u043d\\u0438\\u044f \\u0441\\u0430\\u0439\\u0442\\u0430\",\"\\u0420\\u0435\\u0433\\u0438\\u0441\\u0442\\u0440\\u0430\\u0446\\u0438\\u0438 \\u0430\\u043a\\u043a\\u0430\\u0443\\u043d\\u0442\\u043e\\u0432\",\"\\u0420\\u0435\\u0433\\u0438\\u0441\\u0442\\u0440\\u0430\\u0446\\u0438\\u0438 \\u043d\\u0430 \\u0438\\u0433\\u0440\\u0443\",\"\\u041f\\u0440\\u0438\\u0448\\u0435\\u0434\\u0448\\u0438\\u0435 \\u043d\\u0430 \\u0438\\u0433\\u0440\\u0443\"],\"type\":\"funnel\"},{\"name\":\"02.02\",\"textinfo\":\"value+percent previous\",\"x\":[5,2],\"y\":[\"\",\"\\u041f\\u043e\\u0441\\u0435\\u0449\\u0435\\u043d\\u0438\\u044f \\u0441\\u0430\\u0439\\u0442\\u0430\",\"\\u0420\\u0435\\u0433\\u0438\\u0441\\u0442\\u0440\\u0430\\u0446\\u0438\\u0438 \\u0430\\u043a\\u043a\\u0430\\u0443\\u043d\\u0442\\u043e\\u0432\",\"\\u0420\\u0435\\u0433\\u0438\\u0441\\u0442\\u0440\\u0430\\u0446\\u0438\\u0438 \\u043d\\u0430 \\u0438\\u0433\\u0440\\u0443\",\"\\u041f\\u0440\\u0438\\u0448\\u0435\\u0434\\u0448\\u0438\\u0435 \\u043d\\u0430 \\u0438\\u0433\\u0440\\u0443\"],\"type\":\"funnel\"}],                        {\"template\":{\"data\":{\"histogram2dcontour\":[{\"type\":\"histogram2dcontour\",\"colorbar\":{\"outlinewidth\":0,\"ticks\":\"\"},\"colorscale\":[[0.0,\"#0d0887\"],[0.1111111111111111,\"#46039f\"],[0.2222222222222222,\"#7201a8\"],[0.3333333333333333,\"#9c179e\"],[0.4444444444444444,\"#bd3786\"],[0.5555555555555556,\"#d8576b\"],[0.6666666666666666,\"#ed7953\"],[0.7777777777777778,\"#fb9f3a\"],[0.8888888888888888,\"#fdca26\"],[1.0,\"#f0f921\"]]}],\"choropleth\":[{\"type\":\"choropleth\",\"colorbar\":{\"outlinewidth\":0,\"ticks\":\"\"}}],\"histogram2d\":[{\"type\":\"histogram2d\",\"colorbar\":{\"outlinewidth\":0,\"ticks\":\"\"},\"colorscale\":[[0.0,\"#0d0887\"],[0.1111111111111111,\"#46039f\"],[0.2222222222222222,\"#7201a8\"],[0.3333333333333333,\"#9c179e\"],[0.4444444444444444,\"#bd3786\"],[0.5555555555555556,\"#d8576b\"],[0.6666666666666666,\"#ed7953\"],[0.7777777777777778,\"#fb9f3a\"],[0.8888888888888888,\"#fdca26\"],[1.0,\"#f0f921\"]]}],\"heatmap\":[{\"type\":\"heatmap\",\"colorbar\":{\"outlinewidth\":0,\"ticks\":\"\"},\"colorscale\":[[0.0,\"#0d0887\"],[0.1111111111111111,\"#46039f\"],[0.2222222222222222,\"#7201a8\"],[0.3333333333333333,\"#9c179e\"],[0.4444444444444444,\"#bd3786\"],[0.5555555555555556,\"#d8576b\"],[0.6666666666666666,\"#ed7953\"],[0.7777777777777778,\"#fb9f3a\"],[0.8888888888888888,\"#fdca26\"],[1.0,\"#f0f921\"]]}],\"heatmapgl\":[{\"type\":\"heatmapgl\",\"colorbar\":{\"outlinewidth\":0,\"ticks\":\"\"},\"colorscale\":[[0.0,\"#0d0887\"],[0.1111111111111111,\"#46039f\"],[0.2222222222222222,\"#7201a8\"],[0.3333333333333333,\"#9c179e\"],[0.4444444444444444,\"#bd3786\"],[0.5555555555555556,\"#d8576b\"],[0.6666666666666666,\"#ed7953\"],[0.7777777777777778,\"#fb9f3a\"],[0.8888888888888888,\"#fdca26\"],[1.0,\"#f0f921\"]]}],\"contourcarpet\":[{\"type\":\"contourcarpet\",\"colorbar\":{\"outlinewidth\":0,\"ticks\":\"\"}}],\"contour\":[{\"type\":\"contour\",\"colorbar\":{\"outlinewidth\":0,\"ticks\":\"\"},\"colorscale\":[[0.0,\"#0d0887\"],[0.1111111111111111,\"#46039f\"],[0.2222222222222222,\"#7201a8\"],[0.3333333333333333,\"#9c179e\"],[0.4444444444444444,\"#bd3786\"],[0.5555555555555556,\"#d8576b\"],[0.6666666666666666,\"#ed7953\"],[0.7777777777777778,\"#fb9f3a\"],[0.8888888888888888,\"#fdca26\"],[1.0,\"#f0f921\"]]}],\"surface\":[{\"type\":\"surface\",\"colorbar\":{\"outlinewidth\":0,\"ticks\":\"\"},\"colorscale\":[[0.0,\"#0d0887\"],[0.1111111111111111,\"#46039f\"],[0.2222222222222222,\"#7201a8\"],[0.3333333333333333,\"#9c179e\"],[0.4444444444444444,\"#bd3786\"],[0.5555555555555556,\"#d8576b\"],[0.6666666666666666,\"#ed7953\"],[0.7777777777777778,\"#fb9f3a\"],[0.8888888888888888,\"#fdca26\"],[1.0,\"#f0f921\"]]}],\"mesh3d\":[{\"type\":\"mesh3d\",\"colorbar\":{\"outlinewidth\":0,\"ticks\":\"\"}}],\"scatter\":[{\"fillpattern\":{\"fillmode\":\"overlay\",\"size\":10,\"solidity\":0.2},\"type\":\"scatter\"}],\"parcoords\":[{\"type\":\"parcoords\",\"line\":{\"colorbar\":{\"outlinewidth\":0,\"ticks\":\"\"}}}],\"scatterpolargl\":[{\"type\":\"scatterpolargl\",\"marker\":{\"colorbar\":{\"outlinewidth\":0,\"ticks\":\"\"}}}],\"bar\":[{\"error_x\":{\"color\":\"#2a3f5f\"},\"error_y\":{\"color\":\"#2a3f5f\"},\"marker\":{\"line\":{\"color\":\"#E5ECF6\",\"width\":0.5},\"pattern\":{\"fillmode\":\"overlay\",\"size\":10,\"solidity\":0.2}},\"type\":\"bar\"}],\"scattergeo\":[{\"type\":\"scattergeo\",\"marker\":{\"colorbar\":{\"outlinewidth\":0,\"ticks\":\"\"}}}],\"scatterpolar\":[{\"type\":\"scatterpolar\",\"marker\":{\"colorbar\":{\"outlinewidth\":0,\"ticks\":\"\"}}}],\"histogram\":[{\"marker\":{\"pattern\":{\"fillmode\":\"overlay\",\"size\":10,\"solidity\":0.2}},\"type\":\"histogram\"}],\"scattergl\":[{\"type\":\"scattergl\",\"marker\":{\"colorbar\":{\"outlinewidth\":0,\"ticks\":\"\"}}}],\"scatter3d\":[{\"type\":\"scatter3d\",\"line\":{\"colorbar\":{\"outlinewidth\":0,\"ticks\":\"\"}},\"marker\":{\"colorbar\":{\"outlinewidth\":0,\"ticks\":\"\"}}}],\"scattermapbox\":[{\"type\":\"scattermapbox\",\"marker\":{\"colorbar\":{\"outlinewidth\":0,\"ticks\":\"\"}}}],\"scatterternary\":[{\"type\":\"scatterternary\",\"marker\":{\"colorbar\":{\"outlinewidth\":0,\"ticks\":\"\"}}}],\"scattercarpet\":[{\"type\":\"scattercarpet\",\"marker\":{\"colorbar\":{\"outlinewidth\":0,\"ticks\":\"\"}}}],\"carpet\":[{\"aaxis\":{\"endlinecolor\":\"#2a3f5f\",\"gridcolor\":\"white\",\"linecolor\":\"white\",\"minorgridcolor\":\"white\",\"startlinecolor\":\"#2a3f5f\"},\"baxis\":{\"endlinecolor\":\"#2a3f5f\",\"gridcolor\":\"white\",\"linecolor\":\"white\",\"minorgridcolor\":\"white\",\"startlinecolor\":\"#2a3f5f\"},\"type\":\"carpet\"}],\"table\":[{\"cells\":{\"fill\":{\"color\":\"#EBF0F8\"},\"line\":{\"color\":\"white\"}},\"header\":{\"fill\":{\"color\":\"#C8D4E3\"},\"line\":{\"color\":\"white\"}},\"type\":\"table\"}],\"barpolar\":[{\"marker\":{\"line\":{\"color\":\"#E5ECF6\",\"width\":0.5},\"pattern\":{\"fillmode\":\"overlay\",\"size\":10,\"solidity\":0.2}},\"type\":\"barpolar\"}],\"pie\":[{\"automargin\":true,\"type\":\"pie\"}]},\"layout\":{\"autotypenumbers\":\"strict\",\"colorway\":[\"#636efa\",\"#EF553B\",\"#00cc96\",\"#ab63fa\",\"#FFA15A\",\"#19d3f3\",\"#FF6692\",\"#B6E880\",\"#FF97FF\",\"#FECB52\"],\"font\":{\"color\":\"#2a3f5f\"},\"hovermode\":\"closest\",\"hoverlabel\":{\"align\":\"left\"},\"paper_bgcolor\":\"white\",\"plot_bgcolor\":\"#E5ECF6\",\"polar\":{\"bgcolor\":\"#E5ECF6\",\"angularaxis\":{\"gridcolor\":\"white\",\"linecolor\":\"white\",\"ticks\":\"\"},\"radialaxis\":{\"gridcolor\":\"white\",\"linecolor\":\"white\",\"ticks\":\"\"}},\"ternary\":{\"bgcolor\":\"#E5ECF6\",\"aaxis\":{\"gridcolor\":\"white\",\"linecolor\":\"white\",\"ticks\":\"\"},\"baxis\":{\"gridcolor\":\"white\",\"linecolor\":\"white\",\"ticks\":\"\"},\"caxis\":{\"gridcolor\":\"white\",\"linecolor\":\"white\",\"ticks\":\"\"}},\"coloraxis\":{\"colorbar\":{\"outlinewidth\":0,\"ticks\":\"\"}},\"colorscale\":{\"sequential\":[[0.0,\"#0d0887\"],[0.1111111111111111,\"#46039f\"],[0.2222222222222222,\"#7201a8\"],[0.3333333333333333,\"#9c179e\"],[0.4444444444444444,\"#bd3786\"],[0.5555555555555556,\"#d8576b\"],[0.6666666666666666,\"#ed7953\"],[0.7777777777777778,\"#fb9f3a\"],[0.8888888888888888,\"#fdca26\"],[1.0,\"#f0f921\"]],\"sequentialminus\":[[0.0,\"#0d0887\"],[0.1111111111111111,\"#46039f\"],[0.2222222222222222,\"#7201a8\"],[0.3333333333333333,\"#9c179e\"],[0.4444444444444444,\"#bd3786\"],[0.5555555555555556,\"#d8576b\"],[0.6666666666666666,\"#ed7953\"],[0.7777777777777778,\"#fb9f3a\"],[0.8888888888888888,\"#fdca26\"],[1.0,\"#f0f921\"]],\"diverging\":[[0,\"#8e0152\"],[0.1,\"#c51b7d\"],[0.2,\"#de77ae\"],[0.3,\"#f1b6da\"],[0.4,\"#fde0ef\"],[0.5,\"#f7f7f7\"],[0.6,\"#e6f5d0\"],[0.7,\"#b8e186\"],[0.8,\"#7fbc41\"],[0.9,\"#4d9221\"],[1,\"#276419\"]]},\"xaxis\":{\"gridcolor\":\"white\",\"linecolor\":\"white\",\"ticks\":\"\",\"title\":{\"standoff\":15},\"zerolinecolor\":\"white\",\"automargin\":true,\"zerolinewidth\":2},\"yaxis\":{\"gridcolor\":\"white\",\"linecolor\":\"white\",\"ticks\":\"\",\"title\":{\"standoff\":15},\"zerolinecolor\":\"white\",\"automargin\":true,\"zerolinewidth\":2},\"scene\":{\"xaxis\":{\"backgroundcolor\":\"#E5ECF6\",\"gridcolor\":\"white\",\"linecolor\":\"white\",\"showbackground\":true,\"ticks\":\"\",\"zerolinecolor\":\"white\",\"gridwidth\":2},\"yaxis\":{\"backgroundcolor\":\"#E5ECF6\",\"gridcolor\":\"white\",\"linecolor\":\"white\",\"showbackground\":true,\"ticks\":\"\",\"zerolinecolor\":\"white\",\"gridwidth\":2},\"zaxis\":{\"backgroundcolor\":\"#E5ECF6\",\"gridcolor\":\"white\",\"linecolor\":\"white\",\"showbackground\":true,\"ticks\":\"\",\"zerolinecolor\":\"white\",\"gridwidth\":2}},\"shapedefaults\":{\"line\":{\"color\":\"#2a3f5f\"}},\"annotationdefaults\":{\"arrowcolor\":\"#2a3f5f\",\"arrowhead\":0,\"arrowwidth\":1},\"geo\":{\"bgcolor\":\"white\",\"landcolor\":\"#E5ECF6\",\"subunitcolor\":\"white\",\"showland\":true,\"showlakes\":true,\"lakecolor\":\"white\"},\"title\":{\"x\":0.05},\"mapbox\":{\"style\":\"light\"}}},\"autosize\":false,\"width\":1500,\"height\":500},                        {\"responsive\": true}                    ).then(function(){\n",
       "                            \n",
       "var gd = document.getElementById('53a96606-1caf-4917-b08f-98cc6db2ec54');\n",
       "var x = new MutationObserver(function (mutations, observer) {{\n",
       "        var display = window.getComputedStyle(gd).display;\n",
       "        if (!display || display === 'none') {{\n",
       "            console.log([gd, 'removed!']);\n",
       "            Plotly.purge(gd);\n",
       "            observer.disconnect();\n",
       "        }}\n",
       "}});\n",
       "\n",
       "// Listen for the removal of the full notebook cells\n",
       "var notebookContainer = gd.closest('#notebook-container');\n",
       "if (notebookContainer) {{\n",
       "    x.observe(notebookContainer, {childList: true});\n",
       "}}\n",
       "\n",
       "// Listen for the clearing of the current output cell\n",
       "var outputEl = gd.closest('.output');\n",
       "if (outputEl) {{\n",
       "    x.observe(outputEl, {childList: true});\n",
       "}}\n",
       "\n",
       "                        })                };                });            </script>        </div>"
      ]
     },
     "metadata": {},
     "output_type": "display_data"
    }
   ],
   "source": [
    "fig = go.Figure()\n",
    "\n",
    "for index, row in week_data.iterrows():\n",
    "    fig.add_trace(go.Funnel(\n",
    "        name = week_data[0][index],\n",
    "        y = [\"\", \"Посещения сайта\", \"Регистрации аккаунтов\", \"Регистрации на игру\", \"Пришедшие на игру\"],\n",
    "        x = row[1:3],\n",
    "        textinfo = \"value+percent previous\"))\n",
    "    \n",
    "fig.update_layout(\n",
    "    autosize=False,\n",
    "    width=1500,\n",
    "    height=500\n",
    ")    \n",
    "\n",
    "fig.show()"
   ]
  },
  {
   "cell_type": "code",
   "execution_count": 200,
   "id": "f648a985",
   "metadata": {},
   "outputs": [
    {
     "data": {
      "application/vnd.plotly.v1+json": {
       "config": {
        "plotlyServerURL": "https://plot.ly"
       },
       "data": [
        {
         "name": "01.09",
         "textinfo": "value+percent previous",
         "type": "funnel",
         "x": [
          46,
          10
         ],
         "y": [
          "Регистрации аккаунтов",
          "Регистрации на игру",
          "Пришедшие на игру"
         ]
        },
        {
         "name": "08.09",
         "textinfo": "value+percent previous",
         "type": "funnel",
         "x": [
          40,
          13
         ],
         "y": [
          "Регистрации аккаунтов",
          "Регистрации на игру",
          "Пришедшие на игру"
         ]
        },
        {
         "name": "15.09",
         "textinfo": "value+percent previous",
         "type": "funnel",
         "x": [
          37,
          10
         ],
         "y": [
          "Регистрации аккаунтов",
          "Регистрации на игру",
          "Пришедшие на игру"
         ]
        },
        {
         "name": "22.09",
         "textinfo": "value+percent previous",
         "type": "funnel",
         "x": [
          55,
          16
         ],
         "y": [
          "Регистрации аккаунтов",
          "Регистрации на игру",
          "Пришедшие на игру"
         ]
        },
        {
         "name": "29.09",
         "textinfo": "value+percent previous",
         "type": "funnel",
         "x": [
          56,
          19
         ],
         "y": [
          "Регистрации аккаунтов",
          "Регистрации на игру",
          "Пришедшие на игру"
         ]
        },
        {
         "name": "06.10",
         "textinfo": "value+percent previous",
         "type": "funnel",
         "x": [
          52,
          10
         ],
         "y": [
          "Регистрации аккаунтов",
          "Регистрации на игру",
          "Пришедшие на игру"
         ]
        },
        {
         "name": "13.10",
         "textinfo": "value+percent previous",
         "type": "funnel",
         "x": [
          41,
          14
         ],
         "y": [
          "Регистрации аккаунтов",
          "Регистрации на игру",
          "Пришедшие на игру"
         ]
        },
        {
         "name": "20.10",
         "textinfo": "value+percent previous",
         "type": "funnel",
         "x": [
          45,
          12
         ],
         "y": [
          "Регистрации аккаунтов",
          "Регистрации на игру",
          "Пришедшие на игру"
         ]
        },
        {
         "name": "27.10",
         "textinfo": "value+percent previous",
         "type": "funnel",
         "x": [
          50,
          15
         ],
         "y": [
          "Регистрации аккаунтов",
          "Регистрации на игру",
          "Пришедшие на игру"
         ]
        },
        {
         "name": "03.11",
         "textinfo": "value+percent previous",
         "type": "funnel",
         "x": [
          46,
          17
         ],
         "y": [
          "Регистрации аккаунтов",
          "Регистрации на игру",
          "Пришедшие на игру"
         ]
        },
        {
         "name": "10.11",
         "textinfo": "value+percent previous",
         "type": "funnel",
         "x": [
          40,
          10
         ],
         "y": [
          "Регистрации аккаунтов",
          "Регистрации на игру",
          "Пришедшие на игру"
         ]
        },
        {
         "name": "17.11",
         "textinfo": "value+percent previous",
         "type": "funnel",
         "x": [
          46,
          13
         ],
         "y": [
          "Регистрации аккаунтов",
          "Регистрации на игру",
          "Пришедшие на игру"
         ]
        },
        {
         "name": "24.11",
         "textinfo": "value+percent previous",
         "type": "funnel",
         "x": [
          53,
          13
         ],
         "y": [
          "Регистрации аккаунтов",
          "Регистрации на игру",
          "Пришедшие на игру"
         ]
        },
        {
         "name": "01.12",
         "textinfo": "value+percent previous",
         "type": "funnel",
         "x": [
          40,
          10
         ],
         "y": [
          "Регистрации аккаунтов",
          "Регистрации на игру",
          "Пришедшие на игру"
         ]
        },
        {
         "name": "08.12",
         "textinfo": "value+percent previous",
         "type": "funnel",
         "x": [
          44,
          18
         ],
         "y": [
          "Регистрации аккаунтов",
          "Регистрации на игру",
          "Пришедшие на игру"
         ]
        },
        {
         "name": "15.12",
         "textinfo": "value+percent previous",
         "type": "funnel",
         "x": [
          48,
          13
         ],
         "y": [
          "Регистрации аккаунтов",
          "Регистрации на игру",
          "Пришедшие на игру"
         ]
        },
        {
         "name": "22.12",
         "textinfo": "value+percent previous",
         "type": "funnel",
         "x": [
          45,
          12
         ],
         "y": [
          "Регистрации аккаунтов",
          "Регистрации на игру",
          "Пришедшие на игру"
         ]
        },
        {
         "name": "29.12",
         "textinfo": "value+percent previous",
         "type": "funnel",
         "x": [
          48,
          14
         ],
         "y": [
          "Регистрации аккаунтов",
          "Регистрации на игру",
          "Пришедшие на игру"
         ]
        },
        {
         "name": "05.01",
         "textinfo": "value+percent previous",
         "type": "funnel",
         "x": [
          59,
          17
         ],
         "y": [
          "Регистрации аккаунтов",
          "Регистрации на игру",
          "Пришедшие на игру"
         ]
        },
        {
         "name": "12.01",
         "textinfo": "value+percent previous",
         "type": "funnel",
         "x": [
          37,
          9
         ],
         "y": [
          "Регистрации аккаунтов",
          "Регистрации на игру",
          "Пришедшие на игру"
         ]
        },
        {
         "name": "19.01",
         "textinfo": "value+percent previous",
         "type": "funnel",
         "x": [
          47,
          14
         ],
         "y": [
          "Регистрации аккаунтов",
          "Регистрации на игру",
          "Пришедшие на игру"
         ]
        },
        {
         "name": "26.01",
         "textinfo": "value+percent previous",
         "type": "funnel",
         "x": [
          47,
          14
         ],
         "y": [
          "Регистрации аккаунтов",
          "Регистрации на игру",
          "Пришедшие на игру"
         ]
        },
        {
         "name": "02.02",
         "textinfo": "value+percent previous",
         "type": "funnel",
         "x": [
          2,
          0
         ],
         "y": [
          "Регистрации аккаунтов",
          "Регистрации на игру",
          "Пришедшие на игру"
         ]
        }
       ],
       "layout": {
        "autosize": false,
        "height": 500,
        "template": {
         "data": {
          "bar": [
           {
            "error_x": {
             "color": "#2a3f5f"
            },
            "error_y": {
             "color": "#2a3f5f"
            },
            "marker": {
             "line": {
              "color": "#E5ECF6",
              "width": 0.5
             },
             "pattern": {
              "fillmode": "overlay",
              "size": 10,
              "solidity": 0.2
             }
            },
            "type": "bar"
           }
          ],
          "barpolar": [
           {
            "marker": {
             "line": {
              "color": "#E5ECF6",
              "width": 0.5
             },
             "pattern": {
              "fillmode": "overlay",
              "size": 10,
              "solidity": 0.2
             }
            },
            "type": "barpolar"
           }
          ],
          "carpet": [
           {
            "aaxis": {
             "endlinecolor": "#2a3f5f",
             "gridcolor": "white",
             "linecolor": "white",
             "minorgridcolor": "white",
             "startlinecolor": "#2a3f5f"
            },
            "baxis": {
             "endlinecolor": "#2a3f5f",
             "gridcolor": "white",
             "linecolor": "white",
             "minorgridcolor": "white",
             "startlinecolor": "#2a3f5f"
            },
            "type": "carpet"
           }
          ],
          "choropleth": [
           {
            "colorbar": {
             "outlinewidth": 0,
             "ticks": ""
            },
            "type": "choropleth"
           }
          ],
          "contour": [
           {
            "colorbar": {
             "outlinewidth": 0,
             "ticks": ""
            },
            "colorscale": [
             [
              0,
              "#0d0887"
             ],
             [
              0.1111111111111111,
              "#46039f"
             ],
             [
              0.2222222222222222,
              "#7201a8"
             ],
             [
              0.3333333333333333,
              "#9c179e"
             ],
             [
              0.4444444444444444,
              "#bd3786"
             ],
             [
              0.5555555555555556,
              "#d8576b"
             ],
             [
              0.6666666666666666,
              "#ed7953"
             ],
             [
              0.7777777777777778,
              "#fb9f3a"
             ],
             [
              0.8888888888888888,
              "#fdca26"
             ],
             [
              1,
              "#f0f921"
             ]
            ],
            "type": "contour"
           }
          ],
          "contourcarpet": [
           {
            "colorbar": {
             "outlinewidth": 0,
             "ticks": ""
            },
            "type": "contourcarpet"
           }
          ],
          "heatmap": [
           {
            "colorbar": {
             "outlinewidth": 0,
             "ticks": ""
            },
            "colorscale": [
             [
              0,
              "#0d0887"
             ],
             [
              0.1111111111111111,
              "#46039f"
             ],
             [
              0.2222222222222222,
              "#7201a8"
             ],
             [
              0.3333333333333333,
              "#9c179e"
             ],
             [
              0.4444444444444444,
              "#bd3786"
             ],
             [
              0.5555555555555556,
              "#d8576b"
             ],
             [
              0.6666666666666666,
              "#ed7953"
             ],
             [
              0.7777777777777778,
              "#fb9f3a"
             ],
             [
              0.8888888888888888,
              "#fdca26"
             ],
             [
              1,
              "#f0f921"
             ]
            ],
            "type": "heatmap"
           }
          ],
          "heatmapgl": [
           {
            "colorbar": {
             "outlinewidth": 0,
             "ticks": ""
            },
            "colorscale": [
             [
              0,
              "#0d0887"
             ],
             [
              0.1111111111111111,
              "#46039f"
             ],
             [
              0.2222222222222222,
              "#7201a8"
             ],
             [
              0.3333333333333333,
              "#9c179e"
             ],
             [
              0.4444444444444444,
              "#bd3786"
             ],
             [
              0.5555555555555556,
              "#d8576b"
             ],
             [
              0.6666666666666666,
              "#ed7953"
             ],
             [
              0.7777777777777778,
              "#fb9f3a"
             ],
             [
              0.8888888888888888,
              "#fdca26"
             ],
             [
              1,
              "#f0f921"
             ]
            ],
            "type": "heatmapgl"
           }
          ],
          "histogram": [
           {
            "marker": {
             "pattern": {
              "fillmode": "overlay",
              "size": 10,
              "solidity": 0.2
             }
            },
            "type": "histogram"
           }
          ],
          "histogram2d": [
           {
            "colorbar": {
             "outlinewidth": 0,
             "ticks": ""
            },
            "colorscale": [
             [
              0,
              "#0d0887"
             ],
             [
              0.1111111111111111,
              "#46039f"
             ],
             [
              0.2222222222222222,
              "#7201a8"
             ],
             [
              0.3333333333333333,
              "#9c179e"
             ],
             [
              0.4444444444444444,
              "#bd3786"
             ],
             [
              0.5555555555555556,
              "#d8576b"
             ],
             [
              0.6666666666666666,
              "#ed7953"
             ],
             [
              0.7777777777777778,
              "#fb9f3a"
             ],
             [
              0.8888888888888888,
              "#fdca26"
             ],
             [
              1,
              "#f0f921"
             ]
            ],
            "type": "histogram2d"
           }
          ],
          "histogram2dcontour": [
           {
            "colorbar": {
             "outlinewidth": 0,
             "ticks": ""
            },
            "colorscale": [
             [
              0,
              "#0d0887"
             ],
             [
              0.1111111111111111,
              "#46039f"
             ],
             [
              0.2222222222222222,
              "#7201a8"
             ],
             [
              0.3333333333333333,
              "#9c179e"
             ],
             [
              0.4444444444444444,
              "#bd3786"
             ],
             [
              0.5555555555555556,
              "#d8576b"
             ],
             [
              0.6666666666666666,
              "#ed7953"
             ],
             [
              0.7777777777777778,
              "#fb9f3a"
             ],
             [
              0.8888888888888888,
              "#fdca26"
             ],
             [
              1,
              "#f0f921"
             ]
            ],
            "type": "histogram2dcontour"
           }
          ],
          "mesh3d": [
           {
            "colorbar": {
             "outlinewidth": 0,
             "ticks": ""
            },
            "type": "mesh3d"
           }
          ],
          "parcoords": [
           {
            "line": {
             "colorbar": {
              "outlinewidth": 0,
              "ticks": ""
             }
            },
            "type": "parcoords"
           }
          ],
          "pie": [
           {
            "automargin": true,
            "type": "pie"
           }
          ],
          "scatter": [
           {
            "fillpattern": {
             "fillmode": "overlay",
             "size": 10,
             "solidity": 0.2
            },
            "type": "scatter"
           }
          ],
          "scatter3d": [
           {
            "line": {
             "colorbar": {
              "outlinewidth": 0,
              "ticks": ""
             }
            },
            "marker": {
             "colorbar": {
              "outlinewidth": 0,
              "ticks": ""
             }
            },
            "type": "scatter3d"
           }
          ],
          "scattercarpet": [
           {
            "marker": {
             "colorbar": {
              "outlinewidth": 0,
              "ticks": ""
             }
            },
            "type": "scattercarpet"
           }
          ],
          "scattergeo": [
           {
            "marker": {
             "colorbar": {
              "outlinewidth": 0,
              "ticks": ""
             }
            },
            "type": "scattergeo"
           }
          ],
          "scattergl": [
           {
            "marker": {
             "colorbar": {
              "outlinewidth": 0,
              "ticks": ""
             }
            },
            "type": "scattergl"
           }
          ],
          "scattermapbox": [
           {
            "marker": {
             "colorbar": {
              "outlinewidth": 0,
              "ticks": ""
             }
            },
            "type": "scattermapbox"
           }
          ],
          "scatterpolar": [
           {
            "marker": {
             "colorbar": {
              "outlinewidth": 0,
              "ticks": ""
             }
            },
            "type": "scatterpolar"
           }
          ],
          "scatterpolargl": [
           {
            "marker": {
             "colorbar": {
              "outlinewidth": 0,
              "ticks": ""
             }
            },
            "type": "scatterpolargl"
           }
          ],
          "scatterternary": [
           {
            "marker": {
             "colorbar": {
              "outlinewidth": 0,
              "ticks": ""
             }
            },
            "type": "scatterternary"
           }
          ],
          "surface": [
           {
            "colorbar": {
             "outlinewidth": 0,
             "ticks": ""
            },
            "colorscale": [
             [
              0,
              "#0d0887"
             ],
             [
              0.1111111111111111,
              "#46039f"
             ],
             [
              0.2222222222222222,
              "#7201a8"
             ],
             [
              0.3333333333333333,
              "#9c179e"
             ],
             [
              0.4444444444444444,
              "#bd3786"
             ],
             [
              0.5555555555555556,
              "#d8576b"
             ],
             [
              0.6666666666666666,
              "#ed7953"
             ],
             [
              0.7777777777777778,
              "#fb9f3a"
             ],
             [
              0.8888888888888888,
              "#fdca26"
             ],
             [
              1,
              "#f0f921"
             ]
            ],
            "type": "surface"
           }
          ],
          "table": [
           {
            "cells": {
             "fill": {
              "color": "#EBF0F8"
             },
             "line": {
              "color": "white"
             }
            },
            "header": {
             "fill": {
              "color": "#C8D4E3"
             },
             "line": {
              "color": "white"
             }
            },
            "type": "table"
           }
          ]
         },
         "layout": {
          "annotationdefaults": {
           "arrowcolor": "#2a3f5f",
           "arrowhead": 0,
           "arrowwidth": 1
          },
          "autotypenumbers": "strict",
          "coloraxis": {
           "colorbar": {
            "outlinewidth": 0,
            "ticks": ""
           }
          },
          "colorscale": {
           "diverging": [
            [
             0,
             "#8e0152"
            ],
            [
             0.1,
             "#c51b7d"
            ],
            [
             0.2,
             "#de77ae"
            ],
            [
             0.3,
             "#f1b6da"
            ],
            [
             0.4,
             "#fde0ef"
            ],
            [
             0.5,
             "#f7f7f7"
            ],
            [
             0.6,
             "#e6f5d0"
            ],
            [
             0.7,
             "#b8e186"
            ],
            [
             0.8,
             "#7fbc41"
            ],
            [
             0.9,
             "#4d9221"
            ],
            [
             1,
             "#276419"
            ]
           ],
           "sequential": [
            [
             0,
             "#0d0887"
            ],
            [
             0.1111111111111111,
             "#46039f"
            ],
            [
             0.2222222222222222,
             "#7201a8"
            ],
            [
             0.3333333333333333,
             "#9c179e"
            ],
            [
             0.4444444444444444,
             "#bd3786"
            ],
            [
             0.5555555555555556,
             "#d8576b"
            ],
            [
             0.6666666666666666,
             "#ed7953"
            ],
            [
             0.7777777777777778,
             "#fb9f3a"
            ],
            [
             0.8888888888888888,
             "#fdca26"
            ],
            [
             1,
             "#f0f921"
            ]
           ],
           "sequentialminus": [
            [
             0,
             "#0d0887"
            ],
            [
             0.1111111111111111,
             "#46039f"
            ],
            [
             0.2222222222222222,
             "#7201a8"
            ],
            [
             0.3333333333333333,
             "#9c179e"
            ],
            [
             0.4444444444444444,
             "#bd3786"
            ],
            [
             0.5555555555555556,
             "#d8576b"
            ],
            [
             0.6666666666666666,
             "#ed7953"
            ],
            [
             0.7777777777777778,
             "#fb9f3a"
            ],
            [
             0.8888888888888888,
             "#fdca26"
            ],
            [
             1,
             "#f0f921"
            ]
           ]
          },
          "colorway": [
           "#636efa",
           "#EF553B",
           "#00cc96",
           "#ab63fa",
           "#FFA15A",
           "#19d3f3",
           "#FF6692",
           "#B6E880",
           "#FF97FF",
           "#FECB52"
          ],
          "font": {
           "color": "#2a3f5f"
          },
          "geo": {
           "bgcolor": "white",
           "lakecolor": "white",
           "landcolor": "#E5ECF6",
           "showlakes": true,
           "showland": true,
           "subunitcolor": "white"
          },
          "hoverlabel": {
           "align": "left"
          },
          "hovermode": "closest",
          "mapbox": {
           "style": "light"
          },
          "paper_bgcolor": "white",
          "plot_bgcolor": "#E5ECF6",
          "polar": {
           "angularaxis": {
            "gridcolor": "white",
            "linecolor": "white",
            "ticks": ""
           },
           "bgcolor": "#E5ECF6",
           "radialaxis": {
            "gridcolor": "white",
            "linecolor": "white",
            "ticks": ""
           }
          },
          "scene": {
           "xaxis": {
            "backgroundcolor": "#E5ECF6",
            "gridcolor": "white",
            "gridwidth": 2,
            "linecolor": "white",
            "showbackground": true,
            "ticks": "",
            "zerolinecolor": "white"
           },
           "yaxis": {
            "backgroundcolor": "#E5ECF6",
            "gridcolor": "white",
            "gridwidth": 2,
            "linecolor": "white",
            "showbackground": true,
            "ticks": "",
            "zerolinecolor": "white"
           },
           "zaxis": {
            "backgroundcolor": "#E5ECF6",
            "gridcolor": "white",
            "gridwidth": 2,
            "linecolor": "white",
            "showbackground": true,
            "ticks": "",
            "zerolinecolor": "white"
           }
          },
          "shapedefaults": {
           "line": {
            "color": "#2a3f5f"
           }
          },
          "ternary": {
           "aaxis": {
            "gridcolor": "white",
            "linecolor": "white",
            "ticks": ""
           },
           "baxis": {
            "gridcolor": "white",
            "linecolor": "white",
            "ticks": ""
           },
           "bgcolor": "#E5ECF6",
           "caxis": {
            "gridcolor": "white",
            "linecolor": "white",
            "ticks": ""
           }
          },
          "title": {
           "x": 0.05
          },
          "xaxis": {
           "automargin": true,
           "gridcolor": "white",
           "linecolor": "white",
           "ticks": "",
           "title": {
            "standoff": 15
           },
           "zerolinecolor": "white",
           "zerolinewidth": 2
          },
          "yaxis": {
           "automargin": true,
           "gridcolor": "white",
           "linecolor": "white",
           "ticks": "",
           "title": {
            "standoff": 15
           },
           "zerolinecolor": "white",
           "zerolinewidth": 2
          }
         }
        },
        "width": 1500
       }
      },
      "text/html": [
       "<div>                            <div id=\"1900f4e0-a260-4be3-a433-c8e2b51355b4\" class=\"plotly-graph-div\" style=\"height:500px; width:1500px;\"></div>            <script type=\"text/javascript\">                require([\"plotly\"], function(Plotly) {                    window.PLOTLYENV=window.PLOTLYENV || {};                                    if (document.getElementById(\"1900f4e0-a260-4be3-a433-c8e2b51355b4\")) {                    Plotly.newPlot(                        \"1900f4e0-a260-4be3-a433-c8e2b51355b4\",                        [{\"name\":\"01.09\",\"textinfo\":\"value+percent previous\",\"x\":[46,10],\"y\":[\"\\u0420\\u0435\\u0433\\u0438\\u0441\\u0442\\u0440\\u0430\\u0446\\u0438\\u0438 \\u0430\\u043a\\u043a\\u0430\\u0443\\u043d\\u0442\\u043e\\u0432\",\"\\u0420\\u0435\\u0433\\u0438\\u0441\\u0442\\u0440\\u0430\\u0446\\u0438\\u0438 \\u043d\\u0430 \\u0438\\u0433\\u0440\\u0443\",\"\\u041f\\u0440\\u0438\\u0448\\u0435\\u0434\\u0448\\u0438\\u0435 \\u043d\\u0430 \\u0438\\u0433\\u0440\\u0443\"],\"type\":\"funnel\"},{\"name\":\"08.09\",\"textinfo\":\"value+percent previous\",\"x\":[40,13],\"y\":[\"\\u0420\\u0435\\u0433\\u0438\\u0441\\u0442\\u0440\\u0430\\u0446\\u0438\\u0438 \\u0430\\u043a\\u043a\\u0430\\u0443\\u043d\\u0442\\u043e\\u0432\",\"\\u0420\\u0435\\u0433\\u0438\\u0441\\u0442\\u0440\\u0430\\u0446\\u0438\\u0438 \\u043d\\u0430 \\u0438\\u0433\\u0440\\u0443\",\"\\u041f\\u0440\\u0438\\u0448\\u0435\\u0434\\u0448\\u0438\\u0435 \\u043d\\u0430 \\u0438\\u0433\\u0440\\u0443\"],\"type\":\"funnel\"},{\"name\":\"15.09\",\"textinfo\":\"value+percent previous\",\"x\":[37,10],\"y\":[\"\\u0420\\u0435\\u0433\\u0438\\u0441\\u0442\\u0440\\u0430\\u0446\\u0438\\u0438 \\u0430\\u043a\\u043a\\u0430\\u0443\\u043d\\u0442\\u043e\\u0432\",\"\\u0420\\u0435\\u0433\\u0438\\u0441\\u0442\\u0440\\u0430\\u0446\\u0438\\u0438 \\u043d\\u0430 \\u0438\\u0433\\u0440\\u0443\",\"\\u041f\\u0440\\u0438\\u0448\\u0435\\u0434\\u0448\\u0438\\u0435 \\u043d\\u0430 \\u0438\\u0433\\u0440\\u0443\"],\"type\":\"funnel\"},{\"name\":\"22.09\",\"textinfo\":\"value+percent previous\",\"x\":[55,16],\"y\":[\"\\u0420\\u0435\\u0433\\u0438\\u0441\\u0442\\u0440\\u0430\\u0446\\u0438\\u0438 \\u0430\\u043a\\u043a\\u0430\\u0443\\u043d\\u0442\\u043e\\u0432\",\"\\u0420\\u0435\\u0433\\u0438\\u0441\\u0442\\u0440\\u0430\\u0446\\u0438\\u0438 \\u043d\\u0430 \\u0438\\u0433\\u0440\\u0443\",\"\\u041f\\u0440\\u0438\\u0448\\u0435\\u0434\\u0448\\u0438\\u0435 \\u043d\\u0430 \\u0438\\u0433\\u0440\\u0443\"],\"type\":\"funnel\"},{\"name\":\"29.09\",\"textinfo\":\"value+percent previous\",\"x\":[56,19],\"y\":[\"\\u0420\\u0435\\u0433\\u0438\\u0441\\u0442\\u0440\\u0430\\u0446\\u0438\\u0438 \\u0430\\u043a\\u043a\\u0430\\u0443\\u043d\\u0442\\u043e\\u0432\",\"\\u0420\\u0435\\u0433\\u0438\\u0441\\u0442\\u0440\\u0430\\u0446\\u0438\\u0438 \\u043d\\u0430 \\u0438\\u0433\\u0440\\u0443\",\"\\u041f\\u0440\\u0438\\u0448\\u0435\\u0434\\u0448\\u0438\\u0435 \\u043d\\u0430 \\u0438\\u0433\\u0440\\u0443\"],\"type\":\"funnel\"},{\"name\":\"06.10\",\"textinfo\":\"value+percent previous\",\"x\":[52,10],\"y\":[\"\\u0420\\u0435\\u0433\\u0438\\u0441\\u0442\\u0440\\u0430\\u0446\\u0438\\u0438 \\u0430\\u043a\\u043a\\u0430\\u0443\\u043d\\u0442\\u043e\\u0432\",\"\\u0420\\u0435\\u0433\\u0438\\u0441\\u0442\\u0440\\u0430\\u0446\\u0438\\u0438 \\u043d\\u0430 \\u0438\\u0433\\u0440\\u0443\",\"\\u041f\\u0440\\u0438\\u0448\\u0435\\u0434\\u0448\\u0438\\u0435 \\u043d\\u0430 \\u0438\\u0433\\u0440\\u0443\"],\"type\":\"funnel\"},{\"name\":\"13.10\",\"textinfo\":\"value+percent previous\",\"x\":[41,14],\"y\":[\"\\u0420\\u0435\\u0433\\u0438\\u0441\\u0442\\u0440\\u0430\\u0446\\u0438\\u0438 \\u0430\\u043a\\u043a\\u0430\\u0443\\u043d\\u0442\\u043e\\u0432\",\"\\u0420\\u0435\\u0433\\u0438\\u0441\\u0442\\u0440\\u0430\\u0446\\u0438\\u0438 \\u043d\\u0430 \\u0438\\u0433\\u0440\\u0443\",\"\\u041f\\u0440\\u0438\\u0448\\u0435\\u0434\\u0448\\u0438\\u0435 \\u043d\\u0430 \\u0438\\u0433\\u0440\\u0443\"],\"type\":\"funnel\"},{\"name\":\"20.10\",\"textinfo\":\"value+percent previous\",\"x\":[45,12],\"y\":[\"\\u0420\\u0435\\u0433\\u0438\\u0441\\u0442\\u0440\\u0430\\u0446\\u0438\\u0438 \\u0430\\u043a\\u043a\\u0430\\u0443\\u043d\\u0442\\u043e\\u0432\",\"\\u0420\\u0435\\u0433\\u0438\\u0441\\u0442\\u0440\\u0430\\u0446\\u0438\\u0438 \\u043d\\u0430 \\u0438\\u0433\\u0440\\u0443\",\"\\u041f\\u0440\\u0438\\u0448\\u0435\\u0434\\u0448\\u0438\\u0435 \\u043d\\u0430 \\u0438\\u0433\\u0440\\u0443\"],\"type\":\"funnel\"},{\"name\":\"27.10\",\"textinfo\":\"value+percent previous\",\"x\":[50,15],\"y\":[\"\\u0420\\u0435\\u0433\\u0438\\u0441\\u0442\\u0440\\u0430\\u0446\\u0438\\u0438 \\u0430\\u043a\\u043a\\u0430\\u0443\\u043d\\u0442\\u043e\\u0432\",\"\\u0420\\u0435\\u0433\\u0438\\u0441\\u0442\\u0440\\u0430\\u0446\\u0438\\u0438 \\u043d\\u0430 \\u0438\\u0433\\u0440\\u0443\",\"\\u041f\\u0440\\u0438\\u0448\\u0435\\u0434\\u0448\\u0438\\u0435 \\u043d\\u0430 \\u0438\\u0433\\u0440\\u0443\"],\"type\":\"funnel\"},{\"name\":\"03.11\",\"textinfo\":\"value+percent previous\",\"x\":[46,17],\"y\":[\"\\u0420\\u0435\\u0433\\u0438\\u0441\\u0442\\u0440\\u0430\\u0446\\u0438\\u0438 \\u0430\\u043a\\u043a\\u0430\\u0443\\u043d\\u0442\\u043e\\u0432\",\"\\u0420\\u0435\\u0433\\u0438\\u0441\\u0442\\u0440\\u0430\\u0446\\u0438\\u0438 \\u043d\\u0430 \\u0438\\u0433\\u0440\\u0443\",\"\\u041f\\u0440\\u0438\\u0448\\u0435\\u0434\\u0448\\u0438\\u0435 \\u043d\\u0430 \\u0438\\u0433\\u0440\\u0443\"],\"type\":\"funnel\"},{\"name\":\"10.11\",\"textinfo\":\"value+percent previous\",\"x\":[40,10],\"y\":[\"\\u0420\\u0435\\u0433\\u0438\\u0441\\u0442\\u0440\\u0430\\u0446\\u0438\\u0438 \\u0430\\u043a\\u043a\\u0430\\u0443\\u043d\\u0442\\u043e\\u0432\",\"\\u0420\\u0435\\u0433\\u0438\\u0441\\u0442\\u0440\\u0430\\u0446\\u0438\\u0438 \\u043d\\u0430 \\u0438\\u0433\\u0440\\u0443\",\"\\u041f\\u0440\\u0438\\u0448\\u0435\\u0434\\u0448\\u0438\\u0435 \\u043d\\u0430 \\u0438\\u0433\\u0440\\u0443\"],\"type\":\"funnel\"},{\"name\":\"17.11\",\"textinfo\":\"value+percent previous\",\"x\":[46,13],\"y\":[\"\\u0420\\u0435\\u0433\\u0438\\u0441\\u0442\\u0440\\u0430\\u0446\\u0438\\u0438 \\u0430\\u043a\\u043a\\u0430\\u0443\\u043d\\u0442\\u043e\\u0432\",\"\\u0420\\u0435\\u0433\\u0438\\u0441\\u0442\\u0440\\u0430\\u0446\\u0438\\u0438 \\u043d\\u0430 \\u0438\\u0433\\u0440\\u0443\",\"\\u041f\\u0440\\u0438\\u0448\\u0435\\u0434\\u0448\\u0438\\u0435 \\u043d\\u0430 \\u0438\\u0433\\u0440\\u0443\"],\"type\":\"funnel\"},{\"name\":\"24.11\",\"textinfo\":\"value+percent previous\",\"x\":[53,13],\"y\":[\"\\u0420\\u0435\\u0433\\u0438\\u0441\\u0442\\u0440\\u0430\\u0446\\u0438\\u0438 \\u0430\\u043a\\u043a\\u0430\\u0443\\u043d\\u0442\\u043e\\u0432\",\"\\u0420\\u0435\\u0433\\u0438\\u0441\\u0442\\u0440\\u0430\\u0446\\u0438\\u0438 \\u043d\\u0430 \\u0438\\u0433\\u0440\\u0443\",\"\\u041f\\u0440\\u0438\\u0448\\u0435\\u0434\\u0448\\u0438\\u0435 \\u043d\\u0430 \\u0438\\u0433\\u0440\\u0443\"],\"type\":\"funnel\"},{\"name\":\"01.12\",\"textinfo\":\"value+percent previous\",\"x\":[40,10],\"y\":[\"\\u0420\\u0435\\u0433\\u0438\\u0441\\u0442\\u0440\\u0430\\u0446\\u0438\\u0438 \\u0430\\u043a\\u043a\\u0430\\u0443\\u043d\\u0442\\u043e\\u0432\",\"\\u0420\\u0435\\u0433\\u0438\\u0441\\u0442\\u0440\\u0430\\u0446\\u0438\\u0438 \\u043d\\u0430 \\u0438\\u0433\\u0440\\u0443\",\"\\u041f\\u0440\\u0438\\u0448\\u0435\\u0434\\u0448\\u0438\\u0435 \\u043d\\u0430 \\u0438\\u0433\\u0440\\u0443\"],\"type\":\"funnel\"},{\"name\":\"08.12\",\"textinfo\":\"value+percent previous\",\"x\":[44,18],\"y\":[\"\\u0420\\u0435\\u0433\\u0438\\u0441\\u0442\\u0440\\u0430\\u0446\\u0438\\u0438 \\u0430\\u043a\\u043a\\u0430\\u0443\\u043d\\u0442\\u043e\\u0432\",\"\\u0420\\u0435\\u0433\\u0438\\u0441\\u0442\\u0440\\u0430\\u0446\\u0438\\u0438 \\u043d\\u0430 \\u0438\\u0433\\u0440\\u0443\",\"\\u041f\\u0440\\u0438\\u0448\\u0435\\u0434\\u0448\\u0438\\u0435 \\u043d\\u0430 \\u0438\\u0433\\u0440\\u0443\"],\"type\":\"funnel\"},{\"name\":\"15.12\",\"textinfo\":\"value+percent previous\",\"x\":[48,13],\"y\":[\"\\u0420\\u0435\\u0433\\u0438\\u0441\\u0442\\u0440\\u0430\\u0446\\u0438\\u0438 \\u0430\\u043a\\u043a\\u0430\\u0443\\u043d\\u0442\\u043e\\u0432\",\"\\u0420\\u0435\\u0433\\u0438\\u0441\\u0442\\u0440\\u0430\\u0446\\u0438\\u0438 \\u043d\\u0430 \\u0438\\u0433\\u0440\\u0443\",\"\\u041f\\u0440\\u0438\\u0448\\u0435\\u0434\\u0448\\u0438\\u0435 \\u043d\\u0430 \\u0438\\u0433\\u0440\\u0443\"],\"type\":\"funnel\"},{\"name\":\"22.12\",\"textinfo\":\"value+percent previous\",\"x\":[45,12],\"y\":[\"\\u0420\\u0435\\u0433\\u0438\\u0441\\u0442\\u0440\\u0430\\u0446\\u0438\\u0438 \\u0430\\u043a\\u043a\\u0430\\u0443\\u043d\\u0442\\u043e\\u0432\",\"\\u0420\\u0435\\u0433\\u0438\\u0441\\u0442\\u0440\\u0430\\u0446\\u0438\\u0438 \\u043d\\u0430 \\u0438\\u0433\\u0440\\u0443\",\"\\u041f\\u0440\\u0438\\u0448\\u0435\\u0434\\u0448\\u0438\\u0435 \\u043d\\u0430 \\u0438\\u0433\\u0440\\u0443\"],\"type\":\"funnel\"},{\"name\":\"29.12\",\"textinfo\":\"value+percent previous\",\"x\":[48,14],\"y\":[\"\\u0420\\u0435\\u0433\\u0438\\u0441\\u0442\\u0440\\u0430\\u0446\\u0438\\u0438 \\u0430\\u043a\\u043a\\u0430\\u0443\\u043d\\u0442\\u043e\\u0432\",\"\\u0420\\u0435\\u0433\\u0438\\u0441\\u0442\\u0440\\u0430\\u0446\\u0438\\u0438 \\u043d\\u0430 \\u0438\\u0433\\u0440\\u0443\",\"\\u041f\\u0440\\u0438\\u0448\\u0435\\u0434\\u0448\\u0438\\u0435 \\u043d\\u0430 \\u0438\\u0433\\u0440\\u0443\"],\"type\":\"funnel\"},{\"name\":\"05.01\",\"textinfo\":\"value+percent previous\",\"x\":[59,17],\"y\":[\"\\u0420\\u0435\\u0433\\u0438\\u0441\\u0442\\u0440\\u0430\\u0446\\u0438\\u0438 \\u0430\\u043a\\u043a\\u0430\\u0443\\u043d\\u0442\\u043e\\u0432\",\"\\u0420\\u0435\\u0433\\u0438\\u0441\\u0442\\u0440\\u0430\\u0446\\u0438\\u0438 \\u043d\\u0430 \\u0438\\u0433\\u0440\\u0443\",\"\\u041f\\u0440\\u0438\\u0448\\u0435\\u0434\\u0448\\u0438\\u0435 \\u043d\\u0430 \\u0438\\u0433\\u0440\\u0443\"],\"type\":\"funnel\"},{\"name\":\"12.01\",\"textinfo\":\"value+percent previous\",\"x\":[37,9],\"y\":[\"\\u0420\\u0435\\u0433\\u0438\\u0441\\u0442\\u0440\\u0430\\u0446\\u0438\\u0438 \\u0430\\u043a\\u043a\\u0430\\u0443\\u043d\\u0442\\u043e\\u0432\",\"\\u0420\\u0435\\u0433\\u0438\\u0441\\u0442\\u0440\\u0430\\u0446\\u0438\\u0438 \\u043d\\u0430 \\u0438\\u0433\\u0440\\u0443\",\"\\u041f\\u0440\\u0438\\u0448\\u0435\\u0434\\u0448\\u0438\\u0435 \\u043d\\u0430 \\u0438\\u0433\\u0440\\u0443\"],\"type\":\"funnel\"},{\"name\":\"19.01\",\"textinfo\":\"value+percent previous\",\"x\":[47,14],\"y\":[\"\\u0420\\u0435\\u0433\\u0438\\u0441\\u0442\\u0440\\u0430\\u0446\\u0438\\u0438 \\u0430\\u043a\\u043a\\u0430\\u0443\\u043d\\u0442\\u043e\\u0432\",\"\\u0420\\u0435\\u0433\\u0438\\u0441\\u0442\\u0440\\u0430\\u0446\\u0438\\u0438 \\u043d\\u0430 \\u0438\\u0433\\u0440\\u0443\",\"\\u041f\\u0440\\u0438\\u0448\\u0435\\u0434\\u0448\\u0438\\u0435 \\u043d\\u0430 \\u0438\\u0433\\u0440\\u0443\"],\"type\":\"funnel\"},{\"name\":\"26.01\",\"textinfo\":\"value+percent previous\",\"x\":[47,14],\"y\":[\"\\u0420\\u0435\\u0433\\u0438\\u0441\\u0442\\u0440\\u0430\\u0446\\u0438\\u0438 \\u0430\\u043a\\u043a\\u0430\\u0443\\u043d\\u0442\\u043e\\u0432\",\"\\u0420\\u0435\\u0433\\u0438\\u0441\\u0442\\u0440\\u0430\\u0446\\u0438\\u0438 \\u043d\\u0430 \\u0438\\u0433\\u0440\\u0443\",\"\\u041f\\u0440\\u0438\\u0448\\u0435\\u0434\\u0448\\u0438\\u0435 \\u043d\\u0430 \\u0438\\u0433\\u0440\\u0443\"],\"type\":\"funnel\"},{\"name\":\"02.02\",\"textinfo\":\"value+percent previous\",\"x\":[2,0],\"y\":[\"\\u0420\\u0435\\u0433\\u0438\\u0441\\u0442\\u0440\\u0430\\u0446\\u0438\\u0438 \\u0430\\u043a\\u043a\\u0430\\u0443\\u043d\\u0442\\u043e\\u0432\",\"\\u0420\\u0435\\u0433\\u0438\\u0441\\u0442\\u0440\\u0430\\u0446\\u0438\\u0438 \\u043d\\u0430 \\u0438\\u0433\\u0440\\u0443\",\"\\u041f\\u0440\\u0438\\u0448\\u0435\\u0434\\u0448\\u0438\\u0435 \\u043d\\u0430 \\u0438\\u0433\\u0440\\u0443\"],\"type\":\"funnel\"}],                        {\"template\":{\"data\":{\"histogram2dcontour\":[{\"type\":\"histogram2dcontour\",\"colorbar\":{\"outlinewidth\":0,\"ticks\":\"\"},\"colorscale\":[[0.0,\"#0d0887\"],[0.1111111111111111,\"#46039f\"],[0.2222222222222222,\"#7201a8\"],[0.3333333333333333,\"#9c179e\"],[0.4444444444444444,\"#bd3786\"],[0.5555555555555556,\"#d8576b\"],[0.6666666666666666,\"#ed7953\"],[0.7777777777777778,\"#fb9f3a\"],[0.8888888888888888,\"#fdca26\"],[1.0,\"#f0f921\"]]}],\"choropleth\":[{\"type\":\"choropleth\",\"colorbar\":{\"outlinewidth\":0,\"ticks\":\"\"}}],\"histogram2d\":[{\"type\":\"histogram2d\",\"colorbar\":{\"outlinewidth\":0,\"ticks\":\"\"},\"colorscale\":[[0.0,\"#0d0887\"],[0.1111111111111111,\"#46039f\"],[0.2222222222222222,\"#7201a8\"],[0.3333333333333333,\"#9c179e\"],[0.4444444444444444,\"#bd3786\"],[0.5555555555555556,\"#d8576b\"],[0.6666666666666666,\"#ed7953\"],[0.7777777777777778,\"#fb9f3a\"],[0.8888888888888888,\"#fdca26\"],[1.0,\"#f0f921\"]]}],\"heatmap\":[{\"type\":\"heatmap\",\"colorbar\":{\"outlinewidth\":0,\"ticks\":\"\"},\"colorscale\":[[0.0,\"#0d0887\"],[0.1111111111111111,\"#46039f\"],[0.2222222222222222,\"#7201a8\"],[0.3333333333333333,\"#9c179e\"],[0.4444444444444444,\"#bd3786\"],[0.5555555555555556,\"#d8576b\"],[0.6666666666666666,\"#ed7953\"],[0.7777777777777778,\"#fb9f3a\"],[0.8888888888888888,\"#fdca26\"],[1.0,\"#f0f921\"]]}],\"heatmapgl\":[{\"type\":\"heatmapgl\",\"colorbar\":{\"outlinewidth\":0,\"ticks\":\"\"},\"colorscale\":[[0.0,\"#0d0887\"],[0.1111111111111111,\"#46039f\"],[0.2222222222222222,\"#7201a8\"],[0.3333333333333333,\"#9c179e\"],[0.4444444444444444,\"#bd3786\"],[0.5555555555555556,\"#d8576b\"],[0.6666666666666666,\"#ed7953\"],[0.7777777777777778,\"#fb9f3a\"],[0.8888888888888888,\"#fdca26\"],[1.0,\"#f0f921\"]]}],\"contourcarpet\":[{\"type\":\"contourcarpet\",\"colorbar\":{\"outlinewidth\":0,\"ticks\":\"\"}}],\"contour\":[{\"type\":\"contour\",\"colorbar\":{\"outlinewidth\":0,\"ticks\":\"\"},\"colorscale\":[[0.0,\"#0d0887\"],[0.1111111111111111,\"#46039f\"],[0.2222222222222222,\"#7201a8\"],[0.3333333333333333,\"#9c179e\"],[0.4444444444444444,\"#bd3786\"],[0.5555555555555556,\"#d8576b\"],[0.6666666666666666,\"#ed7953\"],[0.7777777777777778,\"#fb9f3a\"],[0.8888888888888888,\"#fdca26\"],[1.0,\"#f0f921\"]]}],\"surface\":[{\"type\":\"surface\",\"colorbar\":{\"outlinewidth\":0,\"ticks\":\"\"},\"colorscale\":[[0.0,\"#0d0887\"],[0.1111111111111111,\"#46039f\"],[0.2222222222222222,\"#7201a8\"],[0.3333333333333333,\"#9c179e\"],[0.4444444444444444,\"#bd3786\"],[0.5555555555555556,\"#d8576b\"],[0.6666666666666666,\"#ed7953\"],[0.7777777777777778,\"#fb9f3a\"],[0.8888888888888888,\"#fdca26\"],[1.0,\"#f0f921\"]]}],\"mesh3d\":[{\"type\":\"mesh3d\",\"colorbar\":{\"outlinewidth\":0,\"ticks\":\"\"}}],\"scatter\":[{\"fillpattern\":{\"fillmode\":\"overlay\",\"size\":10,\"solidity\":0.2},\"type\":\"scatter\"}],\"parcoords\":[{\"type\":\"parcoords\",\"line\":{\"colorbar\":{\"outlinewidth\":0,\"ticks\":\"\"}}}],\"scatterpolargl\":[{\"type\":\"scatterpolargl\",\"marker\":{\"colorbar\":{\"outlinewidth\":0,\"ticks\":\"\"}}}],\"bar\":[{\"error_x\":{\"color\":\"#2a3f5f\"},\"error_y\":{\"color\":\"#2a3f5f\"},\"marker\":{\"line\":{\"color\":\"#E5ECF6\",\"width\":0.5},\"pattern\":{\"fillmode\":\"overlay\",\"size\":10,\"solidity\":0.2}},\"type\":\"bar\"}],\"scattergeo\":[{\"type\":\"scattergeo\",\"marker\":{\"colorbar\":{\"outlinewidth\":0,\"ticks\":\"\"}}}],\"scatterpolar\":[{\"type\":\"scatterpolar\",\"marker\":{\"colorbar\":{\"outlinewidth\":0,\"ticks\":\"\"}}}],\"histogram\":[{\"marker\":{\"pattern\":{\"fillmode\":\"overlay\",\"size\":10,\"solidity\":0.2}},\"type\":\"histogram\"}],\"scattergl\":[{\"type\":\"scattergl\",\"marker\":{\"colorbar\":{\"outlinewidth\":0,\"ticks\":\"\"}}}],\"scatter3d\":[{\"type\":\"scatter3d\",\"line\":{\"colorbar\":{\"outlinewidth\":0,\"ticks\":\"\"}},\"marker\":{\"colorbar\":{\"outlinewidth\":0,\"ticks\":\"\"}}}],\"scattermapbox\":[{\"type\":\"scattermapbox\",\"marker\":{\"colorbar\":{\"outlinewidth\":0,\"ticks\":\"\"}}}],\"scatterternary\":[{\"type\":\"scatterternary\",\"marker\":{\"colorbar\":{\"outlinewidth\":0,\"ticks\":\"\"}}}],\"scattercarpet\":[{\"type\":\"scattercarpet\",\"marker\":{\"colorbar\":{\"outlinewidth\":0,\"ticks\":\"\"}}}],\"carpet\":[{\"aaxis\":{\"endlinecolor\":\"#2a3f5f\",\"gridcolor\":\"white\",\"linecolor\":\"white\",\"minorgridcolor\":\"white\",\"startlinecolor\":\"#2a3f5f\"},\"baxis\":{\"endlinecolor\":\"#2a3f5f\",\"gridcolor\":\"white\",\"linecolor\":\"white\",\"minorgridcolor\":\"white\",\"startlinecolor\":\"#2a3f5f\"},\"type\":\"carpet\"}],\"table\":[{\"cells\":{\"fill\":{\"color\":\"#EBF0F8\"},\"line\":{\"color\":\"white\"}},\"header\":{\"fill\":{\"color\":\"#C8D4E3\"},\"line\":{\"color\":\"white\"}},\"type\":\"table\"}],\"barpolar\":[{\"marker\":{\"line\":{\"color\":\"#E5ECF6\",\"width\":0.5},\"pattern\":{\"fillmode\":\"overlay\",\"size\":10,\"solidity\":0.2}},\"type\":\"barpolar\"}],\"pie\":[{\"automargin\":true,\"type\":\"pie\"}]},\"layout\":{\"autotypenumbers\":\"strict\",\"colorway\":[\"#636efa\",\"#EF553B\",\"#00cc96\",\"#ab63fa\",\"#FFA15A\",\"#19d3f3\",\"#FF6692\",\"#B6E880\",\"#FF97FF\",\"#FECB52\"],\"font\":{\"color\":\"#2a3f5f\"},\"hovermode\":\"closest\",\"hoverlabel\":{\"align\":\"left\"},\"paper_bgcolor\":\"white\",\"plot_bgcolor\":\"#E5ECF6\",\"polar\":{\"bgcolor\":\"#E5ECF6\",\"angularaxis\":{\"gridcolor\":\"white\",\"linecolor\":\"white\",\"ticks\":\"\"},\"radialaxis\":{\"gridcolor\":\"white\",\"linecolor\":\"white\",\"ticks\":\"\"}},\"ternary\":{\"bgcolor\":\"#E5ECF6\",\"aaxis\":{\"gridcolor\":\"white\",\"linecolor\":\"white\",\"ticks\":\"\"},\"baxis\":{\"gridcolor\":\"white\",\"linecolor\":\"white\",\"ticks\":\"\"},\"caxis\":{\"gridcolor\":\"white\",\"linecolor\":\"white\",\"ticks\":\"\"}},\"coloraxis\":{\"colorbar\":{\"outlinewidth\":0,\"ticks\":\"\"}},\"colorscale\":{\"sequential\":[[0.0,\"#0d0887\"],[0.1111111111111111,\"#46039f\"],[0.2222222222222222,\"#7201a8\"],[0.3333333333333333,\"#9c179e\"],[0.4444444444444444,\"#bd3786\"],[0.5555555555555556,\"#d8576b\"],[0.6666666666666666,\"#ed7953\"],[0.7777777777777778,\"#fb9f3a\"],[0.8888888888888888,\"#fdca26\"],[1.0,\"#f0f921\"]],\"sequentialminus\":[[0.0,\"#0d0887\"],[0.1111111111111111,\"#46039f\"],[0.2222222222222222,\"#7201a8\"],[0.3333333333333333,\"#9c179e\"],[0.4444444444444444,\"#bd3786\"],[0.5555555555555556,\"#d8576b\"],[0.6666666666666666,\"#ed7953\"],[0.7777777777777778,\"#fb9f3a\"],[0.8888888888888888,\"#fdca26\"],[1.0,\"#f0f921\"]],\"diverging\":[[0,\"#8e0152\"],[0.1,\"#c51b7d\"],[0.2,\"#de77ae\"],[0.3,\"#f1b6da\"],[0.4,\"#fde0ef\"],[0.5,\"#f7f7f7\"],[0.6,\"#e6f5d0\"],[0.7,\"#b8e186\"],[0.8,\"#7fbc41\"],[0.9,\"#4d9221\"],[1,\"#276419\"]]},\"xaxis\":{\"gridcolor\":\"white\",\"linecolor\":\"white\",\"ticks\":\"\",\"title\":{\"standoff\":15},\"zerolinecolor\":\"white\",\"automargin\":true,\"zerolinewidth\":2},\"yaxis\":{\"gridcolor\":\"white\",\"linecolor\":\"white\",\"ticks\":\"\",\"title\":{\"standoff\":15},\"zerolinecolor\":\"white\",\"automargin\":true,\"zerolinewidth\":2},\"scene\":{\"xaxis\":{\"backgroundcolor\":\"#E5ECF6\",\"gridcolor\":\"white\",\"linecolor\":\"white\",\"showbackground\":true,\"ticks\":\"\",\"zerolinecolor\":\"white\",\"gridwidth\":2},\"yaxis\":{\"backgroundcolor\":\"#E5ECF6\",\"gridcolor\":\"white\",\"linecolor\":\"white\",\"showbackground\":true,\"ticks\":\"\",\"zerolinecolor\":\"white\",\"gridwidth\":2},\"zaxis\":{\"backgroundcolor\":\"#E5ECF6\",\"gridcolor\":\"white\",\"linecolor\":\"white\",\"showbackground\":true,\"ticks\":\"\",\"zerolinecolor\":\"white\",\"gridwidth\":2}},\"shapedefaults\":{\"line\":{\"color\":\"#2a3f5f\"}},\"annotationdefaults\":{\"arrowcolor\":\"#2a3f5f\",\"arrowhead\":0,\"arrowwidth\":1},\"geo\":{\"bgcolor\":\"white\",\"landcolor\":\"#E5ECF6\",\"subunitcolor\":\"white\",\"showland\":true,\"showlakes\":true,\"lakecolor\":\"white\"},\"title\":{\"x\":0.05},\"mapbox\":{\"style\":\"light\"}}},\"autosize\":false,\"width\":1500,\"height\":500},                        {\"responsive\": true}                    ).then(function(){\n",
       "                            \n",
       "var gd = document.getElementById('1900f4e0-a260-4be3-a433-c8e2b51355b4');\n",
       "var x = new MutationObserver(function (mutations, observer) {{\n",
       "        var display = window.getComputedStyle(gd).display;\n",
       "        if (!display || display === 'none') {{\n",
       "            console.log([gd, 'removed!']);\n",
       "            Plotly.purge(gd);\n",
       "            observer.disconnect();\n",
       "        }}\n",
       "}});\n",
       "\n",
       "// Listen for the removal of the full notebook cells\n",
       "var notebookContainer = gd.closest('#notebook-container');\n",
       "if (notebookContainer) {{\n",
       "    x.observe(notebookContainer, {childList: true});\n",
       "}}\n",
       "\n",
       "// Listen for the clearing of the current output cell\n",
       "var outputEl = gd.closest('.output');\n",
       "if (outputEl) {{\n",
       "    x.observe(outputEl, {childList: true});\n",
       "}}\n",
       "\n",
       "                        })                };                });            </script>        </div>"
      ]
     },
     "metadata": {},
     "output_type": "display_data"
    }
   ],
   "source": [
    "fig = go.Figure()\n",
    "\n",
    "for index, row in week_data.iterrows():\n",
    "    fig.add_trace(go.Funnel(\n",
    "        name = week_data[0][index],\n",
    "        y = [\"Регистрации аккаунтов\", \"Регистрации на игру\", \"Пришедшие на игру\"],\n",
    "        x = row[2:4],\n",
    "        textinfo = \"value+percent previous\"))\n",
    "\n",
    "fig.update_layout(\n",
    "    autosize=False,\n",
    "    width=1500,\n",
    "    height=500\n",
    ")    \n",
    "\n",
    "fig.show()"
   ]
  },
  {
   "cell_type": "code",
   "execution_count": 201,
   "id": "dc00ce73",
   "metadata": {},
   "outputs": [
    {
     "data": {
      "application/vnd.plotly.v1+json": {
       "config": {
        "plotlyServerURL": "https://plot.ly"
       },
       "data": [
        {
         "name": "01.09",
         "textinfo": "value+percent previous",
         "type": "funnel",
         "x": [
          10,
          7
         ],
         "y": [
          "Регистрации на игру",
          "Пришедшие на игру"
         ]
        },
        {
         "name": "08.09",
         "textinfo": "value+percent previous",
         "type": "funnel",
         "x": [
          13,
          10
         ],
         "y": [
          "Регистрации на игру",
          "Пришедшие на игру"
         ]
        },
        {
         "name": "15.09",
         "textinfo": "value+percent previous",
         "type": "funnel",
         "x": [
          10,
          5
         ],
         "y": [
          "Регистрации на игру",
          "Пришедшие на игру"
         ]
        },
        {
         "name": "22.09",
         "textinfo": "value+percent previous",
         "type": "funnel",
         "x": [
          16,
          15
         ],
         "y": [
          "Регистрации на игру",
          "Пришедшие на игру"
         ]
        },
        {
         "name": "29.09",
         "textinfo": "value+percent previous",
         "type": "funnel",
         "x": [
          19,
          18
         ],
         "y": [
          "Регистрации на игру",
          "Пришедшие на игру"
         ]
        },
        {
         "name": "06.10",
         "textinfo": "value+percent previous",
         "type": "funnel",
         "x": [
          10,
          8
         ],
         "y": [
          "Регистрации на игру",
          "Пришедшие на игру"
         ]
        },
        {
         "name": "13.10",
         "textinfo": "value+percent previous",
         "type": "funnel",
         "x": [
          14,
          13
         ],
         "y": [
          "Регистрации на игру",
          "Пришедшие на игру"
         ]
        },
        {
         "name": "20.10",
         "textinfo": "value+percent previous",
         "type": "funnel",
         "x": [
          12,
          10
         ],
         "y": [
          "Регистрации на игру",
          "Пришедшие на игру"
         ]
        },
        {
         "name": "27.10",
         "textinfo": "value+percent previous",
         "type": "funnel",
         "x": [
          15,
          12
         ],
         "y": [
          "Регистрации на игру",
          "Пришедшие на игру"
         ]
        },
        {
         "name": "03.11",
         "textinfo": "value+percent previous",
         "type": "funnel",
         "x": [
          17,
          15
         ],
         "y": [
          "Регистрации на игру",
          "Пришедшие на игру"
         ]
        },
        {
         "name": "10.11",
         "textinfo": "value+percent previous",
         "type": "funnel",
         "x": [
          10,
          8
         ],
         "y": [
          "Регистрации на игру",
          "Пришедшие на игру"
         ]
        },
        {
         "name": "17.11",
         "textinfo": "value+percent previous",
         "type": "funnel",
         "x": [
          13,
          12
         ],
         "y": [
          "Регистрации на игру",
          "Пришедшие на игру"
         ]
        },
        {
         "name": "24.11",
         "textinfo": "value+percent previous",
         "type": "funnel",
         "x": [
          13,
          12
         ],
         "y": [
          "Регистрации на игру",
          "Пришедшие на игру"
         ]
        },
        {
         "name": "01.12",
         "textinfo": "value+percent previous",
         "type": "funnel",
         "x": [
          10,
          8
         ],
         "y": [
          "Регистрации на игру",
          "Пришедшие на игру"
         ]
        },
        {
         "name": "08.12",
         "textinfo": "value+percent previous",
         "type": "funnel",
         "x": [
          18,
          13
         ],
         "y": [
          "Регистрации на игру",
          "Пришедшие на игру"
         ]
        },
        {
         "name": "15.12",
         "textinfo": "value+percent previous",
         "type": "funnel",
         "x": [
          13,
          5
         ],
         "y": [
          "Регистрации на игру",
          "Пришедшие на игру"
         ]
        },
        {
         "name": "22.12",
         "textinfo": "value+percent previous",
         "type": "funnel",
         "x": [
          12,
          5
         ],
         "y": [
          "Регистрации на игру",
          "Пришедшие на игру"
         ]
        },
        {
         "name": "29.12",
         "textinfo": "value+percent previous",
         "type": "funnel",
         "x": [
          14,
          4
         ],
         "y": [
          "Регистрации на игру",
          "Пришедшие на игру"
         ]
        },
        {
         "name": "05.01",
         "textinfo": "value+percent previous",
         "type": "funnel",
         "x": [
          17,
          7
         ],
         "y": [
          "Регистрации на игру",
          "Пришедшие на игру"
         ]
        },
        {
         "name": "12.01",
         "textinfo": "value+percent previous",
         "type": "funnel",
         "x": [
          9,
          2
         ],
         "y": [
          "Регистрации на игру",
          "Пришедшие на игру"
         ]
        },
        {
         "name": "19.01",
         "textinfo": "value+percent previous",
         "type": "funnel",
         "x": [
          14,
          7
         ],
         "y": [
          "Регистрации на игру",
          "Пришедшие на игру"
         ]
        },
        {
         "name": "26.01",
         "textinfo": "value+percent previous",
         "type": "funnel",
         "x": [
          14,
          2
         ],
         "y": [
          "Регистрации на игру",
          "Пришедшие на игру"
         ]
        },
        {
         "name": "02.02",
         "textinfo": "value+percent previous",
         "type": "funnel",
         "x": [
          0,
          0
         ],
         "y": [
          "Регистрации на игру",
          "Пришедшие на игру"
         ]
        }
       ],
       "layout": {
        "template": {
         "data": {
          "bar": [
           {
            "error_x": {
             "color": "#2a3f5f"
            },
            "error_y": {
             "color": "#2a3f5f"
            },
            "marker": {
             "line": {
              "color": "#E5ECF6",
              "width": 0.5
             },
             "pattern": {
              "fillmode": "overlay",
              "size": 10,
              "solidity": 0.2
             }
            },
            "type": "bar"
           }
          ],
          "barpolar": [
           {
            "marker": {
             "line": {
              "color": "#E5ECF6",
              "width": 0.5
             },
             "pattern": {
              "fillmode": "overlay",
              "size": 10,
              "solidity": 0.2
             }
            },
            "type": "barpolar"
           }
          ],
          "carpet": [
           {
            "aaxis": {
             "endlinecolor": "#2a3f5f",
             "gridcolor": "white",
             "linecolor": "white",
             "minorgridcolor": "white",
             "startlinecolor": "#2a3f5f"
            },
            "baxis": {
             "endlinecolor": "#2a3f5f",
             "gridcolor": "white",
             "linecolor": "white",
             "minorgridcolor": "white",
             "startlinecolor": "#2a3f5f"
            },
            "type": "carpet"
           }
          ],
          "choropleth": [
           {
            "colorbar": {
             "outlinewidth": 0,
             "ticks": ""
            },
            "type": "choropleth"
           }
          ],
          "contour": [
           {
            "colorbar": {
             "outlinewidth": 0,
             "ticks": ""
            },
            "colorscale": [
             [
              0,
              "#0d0887"
             ],
             [
              0.1111111111111111,
              "#46039f"
             ],
             [
              0.2222222222222222,
              "#7201a8"
             ],
             [
              0.3333333333333333,
              "#9c179e"
             ],
             [
              0.4444444444444444,
              "#bd3786"
             ],
             [
              0.5555555555555556,
              "#d8576b"
             ],
             [
              0.6666666666666666,
              "#ed7953"
             ],
             [
              0.7777777777777778,
              "#fb9f3a"
             ],
             [
              0.8888888888888888,
              "#fdca26"
             ],
             [
              1,
              "#f0f921"
             ]
            ],
            "type": "contour"
           }
          ],
          "contourcarpet": [
           {
            "colorbar": {
             "outlinewidth": 0,
             "ticks": ""
            },
            "type": "contourcarpet"
           }
          ],
          "heatmap": [
           {
            "colorbar": {
             "outlinewidth": 0,
             "ticks": ""
            },
            "colorscale": [
             [
              0,
              "#0d0887"
             ],
             [
              0.1111111111111111,
              "#46039f"
             ],
             [
              0.2222222222222222,
              "#7201a8"
             ],
             [
              0.3333333333333333,
              "#9c179e"
             ],
             [
              0.4444444444444444,
              "#bd3786"
             ],
             [
              0.5555555555555556,
              "#d8576b"
             ],
             [
              0.6666666666666666,
              "#ed7953"
             ],
             [
              0.7777777777777778,
              "#fb9f3a"
             ],
             [
              0.8888888888888888,
              "#fdca26"
             ],
             [
              1,
              "#f0f921"
             ]
            ],
            "type": "heatmap"
           }
          ],
          "heatmapgl": [
           {
            "colorbar": {
             "outlinewidth": 0,
             "ticks": ""
            },
            "colorscale": [
             [
              0,
              "#0d0887"
             ],
             [
              0.1111111111111111,
              "#46039f"
             ],
             [
              0.2222222222222222,
              "#7201a8"
             ],
             [
              0.3333333333333333,
              "#9c179e"
             ],
             [
              0.4444444444444444,
              "#bd3786"
             ],
             [
              0.5555555555555556,
              "#d8576b"
             ],
             [
              0.6666666666666666,
              "#ed7953"
             ],
             [
              0.7777777777777778,
              "#fb9f3a"
             ],
             [
              0.8888888888888888,
              "#fdca26"
             ],
             [
              1,
              "#f0f921"
             ]
            ],
            "type": "heatmapgl"
           }
          ],
          "histogram": [
           {
            "marker": {
             "pattern": {
              "fillmode": "overlay",
              "size": 10,
              "solidity": 0.2
             }
            },
            "type": "histogram"
           }
          ],
          "histogram2d": [
           {
            "colorbar": {
             "outlinewidth": 0,
             "ticks": ""
            },
            "colorscale": [
             [
              0,
              "#0d0887"
             ],
             [
              0.1111111111111111,
              "#46039f"
             ],
             [
              0.2222222222222222,
              "#7201a8"
             ],
             [
              0.3333333333333333,
              "#9c179e"
             ],
             [
              0.4444444444444444,
              "#bd3786"
             ],
             [
              0.5555555555555556,
              "#d8576b"
             ],
             [
              0.6666666666666666,
              "#ed7953"
             ],
             [
              0.7777777777777778,
              "#fb9f3a"
             ],
             [
              0.8888888888888888,
              "#fdca26"
             ],
             [
              1,
              "#f0f921"
             ]
            ],
            "type": "histogram2d"
           }
          ],
          "histogram2dcontour": [
           {
            "colorbar": {
             "outlinewidth": 0,
             "ticks": ""
            },
            "colorscale": [
             [
              0,
              "#0d0887"
             ],
             [
              0.1111111111111111,
              "#46039f"
             ],
             [
              0.2222222222222222,
              "#7201a8"
             ],
             [
              0.3333333333333333,
              "#9c179e"
             ],
             [
              0.4444444444444444,
              "#bd3786"
             ],
             [
              0.5555555555555556,
              "#d8576b"
             ],
             [
              0.6666666666666666,
              "#ed7953"
             ],
             [
              0.7777777777777778,
              "#fb9f3a"
             ],
             [
              0.8888888888888888,
              "#fdca26"
             ],
             [
              1,
              "#f0f921"
             ]
            ],
            "type": "histogram2dcontour"
           }
          ],
          "mesh3d": [
           {
            "colorbar": {
             "outlinewidth": 0,
             "ticks": ""
            },
            "type": "mesh3d"
           }
          ],
          "parcoords": [
           {
            "line": {
             "colorbar": {
              "outlinewidth": 0,
              "ticks": ""
             }
            },
            "type": "parcoords"
           }
          ],
          "pie": [
           {
            "automargin": true,
            "type": "pie"
           }
          ],
          "scatter": [
           {
            "fillpattern": {
             "fillmode": "overlay",
             "size": 10,
             "solidity": 0.2
            },
            "type": "scatter"
           }
          ],
          "scatter3d": [
           {
            "line": {
             "colorbar": {
              "outlinewidth": 0,
              "ticks": ""
             }
            },
            "marker": {
             "colorbar": {
              "outlinewidth": 0,
              "ticks": ""
             }
            },
            "type": "scatter3d"
           }
          ],
          "scattercarpet": [
           {
            "marker": {
             "colorbar": {
              "outlinewidth": 0,
              "ticks": ""
             }
            },
            "type": "scattercarpet"
           }
          ],
          "scattergeo": [
           {
            "marker": {
             "colorbar": {
              "outlinewidth": 0,
              "ticks": ""
             }
            },
            "type": "scattergeo"
           }
          ],
          "scattergl": [
           {
            "marker": {
             "colorbar": {
              "outlinewidth": 0,
              "ticks": ""
             }
            },
            "type": "scattergl"
           }
          ],
          "scattermapbox": [
           {
            "marker": {
             "colorbar": {
              "outlinewidth": 0,
              "ticks": ""
             }
            },
            "type": "scattermapbox"
           }
          ],
          "scatterpolar": [
           {
            "marker": {
             "colorbar": {
              "outlinewidth": 0,
              "ticks": ""
             }
            },
            "type": "scatterpolar"
           }
          ],
          "scatterpolargl": [
           {
            "marker": {
             "colorbar": {
              "outlinewidth": 0,
              "ticks": ""
             }
            },
            "type": "scatterpolargl"
           }
          ],
          "scatterternary": [
           {
            "marker": {
             "colorbar": {
              "outlinewidth": 0,
              "ticks": ""
             }
            },
            "type": "scatterternary"
           }
          ],
          "surface": [
           {
            "colorbar": {
             "outlinewidth": 0,
             "ticks": ""
            },
            "colorscale": [
             [
              0,
              "#0d0887"
             ],
             [
              0.1111111111111111,
              "#46039f"
             ],
             [
              0.2222222222222222,
              "#7201a8"
             ],
             [
              0.3333333333333333,
              "#9c179e"
             ],
             [
              0.4444444444444444,
              "#bd3786"
             ],
             [
              0.5555555555555556,
              "#d8576b"
             ],
             [
              0.6666666666666666,
              "#ed7953"
             ],
             [
              0.7777777777777778,
              "#fb9f3a"
             ],
             [
              0.8888888888888888,
              "#fdca26"
             ],
             [
              1,
              "#f0f921"
             ]
            ],
            "type": "surface"
           }
          ],
          "table": [
           {
            "cells": {
             "fill": {
              "color": "#EBF0F8"
             },
             "line": {
              "color": "white"
             }
            },
            "header": {
             "fill": {
              "color": "#C8D4E3"
             },
             "line": {
              "color": "white"
             }
            },
            "type": "table"
           }
          ]
         },
         "layout": {
          "annotationdefaults": {
           "arrowcolor": "#2a3f5f",
           "arrowhead": 0,
           "arrowwidth": 1
          },
          "autotypenumbers": "strict",
          "coloraxis": {
           "colorbar": {
            "outlinewidth": 0,
            "ticks": ""
           }
          },
          "colorscale": {
           "diverging": [
            [
             0,
             "#8e0152"
            ],
            [
             0.1,
             "#c51b7d"
            ],
            [
             0.2,
             "#de77ae"
            ],
            [
             0.3,
             "#f1b6da"
            ],
            [
             0.4,
             "#fde0ef"
            ],
            [
             0.5,
             "#f7f7f7"
            ],
            [
             0.6,
             "#e6f5d0"
            ],
            [
             0.7,
             "#b8e186"
            ],
            [
             0.8,
             "#7fbc41"
            ],
            [
             0.9,
             "#4d9221"
            ],
            [
             1,
             "#276419"
            ]
           ],
           "sequential": [
            [
             0,
             "#0d0887"
            ],
            [
             0.1111111111111111,
             "#46039f"
            ],
            [
             0.2222222222222222,
             "#7201a8"
            ],
            [
             0.3333333333333333,
             "#9c179e"
            ],
            [
             0.4444444444444444,
             "#bd3786"
            ],
            [
             0.5555555555555556,
             "#d8576b"
            ],
            [
             0.6666666666666666,
             "#ed7953"
            ],
            [
             0.7777777777777778,
             "#fb9f3a"
            ],
            [
             0.8888888888888888,
             "#fdca26"
            ],
            [
             1,
             "#f0f921"
            ]
           ],
           "sequentialminus": [
            [
             0,
             "#0d0887"
            ],
            [
             0.1111111111111111,
             "#46039f"
            ],
            [
             0.2222222222222222,
             "#7201a8"
            ],
            [
             0.3333333333333333,
             "#9c179e"
            ],
            [
             0.4444444444444444,
             "#bd3786"
            ],
            [
             0.5555555555555556,
             "#d8576b"
            ],
            [
             0.6666666666666666,
             "#ed7953"
            ],
            [
             0.7777777777777778,
             "#fb9f3a"
            ],
            [
             0.8888888888888888,
             "#fdca26"
            ],
            [
             1,
             "#f0f921"
            ]
           ]
          },
          "colorway": [
           "#636efa",
           "#EF553B",
           "#00cc96",
           "#ab63fa",
           "#FFA15A",
           "#19d3f3",
           "#FF6692",
           "#B6E880",
           "#FF97FF",
           "#FECB52"
          ],
          "font": {
           "color": "#2a3f5f"
          },
          "geo": {
           "bgcolor": "white",
           "lakecolor": "white",
           "landcolor": "#E5ECF6",
           "showlakes": true,
           "showland": true,
           "subunitcolor": "white"
          },
          "hoverlabel": {
           "align": "left"
          },
          "hovermode": "closest",
          "mapbox": {
           "style": "light"
          },
          "paper_bgcolor": "white",
          "plot_bgcolor": "#E5ECF6",
          "polar": {
           "angularaxis": {
            "gridcolor": "white",
            "linecolor": "white",
            "ticks": ""
           },
           "bgcolor": "#E5ECF6",
           "radialaxis": {
            "gridcolor": "white",
            "linecolor": "white",
            "ticks": ""
           }
          },
          "scene": {
           "xaxis": {
            "backgroundcolor": "#E5ECF6",
            "gridcolor": "white",
            "gridwidth": 2,
            "linecolor": "white",
            "showbackground": true,
            "ticks": "",
            "zerolinecolor": "white"
           },
           "yaxis": {
            "backgroundcolor": "#E5ECF6",
            "gridcolor": "white",
            "gridwidth": 2,
            "linecolor": "white",
            "showbackground": true,
            "ticks": "",
            "zerolinecolor": "white"
           },
           "zaxis": {
            "backgroundcolor": "#E5ECF6",
            "gridcolor": "white",
            "gridwidth": 2,
            "linecolor": "white",
            "showbackground": true,
            "ticks": "",
            "zerolinecolor": "white"
           }
          },
          "shapedefaults": {
           "line": {
            "color": "#2a3f5f"
           }
          },
          "ternary": {
           "aaxis": {
            "gridcolor": "white",
            "linecolor": "white",
            "ticks": ""
           },
           "baxis": {
            "gridcolor": "white",
            "linecolor": "white",
            "ticks": ""
           },
           "bgcolor": "#E5ECF6",
           "caxis": {
            "gridcolor": "white",
            "linecolor": "white",
            "ticks": ""
           }
          },
          "title": {
           "x": 0.05
          },
          "xaxis": {
           "automargin": true,
           "gridcolor": "white",
           "linecolor": "white",
           "ticks": "",
           "title": {
            "standoff": 15
           },
           "zerolinecolor": "white",
           "zerolinewidth": 2
          },
          "yaxis": {
           "automargin": true,
           "gridcolor": "white",
           "linecolor": "white",
           "ticks": "",
           "title": {
            "standoff": 15
           },
           "zerolinecolor": "white",
           "zerolinewidth": 2
          }
         }
        }
       }
      },
      "text/html": [
       "<div>                            <div id=\"f5616f0e-8936-45ec-8d88-77d3fac29fa1\" class=\"plotly-graph-div\" style=\"height:525px; width:100%;\"></div>            <script type=\"text/javascript\">                require([\"plotly\"], function(Plotly) {                    window.PLOTLYENV=window.PLOTLYENV || {};                                    if (document.getElementById(\"f5616f0e-8936-45ec-8d88-77d3fac29fa1\")) {                    Plotly.newPlot(                        \"f5616f0e-8936-45ec-8d88-77d3fac29fa1\",                        [{\"name\":\"01.09\",\"textinfo\":\"value+percent previous\",\"x\":[10,7],\"y\":[\"\\u0420\\u0435\\u0433\\u0438\\u0441\\u0442\\u0440\\u0430\\u0446\\u0438\\u0438 \\u043d\\u0430 \\u0438\\u0433\\u0440\\u0443\",\"\\u041f\\u0440\\u0438\\u0448\\u0435\\u0434\\u0448\\u0438\\u0435 \\u043d\\u0430 \\u0438\\u0433\\u0440\\u0443\"],\"type\":\"funnel\"},{\"name\":\"08.09\",\"textinfo\":\"value+percent previous\",\"x\":[13,10],\"y\":[\"\\u0420\\u0435\\u0433\\u0438\\u0441\\u0442\\u0440\\u0430\\u0446\\u0438\\u0438 \\u043d\\u0430 \\u0438\\u0433\\u0440\\u0443\",\"\\u041f\\u0440\\u0438\\u0448\\u0435\\u0434\\u0448\\u0438\\u0435 \\u043d\\u0430 \\u0438\\u0433\\u0440\\u0443\"],\"type\":\"funnel\"},{\"name\":\"15.09\",\"textinfo\":\"value+percent previous\",\"x\":[10,5],\"y\":[\"\\u0420\\u0435\\u0433\\u0438\\u0441\\u0442\\u0440\\u0430\\u0446\\u0438\\u0438 \\u043d\\u0430 \\u0438\\u0433\\u0440\\u0443\",\"\\u041f\\u0440\\u0438\\u0448\\u0435\\u0434\\u0448\\u0438\\u0435 \\u043d\\u0430 \\u0438\\u0433\\u0440\\u0443\"],\"type\":\"funnel\"},{\"name\":\"22.09\",\"textinfo\":\"value+percent previous\",\"x\":[16,15],\"y\":[\"\\u0420\\u0435\\u0433\\u0438\\u0441\\u0442\\u0440\\u0430\\u0446\\u0438\\u0438 \\u043d\\u0430 \\u0438\\u0433\\u0440\\u0443\",\"\\u041f\\u0440\\u0438\\u0448\\u0435\\u0434\\u0448\\u0438\\u0435 \\u043d\\u0430 \\u0438\\u0433\\u0440\\u0443\"],\"type\":\"funnel\"},{\"name\":\"29.09\",\"textinfo\":\"value+percent previous\",\"x\":[19,18],\"y\":[\"\\u0420\\u0435\\u0433\\u0438\\u0441\\u0442\\u0440\\u0430\\u0446\\u0438\\u0438 \\u043d\\u0430 \\u0438\\u0433\\u0440\\u0443\",\"\\u041f\\u0440\\u0438\\u0448\\u0435\\u0434\\u0448\\u0438\\u0435 \\u043d\\u0430 \\u0438\\u0433\\u0440\\u0443\"],\"type\":\"funnel\"},{\"name\":\"06.10\",\"textinfo\":\"value+percent previous\",\"x\":[10,8],\"y\":[\"\\u0420\\u0435\\u0433\\u0438\\u0441\\u0442\\u0440\\u0430\\u0446\\u0438\\u0438 \\u043d\\u0430 \\u0438\\u0433\\u0440\\u0443\",\"\\u041f\\u0440\\u0438\\u0448\\u0435\\u0434\\u0448\\u0438\\u0435 \\u043d\\u0430 \\u0438\\u0433\\u0440\\u0443\"],\"type\":\"funnel\"},{\"name\":\"13.10\",\"textinfo\":\"value+percent previous\",\"x\":[14,13],\"y\":[\"\\u0420\\u0435\\u0433\\u0438\\u0441\\u0442\\u0440\\u0430\\u0446\\u0438\\u0438 \\u043d\\u0430 \\u0438\\u0433\\u0440\\u0443\",\"\\u041f\\u0440\\u0438\\u0448\\u0435\\u0434\\u0448\\u0438\\u0435 \\u043d\\u0430 \\u0438\\u0433\\u0440\\u0443\"],\"type\":\"funnel\"},{\"name\":\"20.10\",\"textinfo\":\"value+percent previous\",\"x\":[12,10],\"y\":[\"\\u0420\\u0435\\u0433\\u0438\\u0441\\u0442\\u0440\\u0430\\u0446\\u0438\\u0438 \\u043d\\u0430 \\u0438\\u0433\\u0440\\u0443\",\"\\u041f\\u0440\\u0438\\u0448\\u0435\\u0434\\u0448\\u0438\\u0435 \\u043d\\u0430 \\u0438\\u0433\\u0440\\u0443\"],\"type\":\"funnel\"},{\"name\":\"27.10\",\"textinfo\":\"value+percent previous\",\"x\":[15,12],\"y\":[\"\\u0420\\u0435\\u0433\\u0438\\u0441\\u0442\\u0440\\u0430\\u0446\\u0438\\u0438 \\u043d\\u0430 \\u0438\\u0433\\u0440\\u0443\",\"\\u041f\\u0440\\u0438\\u0448\\u0435\\u0434\\u0448\\u0438\\u0435 \\u043d\\u0430 \\u0438\\u0433\\u0440\\u0443\"],\"type\":\"funnel\"},{\"name\":\"03.11\",\"textinfo\":\"value+percent previous\",\"x\":[17,15],\"y\":[\"\\u0420\\u0435\\u0433\\u0438\\u0441\\u0442\\u0440\\u0430\\u0446\\u0438\\u0438 \\u043d\\u0430 \\u0438\\u0433\\u0440\\u0443\",\"\\u041f\\u0440\\u0438\\u0448\\u0435\\u0434\\u0448\\u0438\\u0435 \\u043d\\u0430 \\u0438\\u0433\\u0440\\u0443\"],\"type\":\"funnel\"},{\"name\":\"10.11\",\"textinfo\":\"value+percent previous\",\"x\":[10,8],\"y\":[\"\\u0420\\u0435\\u0433\\u0438\\u0441\\u0442\\u0440\\u0430\\u0446\\u0438\\u0438 \\u043d\\u0430 \\u0438\\u0433\\u0440\\u0443\",\"\\u041f\\u0440\\u0438\\u0448\\u0435\\u0434\\u0448\\u0438\\u0435 \\u043d\\u0430 \\u0438\\u0433\\u0440\\u0443\"],\"type\":\"funnel\"},{\"name\":\"17.11\",\"textinfo\":\"value+percent previous\",\"x\":[13,12],\"y\":[\"\\u0420\\u0435\\u0433\\u0438\\u0441\\u0442\\u0440\\u0430\\u0446\\u0438\\u0438 \\u043d\\u0430 \\u0438\\u0433\\u0440\\u0443\",\"\\u041f\\u0440\\u0438\\u0448\\u0435\\u0434\\u0448\\u0438\\u0435 \\u043d\\u0430 \\u0438\\u0433\\u0440\\u0443\"],\"type\":\"funnel\"},{\"name\":\"24.11\",\"textinfo\":\"value+percent previous\",\"x\":[13,12],\"y\":[\"\\u0420\\u0435\\u0433\\u0438\\u0441\\u0442\\u0440\\u0430\\u0446\\u0438\\u0438 \\u043d\\u0430 \\u0438\\u0433\\u0440\\u0443\",\"\\u041f\\u0440\\u0438\\u0448\\u0435\\u0434\\u0448\\u0438\\u0435 \\u043d\\u0430 \\u0438\\u0433\\u0440\\u0443\"],\"type\":\"funnel\"},{\"name\":\"01.12\",\"textinfo\":\"value+percent previous\",\"x\":[10,8],\"y\":[\"\\u0420\\u0435\\u0433\\u0438\\u0441\\u0442\\u0440\\u0430\\u0446\\u0438\\u0438 \\u043d\\u0430 \\u0438\\u0433\\u0440\\u0443\",\"\\u041f\\u0440\\u0438\\u0448\\u0435\\u0434\\u0448\\u0438\\u0435 \\u043d\\u0430 \\u0438\\u0433\\u0440\\u0443\"],\"type\":\"funnel\"},{\"name\":\"08.12\",\"textinfo\":\"value+percent previous\",\"x\":[18,13],\"y\":[\"\\u0420\\u0435\\u0433\\u0438\\u0441\\u0442\\u0440\\u0430\\u0446\\u0438\\u0438 \\u043d\\u0430 \\u0438\\u0433\\u0440\\u0443\",\"\\u041f\\u0440\\u0438\\u0448\\u0435\\u0434\\u0448\\u0438\\u0435 \\u043d\\u0430 \\u0438\\u0433\\u0440\\u0443\"],\"type\":\"funnel\"},{\"name\":\"15.12\",\"textinfo\":\"value+percent previous\",\"x\":[13,5],\"y\":[\"\\u0420\\u0435\\u0433\\u0438\\u0441\\u0442\\u0440\\u0430\\u0446\\u0438\\u0438 \\u043d\\u0430 \\u0438\\u0433\\u0440\\u0443\",\"\\u041f\\u0440\\u0438\\u0448\\u0435\\u0434\\u0448\\u0438\\u0435 \\u043d\\u0430 \\u0438\\u0433\\u0440\\u0443\"],\"type\":\"funnel\"},{\"name\":\"22.12\",\"textinfo\":\"value+percent previous\",\"x\":[12,5],\"y\":[\"\\u0420\\u0435\\u0433\\u0438\\u0441\\u0442\\u0440\\u0430\\u0446\\u0438\\u0438 \\u043d\\u0430 \\u0438\\u0433\\u0440\\u0443\",\"\\u041f\\u0440\\u0438\\u0448\\u0435\\u0434\\u0448\\u0438\\u0435 \\u043d\\u0430 \\u0438\\u0433\\u0440\\u0443\"],\"type\":\"funnel\"},{\"name\":\"29.12\",\"textinfo\":\"value+percent previous\",\"x\":[14,4],\"y\":[\"\\u0420\\u0435\\u0433\\u0438\\u0441\\u0442\\u0440\\u0430\\u0446\\u0438\\u0438 \\u043d\\u0430 \\u0438\\u0433\\u0440\\u0443\",\"\\u041f\\u0440\\u0438\\u0448\\u0435\\u0434\\u0448\\u0438\\u0435 \\u043d\\u0430 \\u0438\\u0433\\u0440\\u0443\"],\"type\":\"funnel\"},{\"name\":\"05.01\",\"textinfo\":\"value+percent previous\",\"x\":[17,7],\"y\":[\"\\u0420\\u0435\\u0433\\u0438\\u0441\\u0442\\u0440\\u0430\\u0446\\u0438\\u0438 \\u043d\\u0430 \\u0438\\u0433\\u0440\\u0443\",\"\\u041f\\u0440\\u0438\\u0448\\u0435\\u0434\\u0448\\u0438\\u0435 \\u043d\\u0430 \\u0438\\u0433\\u0440\\u0443\"],\"type\":\"funnel\"},{\"name\":\"12.01\",\"textinfo\":\"value+percent previous\",\"x\":[9,2],\"y\":[\"\\u0420\\u0435\\u0433\\u0438\\u0441\\u0442\\u0440\\u0430\\u0446\\u0438\\u0438 \\u043d\\u0430 \\u0438\\u0433\\u0440\\u0443\",\"\\u041f\\u0440\\u0438\\u0448\\u0435\\u0434\\u0448\\u0438\\u0435 \\u043d\\u0430 \\u0438\\u0433\\u0440\\u0443\"],\"type\":\"funnel\"},{\"name\":\"19.01\",\"textinfo\":\"value+percent previous\",\"x\":[14,7],\"y\":[\"\\u0420\\u0435\\u0433\\u0438\\u0441\\u0442\\u0440\\u0430\\u0446\\u0438\\u0438 \\u043d\\u0430 \\u0438\\u0433\\u0440\\u0443\",\"\\u041f\\u0440\\u0438\\u0448\\u0435\\u0434\\u0448\\u0438\\u0435 \\u043d\\u0430 \\u0438\\u0433\\u0440\\u0443\"],\"type\":\"funnel\"},{\"name\":\"26.01\",\"textinfo\":\"value+percent previous\",\"x\":[14,2],\"y\":[\"\\u0420\\u0435\\u0433\\u0438\\u0441\\u0442\\u0440\\u0430\\u0446\\u0438\\u0438 \\u043d\\u0430 \\u0438\\u0433\\u0440\\u0443\",\"\\u041f\\u0440\\u0438\\u0448\\u0435\\u0434\\u0448\\u0438\\u0435 \\u043d\\u0430 \\u0438\\u0433\\u0440\\u0443\"],\"type\":\"funnel\"},{\"name\":\"02.02\",\"textinfo\":\"value+percent previous\",\"x\":[0,0],\"y\":[\"\\u0420\\u0435\\u0433\\u0438\\u0441\\u0442\\u0440\\u0430\\u0446\\u0438\\u0438 \\u043d\\u0430 \\u0438\\u0433\\u0440\\u0443\",\"\\u041f\\u0440\\u0438\\u0448\\u0435\\u0434\\u0448\\u0438\\u0435 \\u043d\\u0430 \\u0438\\u0433\\u0440\\u0443\"],\"type\":\"funnel\"}],                        {\"template\":{\"data\":{\"histogram2dcontour\":[{\"type\":\"histogram2dcontour\",\"colorbar\":{\"outlinewidth\":0,\"ticks\":\"\"},\"colorscale\":[[0.0,\"#0d0887\"],[0.1111111111111111,\"#46039f\"],[0.2222222222222222,\"#7201a8\"],[0.3333333333333333,\"#9c179e\"],[0.4444444444444444,\"#bd3786\"],[0.5555555555555556,\"#d8576b\"],[0.6666666666666666,\"#ed7953\"],[0.7777777777777778,\"#fb9f3a\"],[0.8888888888888888,\"#fdca26\"],[1.0,\"#f0f921\"]]}],\"choropleth\":[{\"type\":\"choropleth\",\"colorbar\":{\"outlinewidth\":0,\"ticks\":\"\"}}],\"histogram2d\":[{\"type\":\"histogram2d\",\"colorbar\":{\"outlinewidth\":0,\"ticks\":\"\"},\"colorscale\":[[0.0,\"#0d0887\"],[0.1111111111111111,\"#46039f\"],[0.2222222222222222,\"#7201a8\"],[0.3333333333333333,\"#9c179e\"],[0.4444444444444444,\"#bd3786\"],[0.5555555555555556,\"#d8576b\"],[0.6666666666666666,\"#ed7953\"],[0.7777777777777778,\"#fb9f3a\"],[0.8888888888888888,\"#fdca26\"],[1.0,\"#f0f921\"]]}],\"heatmap\":[{\"type\":\"heatmap\",\"colorbar\":{\"outlinewidth\":0,\"ticks\":\"\"},\"colorscale\":[[0.0,\"#0d0887\"],[0.1111111111111111,\"#46039f\"],[0.2222222222222222,\"#7201a8\"],[0.3333333333333333,\"#9c179e\"],[0.4444444444444444,\"#bd3786\"],[0.5555555555555556,\"#d8576b\"],[0.6666666666666666,\"#ed7953\"],[0.7777777777777778,\"#fb9f3a\"],[0.8888888888888888,\"#fdca26\"],[1.0,\"#f0f921\"]]}],\"heatmapgl\":[{\"type\":\"heatmapgl\",\"colorbar\":{\"outlinewidth\":0,\"ticks\":\"\"},\"colorscale\":[[0.0,\"#0d0887\"],[0.1111111111111111,\"#46039f\"],[0.2222222222222222,\"#7201a8\"],[0.3333333333333333,\"#9c179e\"],[0.4444444444444444,\"#bd3786\"],[0.5555555555555556,\"#d8576b\"],[0.6666666666666666,\"#ed7953\"],[0.7777777777777778,\"#fb9f3a\"],[0.8888888888888888,\"#fdca26\"],[1.0,\"#f0f921\"]]}],\"contourcarpet\":[{\"type\":\"contourcarpet\",\"colorbar\":{\"outlinewidth\":0,\"ticks\":\"\"}}],\"contour\":[{\"type\":\"contour\",\"colorbar\":{\"outlinewidth\":0,\"ticks\":\"\"},\"colorscale\":[[0.0,\"#0d0887\"],[0.1111111111111111,\"#46039f\"],[0.2222222222222222,\"#7201a8\"],[0.3333333333333333,\"#9c179e\"],[0.4444444444444444,\"#bd3786\"],[0.5555555555555556,\"#d8576b\"],[0.6666666666666666,\"#ed7953\"],[0.7777777777777778,\"#fb9f3a\"],[0.8888888888888888,\"#fdca26\"],[1.0,\"#f0f921\"]]}],\"surface\":[{\"type\":\"surface\",\"colorbar\":{\"outlinewidth\":0,\"ticks\":\"\"},\"colorscale\":[[0.0,\"#0d0887\"],[0.1111111111111111,\"#46039f\"],[0.2222222222222222,\"#7201a8\"],[0.3333333333333333,\"#9c179e\"],[0.4444444444444444,\"#bd3786\"],[0.5555555555555556,\"#d8576b\"],[0.6666666666666666,\"#ed7953\"],[0.7777777777777778,\"#fb9f3a\"],[0.8888888888888888,\"#fdca26\"],[1.0,\"#f0f921\"]]}],\"mesh3d\":[{\"type\":\"mesh3d\",\"colorbar\":{\"outlinewidth\":0,\"ticks\":\"\"}}],\"scatter\":[{\"fillpattern\":{\"fillmode\":\"overlay\",\"size\":10,\"solidity\":0.2},\"type\":\"scatter\"}],\"parcoords\":[{\"type\":\"parcoords\",\"line\":{\"colorbar\":{\"outlinewidth\":0,\"ticks\":\"\"}}}],\"scatterpolargl\":[{\"type\":\"scatterpolargl\",\"marker\":{\"colorbar\":{\"outlinewidth\":0,\"ticks\":\"\"}}}],\"bar\":[{\"error_x\":{\"color\":\"#2a3f5f\"},\"error_y\":{\"color\":\"#2a3f5f\"},\"marker\":{\"line\":{\"color\":\"#E5ECF6\",\"width\":0.5},\"pattern\":{\"fillmode\":\"overlay\",\"size\":10,\"solidity\":0.2}},\"type\":\"bar\"}],\"scattergeo\":[{\"type\":\"scattergeo\",\"marker\":{\"colorbar\":{\"outlinewidth\":0,\"ticks\":\"\"}}}],\"scatterpolar\":[{\"type\":\"scatterpolar\",\"marker\":{\"colorbar\":{\"outlinewidth\":0,\"ticks\":\"\"}}}],\"histogram\":[{\"marker\":{\"pattern\":{\"fillmode\":\"overlay\",\"size\":10,\"solidity\":0.2}},\"type\":\"histogram\"}],\"scattergl\":[{\"type\":\"scattergl\",\"marker\":{\"colorbar\":{\"outlinewidth\":0,\"ticks\":\"\"}}}],\"scatter3d\":[{\"type\":\"scatter3d\",\"line\":{\"colorbar\":{\"outlinewidth\":0,\"ticks\":\"\"}},\"marker\":{\"colorbar\":{\"outlinewidth\":0,\"ticks\":\"\"}}}],\"scattermapbox\":[{\"type\":\"scattermapbox\",\"marker\":{\"colorbar\":{\"outlinewidth\":0,\"ticks\":\"\"}}}],\"scatterternary\":[{\"type\":\"scatterternary\",\"marker\":{\"colorbar\":{\"outlinewidth\":0,\"ticks\":\"\"}}}],\"scattercarpet\":[{\"type\":\"scattercarpet\",\"marker\":{\"colorbar\":{\"outlinewidth\":0,\"ticks\":\"\"}}}],\"carpet\":[{\"aaxis\":{\"endlinecolor\":\"#2a3f5f\",\"gridcolor\":\"white\",\"linecolor\":\"white\",\"minorgridcolor\":\"white\",\"startlinecolor\":\"#2a3f5f\"},\"baxis\":{\"endlinecolor\":\"#2a3f5f\",\"gridcolor\":\"white\",\"linecolor\":\"white\",\"minorgridcolor\":\"white\",\"startlinecolor\":\"#2a3f5f\"},\"type\":\"carpet\"}],\"table\":[{\"cells\":{\"fill\":{\"color\":\"#EBF0F8\"},\"line\":{\"color\":\"white\"}},\"header\":{\"fill\":{\"color\":\"#C8D4E3\"},\"line\":{\"color\":\"white\"}},\"type\":\"table\"}],\"barpolar\":[{\"marker\":{\"line\":{\"color\":\"#E5ECF6\",\"width\":0.5},\"pattern\":{\"fillmode\":\"overlay\",\"size\":10,\"solidity\":0.2}},\"type\":\"barpolar\"}],\"pie\":[{\"automargin\":true,\"type\":\"pie\"}]},\"layout\":{\"autotypenumbers\":\"strict\",\"colorway\":[\"#636efa\",\"#EF553B\",\"#00cc96\",\"#ab63fa\",\"#FFA15A\",\"#19d3f3\",\"#FF6692\",\"#B6E880\",\"#FF97FF\",\"#FECB52\"],\"font\":{\"color\":\"#2a3f5f\"},\"hovermode\":\"closest\",\"hoverlabel\":{\"align\":\"left\"},\"paper_bgcolor\":\"white\",\"plot_bgcolor\":\"#E5ECF6\",\"polar\":{\"bgcolor\":\"#E5ECF6\",\"angularaxis\":{\"gridcolor\":\"white\",\"linecolor\":\"white\",\"ticks\":\"\"},\"radialaxis\":{\"gridcolor\":\"white\",\"linecolor\":\"white\",\"ticks\":\"\"}},\"ternary\":{\"bgcolor\":\"#E5ECF6\",\"aaxis\":{\"gridcolor\":\"white\",\"linecolor\":\"white\",\"ticks\":\"\"},\"baxis\":{\"gridcolor\":\"white\",\"linecolor\":\"white\",\"ticks\":\"\"},\"caxis\":{\"gridcolor\":\"white\",\"linecolor\":\"white\",\"ticks\":\"\"}},\"coloraxis\":{\"colorbar\":{\"outlinewidth\":0,\"ticks\":\"\"}},\"colorscale\":{\"sequential\":[[0.0,\"#0d0887\"],[0.1111111111111111,\"#46039f\"],[0.2222222222222222,\"#7201a8\"],[0.3333333333333333,\"#9c179e\"],[0.4444444444444444,\"#bd3786\"],[0.5555555555555556,\"#d8576b\"],[0.6666666666666666,\"#ed7953\"],[0.7777777777777778,\"#fb9f3a\"],[0.8888888888888888,\"#fdca26\"],[1.0,\"#f0f921\"]],\"sequentialminus\":[[0.0,\"#0d0887\"],[0.1111111111111111,\"#46039f\"],[0.2222222222222222,\"#7201a8\"],[0.3333333333333333,\"#9c179e\"],[0.4444444444444444,\"#bd3786\"],[0.5555555555555556,\"#d8576b\"],[0.6666666666666666,\"#ed7953\"],[0.7777777777777778,\"#fb9f3a\"],[0.8888888888888888,\"#fdca26\"],[1.0,\"#f0f921\"]],\"diverging\":[[0,\"#8e0152\"],[0.1,\"#c51b7d\"],[0.2,\"#de77ae\"],[0.3,\"#f1b6da\"],[0.4,\"#fde0ef\"],[0.5,\"#f7f7f7\"],[0.6,\"#e6f5d0\"],[0.7,\"#b8e186\"],[0.8,\"#7fbc41\"],[0.9,\"#4d9221\"],[1,\"#276419\"]]},\"xaxis\":{\"gridcolor\":\"white\",\"linecolor\":\"white\",\"ticks\":\"\",\"title\":{\"standoff\":15},\"zerolinecolor\":\"white\",\"automargin\":true,\"zerolinewidth\":2},\"yaxis\":{\"gridcolor\":\"white\",\"linecolor\":\"white\",\"ticks\":\"\",\"title\":{\"standoff\":15},\"zerolinecolor\":\"white\",\"automargin\":true,\"zerolinewidth\":2},\"scene\":{\"xaxis\":{\"backgroundcolor\":\"#E5ECF6\",\"gridcolor\":\"white\",\"linecolor\":\"white\",\"showbackground\":true,\"ticks\":\"\",\"zerolinecolor\":\"white\",\"gridwidth\":2},\"yaxis\":{\"backgroundcolor\":\"#E5ECF6\",\"gridcolor\":\"white\",\"linecolor\":\"white\",\"showbackground\":true,\"ticks\":\"\",\"zerolinecolor\":\"white\",\"gridwidth\":2},\"zaxis\":{\"backgroundcolor\":\"#E5ECF6\",\"gridcolor\":\"white\",\"linecolor\":\"white\",\"showbackground\":true,\"ticks\":\"\",\"zerolinecolor\":\"white\",\"gridwidth\":2}},\"shapedefaults\":{\"line\":{\"color\":\"#2a3f5f\"}},\"annotationdefaults\":{\"arrowcolor\":\"#2a3f5f\",\"arrowhead\":0,\"arrowwidth\":1},\"geo\":{\"bgcolor\":\"white\",\"landcolor\":\"#E5ECF6\",\"subunitcolor\":\"white\",\"showland\":true,\"showlakes\":true,\"lakecolor\":\"white\"},\"title\":{\"x\":0.05},\"mapbox\":{\"style\":\"light\"}}}},                        {\"responsive\": true}                    ).then(function(){\n",
       "                            \n",
       "var gd = document.getElementById('f5616f0e-8936-45ec-8d88-77d3fac29fa1');\n",
       "var x = new MutationObserver(function (mutations, observer) {{\n",
       "        var display = window.getComputedStyle(gd).display;\n",
       "        if (!display || display === 'none') {{\n",
       "            console.log([gd, 'removed!']);\n",
       "            Plotly.purge(gd);\n",
       "            observer.disconnect();\n",
       "        }}\n",
       "}});\n",
       "\n",
       "// Listen for the removal of the full notebook cells\n",
       "var notebookContainer = gd.closest('#notebook-container');\n",
       "if (notebookContainer) {{\n",
       "    x.observe(notebookContainer, {childList: true});\n",
       "}}\n",
       "\n",
       "// Listen for the clearing of the current output cell\n",
       "var outputEl = gd.closest('.output');\n",
       "if (outputEl) {{\n",
       "    x.observe(outputEl, {childList: true});\n",
       "}}\n",
       "\n",
       "                        })                };                });            </script>        </div>"
      ]
     },
     "metadata": {},
     "output_type": "display_data"
    }
   ],
   "source": [
    "fig = go.Figure()\n",
    "\n",
    "for index, row in week_data.iterrows():\n",
    "    fig.add_trace(go.Funnel(\n",
    "        name = week_data[0][index],\n",
    "        y = [\"Регистрации на игру\", \"Пришедшие на игру\"],\n",
    "        x = row[3:],\n",
    "        textinfo = \"value+percent previous\"))\n",
    "\n",
    "fig.show()"
   ]
  },
  {
   "cell_type": "markdown",
   "id": "c38336f9",
   "metadata": {},
   "source": [
    "# Выводы, возможные точки роста продукта"
   ]
  },
  {
   "cell_type": "markdown",
   "id": "1585757a",
   "metadata": {},
   "source": [
    "1) Количество посещений сайта в норме. Когда только запустились в сентябре, было поменьше визитов. Потом пошёл рост, в ноябре и декабре чуть просели, но с января снова растёт интерес пользователей\n",
    "\n",
    "2) Каждый четвёртый посетитель регистрирует аккаунт на сайте. Этот ориентир стабилен всё время с начала игр\n",
    "\n",
    "3) Каждый четвёртый из тех, кто зарегистрировал аккаунт, записывается на игру. Этот показатель колеблется, но в целом тут нет чёткой динамики\n",
    "\n",
    "4) Из тех, кто записался на игру, раньше приходило 80-90 процентов. Но с декабря этот показатель в районе 70%, а в январе и вовсе на уровне 30%. Можно подумать, что декабрьские и январские ещё не успели прийти на игру, ведь у нас данные до февраля, НО!\n",
    "\n",
    "Количество регистраций ведь на том же уровне, количество записей на игру на том же уровне. А вот приходить почему-то стали реже. Вряд ли много людей записываются на игру через месяц или через два, обычно планируют в среднем на неделю вперёд. Значит, что-то не так стало. Может быть, перестали приходить напоминалки про игру\n",
    "\n",
    "Соответственно надо как-то стимулировать играть почти всех, кто зарегался на игру (понятно, кроме болезни там и обстоятельств, но это процентов 10). Нужно присылать на почту или по SMS напоминалку о предстоящей игре. Скажем, за сутки на почту и за три часа до игры по SMS. Ещё, может быть, сделать вариант, что отменить запись можно не раньше, чем за три часа до игры, и вот в напоминании прислать, что если планы изменились, то стоит сказать сейчас, иначе всё - поздняк метаться. Чтобы не получалось так, что у нас игры простаивают или отменяются, когда люди в последний момент передумали и не пришли"
   ]
  }
 ],
 "metadata": {
  "kernelspec": {
   "display_name": "Python 3 (ipykernel)",
   "language": "python",
   "name": "python3"
  },
  "language_info": {
   "codemirror_mode": {
    "name": "ipython",
    "version": 3
   },
   "file_extension": ".py",
   "mimetype": "text/x-python",
   "name": "python",
   "nbconvert_exporter": "python",
   "pygments_lexer": "ipython3",
   "version": "3.9.13"
  }
 },
 "nbformat": 4,
 "nbformat_minor": 5
}
